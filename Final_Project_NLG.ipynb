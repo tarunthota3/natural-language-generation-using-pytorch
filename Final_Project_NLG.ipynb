{
  "nbformat": 4,
  "nbformat_minor": 0,
  "metadata": {
    "accelerator": "GPU",
    "colab": {
      "name": "Final_Project_NLG.ipynb",
      "provenance": [],
      "collapsed_sections": [],
      "toc_visible": true
    },
    "kernelspec": {
      "display_name": "Python 3",
      "language": "python",
      "name": "python3"
    },
    "language_info": {
      "codemirror_mode": {
        "name": "ipython",
        "version": 3
      },
      "file_extension": ".py",
      "mimetype": "text/x-python",
      "name": "python",
      "nbconvert_exporter": "python",
      "pygments_lexer": "ipython3",
      "version": "3.7.4"
    }
  },
  "cells": [
    {
      "cell_type": "markdown",
      "metadata": {
        "id": "setw3uA6bCG5"
      },
      "source": [
        "# **Importing the libraries**"
      ]
    },
    {
      "cell_type": "code",
      "metadata": {
        "id": "rHK2FNpvbLiF"
      },
      "source": [
        "import pandas as pd\n",
        "import json\n",
        "from google.colab import drive\n",
        "from sklearn.model_selection import train_test_split\n",
        "import random\n",
        "import re\n",
        "import numpy as np\n",
        "import torch.nn as nn\n",
        "import torch.cuda\n",
        "import torch\n",
        "import torch.nn.functional as F\n",
        "import warnings\n",
        "import nltk\n",
        "from nltk.util import ngrams\n",
        "from matplotlib import pyplot as plt\n",
        "from nltk import word_tokenize, FreqDist\n",
        "warnings.filterwarnings('ignore')"
      ],
      "execution_count": null,
      "outputs": []
    },
    {
      "cell_type": "code",
      "metadata": {
        "colab": {
          "base_uri": "https://localhost:8080/"
        },
        "id": "-aSC917t2x_I",
        "outputId": "ac95fb99-80c5-48ed-e8ae-2ecb586c40d2"
      },
      "source": [
        "nltk.download('punkt')"
      ],
      "execution_count": null,
      "outputs": [
        {
          "output_type": "stream",
          "text": [
            "[nltk_data] Downloading package punkt to /root/nltk_data...\n",
            "[nltk_data]   Unzipping tokenizers/punkt.zip.\n"
          ],
          "name": "stdout"
        },
        {
          "output_type": "execute_result",
          "data": {
            "text/plain": [
              "True"
            ]
          },
          "metadata": {
            "tags": []
          },
          "execution_count": 2
        }
      ]
    },
    {
      "cell_type": "markdown",
      "metadata": {
        "id": "O82sj1ktbOlC"
      },
      "source": [
        "# **Mounting the drive**"
      ]
    },
    {
      "cell_type": "code",
      "metadata": {
        "id": "Zd9F_l0kbSmM",
        "colab": {
          "base_uri": "https://localhost:8080/"
        },
        "outputId": "2923bb17-4408-4c73-ef64-23217b84f5e7"
      },
      "source": [
        "drive.mount('/content/drive')"
      ],
      "execution_count": null,
      "outputs": [
        {
          "output_type": "stream",
          "text": [
            "Mounted at /content/drive\n"
          ],
          "name": "stdout"
        }
      ]
    },
    {
      "cell_type": "markdown",
      "metadata": {
        "id": "yF6In_fLbXpV"
      },
      "source": [
        "# **Importing the dataset**"
      ]
    },
    {
      "cell_type": "code",
      "metadata": {
        "id": "btdqv5UCbkph",
        "colab": {
          "base_uri": "https://localhost:8080/"
        },
        "outputId": "043bf646-492d-45b0-ec5a-815f9e61a65c"
      },
      "source": [
        "data = pd.read_json('drive/My Drive/NLP/raw_transcripts.json', orient='index')\n",
        "transcripts = data[\"transcript\"].tolist()\n",
        "print(\"Total number of transcripts: \", len(transcripts))"
      ],
      "execution_count": null,
      "outputs": [
        {
          "output_type": "stream",
          "text": [
            "Total number of transcripts:  1455\n"
          ],
          "name": "stdout"
        }
      ]
    },
    {
      "cell_type": "code",
      "metadata": {
        "id": "ejilMVIbjycM"
      },
      "source": [
        "# We are using random 50 transcripts from 1455 for the Model because each trascript size is big with around 30000 words.\n",
        "totalCount = 50"
      ],
      "execution_count": null,
      "outputs": []
    },
    {
      "cell_type": "code",
      "metadata": {
        "id": "S7miK_cooEma",
        "colab": {
          "base_uri": "https://localhost:8080/"
        },
        "outputId": "ac3280f6-53d0-48e8-f6e4-86916bde0e77"
      },
      "source": [
        "randomTranscripts = random.sample(transcripts, totalCount)\n",
        "trainTranscripts, testTranscripts = train_test_split(randomTranscripts, test_size = 0.3, random_state = 0)\n",
        "\n",
        "print(\"Length of the train dataset: \", len(trainTranscripts))\n",
        "print(\"Length of test dataset: \", len(testTranscripts))"
      ],
      "execution_count": null,
      "outputs": [
        {
          "output_type": "stream",
          "text": [
            "Length of the train dataset:  35\n",
            "Length of test dataset:  15\n"
          ],
          "name": "stdout"
        }
      ]
    },
    {
      "cell_type": "markdown",
      "metadata": {
        "id": "WZ4JNLWTCL3O"
      },
      "source": [
        "# **Cleaning and Pre-Processing the Data**"
      ]
    },
    {
      "cell_type": "code",
      "metadata": {
        "id": "dPl8LvrMkehZ",
        "colab": {
          "base_uri": "https://localhost:8080/"
        },
        "outputId": "2aae795a-6773-4180-fa93-bcb79c519c7e"
      },
      "source": [
        "#Changes all transcripts to lowercase to improve the model accuracy and to maintain cosistency.\n",
        "trainTranscripts = [transcript.lower() for transcript in trainTranscripts]\n",
        "\n",
        "#Removing all punctuation expect \" ' \" so to concentrate improve the accuracy of the model \n",
        "trainTranscripts = [re.sub(\"[^a-z ' ]\", \" \", i) for i in trainTranscripts]\n",
        "\n",
        "# Sample of Records used in the Model:\n",
        "print(\"The sample of Data is as follows:\")\n",
        "print(trainTranscripts[0])\n",
        "print(trainTranscripts[1])"
      ],
      "execution_count": null,
      "outputs": [
        {
          "output_type": "stream",
          "text": [
            "The sample of Data is as follows:\n",
            "the steelers now are spreading out they're going to be kicking against a    to    mile an hour wind roy gerela number    has had an erratic kicking year on field gold when he hits it right on the kickoff he can drive it to the goal line or in the end zone i don't think he will against this win and now the cowboys are spreading out in receiving formation they're going to have butch johnson number    and larry brinson number    is their deep men they're on the oneyard line the steelers in drafting this year when after improvement of their specialty team and they did punting team's kicking teams and the entire kicking game and super bowl    is underway the kick is hitting on the    johnson's up with it for the    he is hit down there by number    dirt winston so we'll take a look now as the cowboys go to the attack and this attack design there they are staubach new house dorsett you know mall there the wide receivers hill pearson billy joe dupree first down dallas on their   th they move around a lot they try and confuse you just for a split second we're in the eye they run out of the eye about     of the time and they run at the door p norfolk trying to get outside      we all know what a great back source that is but i believe they're going to try to get the ball to him all they can today pass receiving running because he can break a play at any time curt i think when you mentioned pass receiving you may mention the key because everyone knows that pittsburgh's defense is a lot of double coverage to the outside receivers which is the personality rogers throwing if he can use just a little bit of number    in combination with    he can make his passing game go they have second down in a yard or on their own    the cowboys look back field nearly broke it and donny shale saved it first down in pittsburgh territory for the cowboys a big hole opened up inside kurt and that's something no one expected to see that kind of room for tornado reset the dallas cowboys early in this game little delay a little cutback furness trying to seal it off as they were stunning on the inside and number    dorsett just popped it clean jack lambert's usually the reason people don't run up the middle that timing was handled pretty well by the offensive left guard do that you going to make it tough boys on the steamer    no score were earlier they're in the i formation baba ouch jammed up at the line of scrimmage robert newhouse who broke the bone and his leg earlier was out of action now starts the super bowl    and jack lambert made the tackle on him the offensive line of the dallas cowboys are supposed to have their hands full and certainly pittsburgh's defense has been tough on everyone not not anyone during a pet last part of the season able to get over     yards rushing but the cowboys finding an early opening here if they could keep that up they sure can't open it up for stop up to throw the ball dungey has come in tony dungy number    and going out as number    laurent aids a linebacker so they have five secondary backs on the field down    cowboys the pitch coming wide look at that breaking it down the sideline dorsett having a field day early here in the first period he's having a field day kirk but he's getting outside which very few people thought he would be able to do just because of the linebacker played for pittsburgh and the quick force of their safety men however their offensive line has just annihilated both the left side and the right side the first time the scoops had the ball that could make it a very easy easy day for running back boney hill is out jackie smith in there they have a double tight end set up now there is pearson going in motion on first down dorsett gives it hummel and the steelers recover a trick play the steelers were on it john bonacic number    recovery curtain looked like a perfect time as it developed it looked to be well disguised however a little slip in the handoff i think scarback was the most surprised man in the house with his receiver came around he didn't have the ball it was it was sitting in the middle of the field none of the offensive people were able to move to it cowboys like to finesse you but their finesse costume and opportunities score early a    yard drive stall look at this play again staubach pictured the door set just there onto the ball and he was trying to get it to star back down the field of duprey in motion as rocky bleier franco harris buying this week they contain him in the knocking down at the    the way to stop franco harris is to spring him out don't let him get out there and cut back on you he's a great cutback artist franco harris certainly would like to have some opportunities to see the kind of holes that tony dorsett got early and both teams kind of sparring with their running game something we expected them to do they want to see if they can open it up because if they can run the football then they can pass the football and both these quarterbacks would like to throw it today it is second down    for the steelers they're on their own    no score well    to play in period a slight left formation cowboy up randy white number    franco harris carried the ball backed up by bob breunig the middle linebacker let's set up this dallas run floor first let's look at the replay randy white number    is wearing a cast on his left hand broke his thumb in the game against the rams you see him getting off sam davis's block able to slip inside and get ahold of franco harris some fine play for the very agile tackle now they have to prevent pass defense then mike hegman a randy hoosier in their sixth secondary mindy g lewis have gone out bradshaw fades a big rush on him he throws it and is complete to stallworth who hung on do it at the    they had a blitz against bradshaw he got it away and stallworth made an amazing catch okay when you say an amazing play stop they've always complimented the wide receivers for pittsburgh they say they're blind going into the middle of the field it's like some say they could catch a bb in the dark i don't know about that but when you're running with one thought in mind as most wanted star were through your chances of keeping an interception from happening give bradshaw a chance to throw the ball in the middle knowing at least he's going to get a piece of it he had to pick himself off the ground to see whether that was completed and it's obvious they're going to try and put all the heat they can with blitzes rushing bradshaw today's back flipz sideline out of bounds for stallworth no good ball worth was covered over there by aaron tile that little moose stallworth made was pretty good it went for no gain but anybody that can come down that's an athlete of that caliber you've got to keep putting the ball out there i think that's one of the keys to the game to john we're going to see a lot of first down passing you saw right there we're gonna see a lot of play action because dallas does not get a quick pass rush out of that flex defense marlin these two teams are so good defensively don't you think they're going to have to open the throttle and do everything they can i think they both accepted that fact we saw in evidence of that with that fleaflicker set up earlier forgetting for the cowboy shirt second down ten rocky bleier at the ball wire was hit first by number    bennie barnes a left cornerback and he wrote him out of bounds short yardage the light rain is falling this is a marvelous turf here though it has about a foot and a half of sand underneath it that's for steeler backfield and the personality has changed the people having terry bradshaw as the key this year it had been franco harrison rocky bleier a couple of great backs who were helped so much by terry during the year i mean he's thrown the ball so well i don't think i've seen a quarterback have that kind of year in the last six or seven there are the receiver this third and eighth mike hickman randy who's in six secondary players for the cowboys bradshaw near the sideline is complete and bradshaw really threaded that ball that's the kind of path very few quarterbacks will even try he with them as grossman made his move charlie waters had him covered like a blanket once it grossman gets behind charlie waters waters his shadowing them just as he comes out of his break the ball is on its way waters it's a great position but he's too late as you said it there aren't many quarterbacks with an arms strong enough to throw that pass they don't even try it terry bradshaw led the entire league and touchdown passes this year    regular season for the postseason play all together he's gonna throw again he's laughing at a store touchdown however he didn't have help feet maybe an advanced him to play stallworth a little bit closer than he normally would the stallworth went down to the point of attack as he did so perfect fake by bradshaw hi oh looking in the backfield he was just untouched as you see terry saw him so far open he just lobbed the ball out here everybody's in pursuit cliff harris is late in beat kyle six to nothing pittsburgh gorillas missed only one extra point all year he's kicked    out of    the punter colquitt a rookie will hold just three unbelievable catches by john stallworth already in this football game watch the concentration the ball hung just a little bit stallworth up does not even care if they're gonna wrap him watch it as they drive him out of bounds right there he would not cop that football well you double swan what do you do with this man he caught    against denver in the playoffs to set an alltime playoff record superb receivers on the team with the blackshirts and pearson and hill are great over in the other side you'll be hearing man there's the kickoff riding high it is coming brinson on the    out to the    and he's on his    yard line and he's hit down there by number    robbins told the linebacker and also by rick moser now let's take a look at the steelers on defense excuse me sir we didn't even have a bunch of a chance to introduce it to you before they had their hands full early and we let you watch some of their problems banna zack joe green steve furness and lc greenwood a fine strong defensive line they've got some of the best linebackers around you'll be seeing more from them during the day white white as we play spanish act now they all turn a tendon right in dallas ball first down in their   th with backfield staubach destroyed he got it away well the light rain is balling he fell back on his rock that was either either a mistake on straw backs part or door since i kind of feel it was tony's but i'm not sure sometimes you forget there's a there's a trail back coming across they ran into each other one not stop back down he was fortunate that the pass rush did not allow anyone through look at this now you know tony's trying to get out of the way has nowhere to go i kind of think he forgot his assignment second down ten table was in there twentyeight pearson to the right tony hill to the left whoo downer dorsett hit by jack ham who many call the best outside linebacker in pro football laurent eames assisted in and let's take a look at the linebackers for the steelers well you'll see a lot of lauren caves also robbing coal but the two old pros jack lambert jack ham are absolutely awesome merlyn said you'll see a lot of them you may see a whole lot of dallas cowboys may see more than they walk event there are a lot of talented football players on the field that's the second day we'll get to them later right now preston pearson's in the game he's a receiving halfback they really have three wide receivers in tony dungy zinn a secondary shotgun the pass right down by ron johnson dyson against johnson roger staubach has gone through the shotgun he's the only quarterback i have ever seen effectively utilize it and when the guys in the shotgun the first second or so he has to put his attention on the snap back from center it means to pittsburgh let's get to him quick see if we can't rattle it however it leaves some vulnerability in the middle of the field stall back got the ball they found johnson's quick and that's the way to pick up big yards and allout blitz on that one john and they left johnson oneonone on butch johnson pretty difficult to to cover that kind of receiver when a quarterback has time to get it off as starbuck did both teams are gambling on defense daubach sets him down first down cowboys in the pittsburgh    dealers are ahead seven nothing a tennis to play in the first period dorsett cutting back at the    and is crashed down at the    yard line by donnie shale who was a real hitter as a strong safety free agent at a south carolina state cowboys love to run at you out of that eye formation and they love to feature the running at number    tony dorsett out of that eye he has such great lateral quickness and he can spot those openings up inside you give him a little opening as he strings out along that line and he'll just go right up through it landry wants to get the ball in dorset today gore sets already gained    yards in the first period second down seven for dallas justin in motion staubach rush i mean he's happy got to him first and kept after him and then steve forness took him down for an ester right tackle data blips on first from the right linebacker steelers don't usually blitz you that much but they've thrown out the book and they're coming after staubach right now you see number    laurent ames and what stubb a duck underneath him but he can't elude number    steve furness who pulls him down i'll tell you as he did get out had he been free he still had no one open donny shelf just covered the village joe dupree like a blanket could be the key to a lot of this afternoon they take the tight end down to pretty put butch johnson in preston pearson in third and    everybody looking for the pass now here in the orange bowl steelers ahead   nothing cowboys off the shotgun bark what's that field over he's got time number    white mad dog white that's the second sack for the scaler and they sack star back all right give credit to the defensive line white white was the only man anywhere near strong back however it was due to the outstanding coverage that the combination of coverage in that situation straw back had four or five seconds to throw the ball had no one open not only did white go by pat donovan his tackle he also got by dorsett who was the pick up man and finally as you said because sabich could not throw the ball he got him and sucked him but formation danny white theo bells deep he had a good run back day against houston a driving spiral with a win theo bell takes it on his    factories    a    yard return randy hughes made the tackle hollywood henderson has been talking all week about what he was going to do to the pittsburgh steelers watch number    dirt winston say hello to hollywood henderson i tell you he went over and was welcomed by his teammates hello however berlin as you mentioned hollywood does talk a lot he seems to back it up on the football field tom landry said complimenting you thomas he's like putting the fire out with gasoline he does back up what he says pittsburgh on their   st down flier and harris behind bradshaw michael harris outside    was knocked down on the    by bob bruni middle linebacker hated by her and kyle number    the right cornerback bruni arizona state steelers offensive line of course working very hard to free up franco give him a little running room and early in this ball game i think the thing that surprised me most john is that both teams seemed to be able to run the ball i didn't think that was going to happen today second down five for the steelers on here    they're ahead   nothing five and a half to play in the first period rose to the side nearly picked off their bike doubleteam and it's interesting to see that harris came over to help out and they really don't like to do that with their safety man the cowboy no kurt but you do have to give up something that time bennie barnes just played as as close as he could to swan now you know harris gets by because he's as smart as he is he knows bradshaw would love to go to swan whenever he can't this one's gonna get free sometime when he does harris wants to be there all right they're looking for pass they have randy he was in a fifth defensive back and an extra linebacker mike eggman third down five steelers on her own    bradshaw sign right over the middle of the plate franco harris into dallas territory at the blaagh in hot in the superbowl and bradshaw will stay hot if he gets patterns running away franco harris ran that one on my cake minh it was oneonone with a linebacker when you get a chance to work on a linebacker with no health outside or inside they just hit the outside a big gain of pittsburgh's on the move again and the other thing he had was time to throw that football that they're doing an effective job of bowling randy white out of there i think maybe that cast is bothering effort bradshaw four out of six yet all the time against houston you cannot give him time anymore become a very patient man here he is on a drop on a playaction he chosen after swine wan has a first one failed against the side by benny barn what a passing attack right left down the middle and right now they're shredding the dallas secondary well they're able to get oneonone coverage they got it on my cake with the time before this time they got benny barnes oneonone with lynn swann very tough to cover the wide receivers or even the offensive backs without help somewhere sam davis is doing quite a job holding randy white out of there that's the big matchup a critical matchup the pittsburgh steelers first down on the dallas    years ahead   nothing for    in the first quarter blitz is on intercept at the    twothirty they had the blitz on and bradshaw through a bad fast that's the first turnover by the steelers dallas has had a turnover and dd lewis comes to the bench for congratulation well and he deserves some congratulations a lot of pressure right there on the dallas defense they're able to come up with a turnover turn the steelers away if the steelers go up with a second td here they can almost put it out of reach dd lewis berlin olson just been pointed out that's only the third linebacker interception of the entire season for the cowboys   yard new house door set the running back is going to put pepper and jackie smith over on the right and tried a quick hitter over right tackle jew house carries and he has stopped second down seven palace well short of their forty jackie's commotion the pitch is to newhouse beeping chase leopard what a charge by jack lambert who led the steelers this year with a hundred and twenty five tackles jack lambert's the emotional leader of that black shirt of defense and a very quick linebacker at getting the good reaction a good jump on the ball and he knows how to put it back on the ground you know he's very smart you don't fool him many times you know for a few times dorsett got outside now they're given newhouse a chance he slipped right underneath the pulling guard brought down the ball carrier it may be tough to go outside for a while newhouse doesn't quite have the speed of dorsett he paid the price on that one all right they take out the tight end they put in butch johnson preston person gets the shotgun they've got all their good wide receivers in the game now baba's pass no good then a suppressed affairs at hand all right jack green you know when you put the burden on a linebacker generally he can't handle the final feel very comfortable covering him covering the preston pearson he did it very well forced roger to throw it where he didn't want to then look like they were bumpin running the outside receivers job they were they're challenging him out there there is danny white he could play first team quarterback on most squads in the national football league how long he's going to be happy to be a backup man i don't know and there's the oh bell to return kicking with the    mile an hour when boy stood up there with the sideline and it takes a pittsburgh bounce and is out of bounds between the    and    yard line of pittsburgh and white did not like his plan steelers the best record in pro football this year they won    out of    they've won their last seven in a row they have a first down on their own    notice how they run to the left they had a gaping hole open for franco harris they're a lefthanded running team like the oakland raiders because i usually put the tight in on the right and harris has less people over in the left so he can cut back on them down in the middle of that line they're really banging on martin number    you see dd lewis coming inside a little stunt between the two of them good reaction from the offensive line of the pittsburgh steelers they sealed the linebacker out opened a hole and franco knew what to do with it second down a yard to go for pittsburgh on their own    and a search for that first down flag goes down the first one of the game and by the way in      dick enberg before the game talked about hope i don't have a lot of flag your only that's a holding against pittsburgh pittsburgh did not have one penalty in the superbowl    against dallas dallas had only two for    yards this is the first flag of the game it'll go against the steelers coat and a tie and you never like to have that kind of mistake though you put yourself in great position it's a first down almost at midfield and suddenly they're marking it off it'll be second about    yards to go disastrous bowlings on sam davis the left guard he's got his hands full down there kirk look inside you'll see sam davis right there holding randy white now the flag came in late could have been that the referee watched the way he pulled him away from that running back kept him off of him coming on the field is number    mike hegman going out as larry cole getting an extra linebacker there dave stalls has gone in landry is changing up his defense a bit there's the defensive line for the cowboys and randy why did we said you can see the cast on his left hand broken thumb he and coal on the inside harvey mons martin men and white on that right side accounted for    sacks between them that's a very impressive total for two guys been down    harris again running left franco is brought down by earn kyle kyle weighs     franco weighs     franco and postseason game has led all rushers    out of    time we've given a lot of credit to the pittsburgh steeler linebackers but the dallas cowboys aren't without some good ones themselves brunei gets on the third middle linebacker to play for these cowboys henderson you saw earlier he's been the long he's been the noisy one this week and danny lewis on the other side working very hard the two safeties harrison waters outstanding football player john i think you'd agree with that i think most everybody would you but there are dad insects look out from behind criminal dallas cetera he's hit from behind at joan nailin and harvey mark nailing from jones as we covered the fumble that's the second steeler turnover there's m  thal okay both left responsibilities ah this time he was trying to do a little too much with a bad play i think if one thing epitomizes carries play over the year he has been so successful sometimes he's made a bad situation a good one this time in this sort of a football game you want to make sure the win yet when the gates are closing you don't leave yourself an opening i think he did a little unnecessarily here he's trying to get away do something well the ball got hit big defensive play though as harvey reached around and better that ball loose first down dallas pittsburgh's    one minute to play in the first period this berga had seven nothing bah bah and on new house a new house piled up in the middle lc greenwood left end and steep furnace there's a man that just recovered the fumble edie tall joan bradshaw talking the chuck noll you know i want to ask berlin something off to me a great defense is one that when the team when your own team gets a turnover you can hang in there and not let anything break down because so many pets dance happened after turnovers i don't think either dallas or pittsburgh allow that to happen very often well that's because they're experienced you go on that field you suck it up a little bit more when they got a turnover you know starbucks gonna go deep on you second down nine cowboys on the steeler    here sit in motion playaction pass here it goes deep defense oh good lynden by donny shell here for nearly making a miraculous catch in the end zone if donny shell made an awfully good defensive play because it looked to me as if pearson had dissected the defense starback threw the ball at just about the right time was not able to hit him on the money but it looked like the play may be good enough he got shells back turned to the ball when you're in that position you're really up for grabs a guy like drew pearson is going to come down with quite a few of those i've got a credit donny show you can see he doesn't like it he finds pearson a little later than he would like to however makes good recovery in tinsel from score that's great ball reaction steve for neces out dennis winston is in there donny shell butch johnson's come on to replace dupree they have the fleet wide receivers in again it's the shotgun on third and nine and a big rush as arnie lets it go    before okay kurt that was a blitz they've been burned twice on blitzes that was no exception starback was the hero on both the cases you see tony hill on donny shale he's all alone with him all over the field straw back through the bowl before tony hill even made his break he was forced to they communicated perfectly into score is almost times one kick will do it and this pass comes as time ran out in the first period he can really tightrope that sideline tony hill a secondyear player he came so fast that they traded golden richards on to the bears to make way for hill who's going to be a great pro star and mel blount who was deeper than tony hill had his back to the quarterback playing mantoman corralling his receiver never did see hill until he went by him into the end zone get oneonone with some guy in you're in a blitz situation    on only missed one point out of    charlie waters will hold it is a tie at the end of the first period and what a first quarter here in super bowl number    that has to be the best first quarter of any super bowl and by the way the first touchdown scored against pittsburgh in the first period this year ago and i didn't know if anybody had ever score on him in the first period we did say it will be a highscoring game i think we're on our way kicking off doubt step beyond the kick is a shorty bounding around larry anderson the rookie has it his field loses ground and they finally bring him down he lost horrified he's finally tackled by tom randall kurt the dallas cowboys have been kind of hard on steeler records back in    the steelers had done the same thing had held their opponents scoreless throughout the season and in that super bowl a    dallas scored in the first quarter here they are again they come scoreless through the whole year not scoreless but they at least no touchdowns allowed in the first quarter until today and the record disappears to the same dallas cowboys they want to go bypass records the team scoring at first points has won    out of the    previous super bowls pittsburgh scored first but now dallas has come back and bradshaw sets him down for a first down on their own    first play of the second quarter blair is off in motion that pass he claimed he caught that ball randy grossman a little tied in at     pound his second reception of the game and you know curt people were so concerned when benny cunningham went down now he is going to be a great tied in but their effectiveness has not changed since grossman has come into the lineup he's excellent going into the secondary beating linebackers he makes a lot of bad balls look good and he just did it on this occasion randy grossman a basketball player at temple on the    yard line or    yard line at pittsburgh first down tie game seven all michael harris living outside of the party written out of bounds by pruning and had too tall jones go franco starting to pick up some yardage george yeah quick jones is he chased him from left to right this telecast presented by authority as a national football league intended for the private use of our audience any rebroadcast or other use of this telecast without the expressed written consent of the national football league is prohibited it is now in the    yard line of the pittsburgh steelers second down three to go let's check franco's rushing yardage he has    yards tony dorsett has    yards rushing in paris again ed jones hits him there he might have picked up a yard too tall at six nine was standing there and said very tough to go against that dallas flex defense especially for the steelers who love to do their trapping and it's hard to trap that defense too tall just slid inside almost like a linebacker sliding back inside away from grossman who's trying to seal him off and made the stop kept him short of the first down they're bringing on larry but they are icky number    light comes back out it couldn't get him on the field in time third down one harris has the first down franco harris hitting inside dd lewis stopping sam davis opened the way franco harris just leading rusher of all time great money back is the best description you can make kurt oh i was just gonna say that you're taking the words right out of my mouth but if you had one back to run short yardage for you i think i might grab franco harris especially in a big ballgame steelers on their    now they switch quick flip incomplete i want to tell you the cowboys led the national football league's and getting to the quarterback this year and they're putting more and more pressure on bradshaw now as this game is progressing and they did put pretty good pressure on bradshaw but grossman had a chance to really manipulate behind the linebackers the linebacker played by breunig on that particular occasion was outstanding and they had a little miscommunication they tried to get it off randy grossman as you said but randy just unable to get himself in the right position we're looking at randy white here they've done a good job sam davis had his hands full but it's done a good job of passing him off and getting a little help by his friends on the they put their wide receivers on the left side nonsense for the steelers play action pass shall flow maybe without and it's barely intercepted by charlie waters number    charlie a nine year veteran in the cliff harris have called the two best safeties on one team in football okay we're giving you the wide shot and terry bradshaw when he comes back i think uses his athletic ability to give himself enough time to try and catch swann coming all the way across the field we're watching grossman that ball was actually intended for lynn swann coming across good linebacker play kept him from receiving the ball take a look at lynn he comes down he's supposed to be hit here if terry's been able to stay in the pocket he might have been able to throw it many barnes is in pretty good position coverage wise linebacker makes the play and if you're wondering why there wasn't a penalty it's because the ball had already been hit by a defensive man third down    steelers on their   th oh simultaneously number mike headman they recovered crumble henderson jarred it loose from bradshaw and going in with it mike hickman from tennessee state a reserve linebacker and i think berlin that two things happened i think bradshaw is hurt a little bit on his left shoulder they stood him up kind of caved him in both of them took the ball away before i was able to get down to the ball we made a pretty good recovered to get a piece of it you can see anderson's holding him up nathan takes the ball away and i don't think gary's getting up very quick now that's great play that's the kind of big plays you're gonna need to win this football game okay let's look at bradshaw that's the real concern as far as pittsburgh's concerned he had a hold of his elbow coming off the field it was his left one but it's not a minor problem now boy score      to play in the half they're in the lead    on kick as good a steelers scored first a pass to stalwart    yards     to go in the first period dallas tied it in the last play on a pass to tony hill in the first period and now dallas has jarred the ball loose come up with it and hagman ran it in for the touchdown they're kicking off be honest is going to ground the initial reading from the pittsburgh bench near a bradshaw is alright and we'll be able to come back into action you see them congratulating raphael seth deann they've really got his foot into that football pins the steelers back on the    now they will wear there they call him the dirty towels if we look to the far side there they are the dirty tyre hear the terrible terrible care wearable towel well i kick they got kind of dirty in that game nice the two weeks ago i think got wet first whispered on their    they're trailing for the first time in the game brad shot a frank o'hara we've done we kept on the    yard line by harvey martin through last year along with randy white was a co most valuable player of this game second down eight pittsburgh on their own    we pause briefly we will pause in a minute quick look at number    martin and cold there harvey martin keeping good position on the line of scrimmage and able to get a shot on number    franco harris second down eight dealer's honor    they have the window before who has boy that is rough yardage to get larry cole took him curt goudy john brodie merlin olsen dick enberg against in the orange bowl the situation third and five for pittsburgh on their    and ahead in this game the dallas cowboys    to         to go in he's got his man scholar          gone please at the      and he's in for the touchdown no flags are down it's a touchdown all away    yards kurt i think you set it up about as well as anyone the bradshaw goes back to fast you say let's see how he throws i'd say he made the answer pretty clear he put it right on the numbers to stall where stallworth feet brandi used in a oneonone situation when he gets on we've seen a lot of oneonone situations i think merlin is because they have to try and get to both passes i think both teams are trying for the big play defensively and it kills them here because they don't get to him he gets it away and then stallworth just uses his great ability to break it loose to get this game back to within one point of even and this has become a game of big plays all worth has now three catches for a hundred and fifteen yards bradshaw after he was injured he came right back in and got this thing tied up the point            to go in the first half all right simple little pattern it's not it's not one that has a lot of beauty in its execution but very effective as bradshaw i hit stallworth real quick you see him run through a maze of players when he finally gets faster and he is he's all alone it's long gone it's time for chin up there he is john stallworth let's look at the key block on this plane and scored the touchdown which is the longest in super bowl history for a fast lane there a swan making benny barnes out of the playoffs all you need to do get him out of there first flip second here's the kickoff by jerel at either butch johnson or larry brinson it is coming to butch johnson      and he goes down on his    yard line and he's hit there by a brick moser a reserve running back to the steelers who plays on the kickoff team word from the bench curtis that bradshaw has bruised his left shoulder some of you may have seen him taking some ammonia and sniffing salts right just before we broke away actually what he what he may be doing is still clearing the cobwebs he's on the bench now you see the trainer working with him on the sidelines he's a tough kid you said it john if you could have one guy come back it's terry bradshaw first down dallas under    game tied    hall number seven eastern michigan free agent he has taken the starting right in position away from dwight white but wife still plays a lot they alternated well fan asec plays like one of the great ones now but not like a free agent and he did earn that starting job you saw why there as he got out and stripped new house down new house new house doesn't look to me like he's come back to his old form after that leg injury but i think those black shirts have something to do with it he might have a point there too now look at this full house now how they hop out of it second down    the goal the toss shatters and enemy down it's the steelers now will have taken over the momentum not jack down number    when the when the steelers are playing their best jack jack hams making the big plays merlin number    jack ham i still believe at his position the finest linebacker in football and what he does here is just seals the plate of the outside strings it out dorsett look back he wanted to cut but what did he see more black shirts he went to the ground hide they put butch johnson in    preston pearson    take the tide in out dupree they've got the fleet receivers with a good hands in there now on third and    bob hawke off the shotgun let's burn down let's recover that this burg had a great opportunity to come up with that ball and let it get away from him joe green caused a fumble on the rush tom rafferty the right guard recovered for dallas and it looked like late well i'm not sure but the face had a chance to recover the ball tried to make a big play out of it rather than in doing so lost it dallas still has possession joe greene gets a great rush and just strips the football we saw that happened to brad charlie right there furness number    you're right wanted to take it in he didn't get it and he cost pittsburgh a chance at a great turnover tom rafferty alertly pounced on the football for the cowboys or they're lucky they got out without turning that football over annie widen punt formation theo bell was on his own    fight against the wind wobbles it bell feels it on his      goes down on the dallas    yard line and he's hit there by number    thomas henderson the muhammad ali now of pro football thomas energy don't call me tom it's thomas and right now the pittsburgh steelers are on the dallas    yard line with a first down this is the first time the super bowl history the four touchdowns have been scored in the first half bradshaw lay actionpacked        he's hit by charlie water lynn swann was the most valuable player of the    games we mentioned this may be a slambien affair mother and we mentioned it because of the defensive strengths people had to come after him right now first down second down pull out all the stops i think the most indicative part is right here lynn swann gets by the linebackers into the secondary you don't see him very often trying to take people on they're all playing like there's no tomorrow and there is they have a first down pittsburgh the cowboy    bagging    all franco harris they've got him and there is a great charge by eddie jones and tootall has been the best of the defensive front floor for the cowboys so far to get a chance to see one of the reasons that the dallas cowboys like to play that flex defense they get almost the linebackers read from their big defensive linemen watch too tall gets a quick read inside and he just flies across gets there as soon as franco harris who said worth immortal the debt big guy come from but the weakness was probed last time and that is they can't get the pressure on the pastor when they're in that flex second down    that's berg on the dollar started i've another flag the flag was dropped in the secondary yes sir they know they have their hands full when they start double covering on the outside charlie waters was up there trying to handle grossman all by himself i think he held him before the ball was thrown it looks to me like some sort of heap that's defensive holding against dallas it'll be an automatic first down for the pittsburgh steelers six minutes to play in the first half a wild first half big rush on a shootin wallace couldn't quite hold on it's not an easy kiss but it was there to him erin kyle graduate of the university of wyoming is covering john a quick question for you when you've got three great receivers doesn't that make all of them better well sometimes there aren't enough balls to go around merlin but this is a play that a guy like scott worth makes it look easy which is the most difficult catch in football catching the ball behind you when you're running in a different direction bradshaw did throw it about the only place that they it could be received they're in a double coverage very little room to operate randy who's mike hegeman are in they've stalls in this to the prevent defense motion draw play franco harris two yards and that's all    yard line mike hickman and number    harvey martin team up for the tackle third down eight pittsburgh on the dallas    you know these two teams pittsburgh led the entire national football league in allowing the least points and dallas has shut out their opponents coming into this game in the last six quarters and they had led in the fewest yards allowed and they both been scored on twice in the first half so the offenses have gone all out but i think the point of it made very well by olson and brody they've been gambling on defense their gamble sometimes a backfire look out no third sex with alice do for pittsburgh thomas henderson in their first live amazed they just keep coming it coming but i'll tell you again if they don't get him down you see    where andy who's coming and that's what you call it jailbreak mike eggman    has a piece of terry and he almost got that ball away they're lucky they got him down boy jl has been a very erratic field goal kicker this year he has kicked three out of    in    yards out this is a    yard attempt but he does have the wind at his back he's hit only    out of    if this bird got a weakness hit the upright he just missed double tight in offense tony hill is out there jackie smith one who died in dorset the time to get him outside only to the    the thing about tony george said is you stop him you're stopping you stopping but one time bang he can break it and he's been closed on three or four occasions it sure has john that's great outside speed and i don't think i've ever seen a young back use his blocking better watch dorsett watch him hang to the outside and set the block right there for number    herb scott and then quickly duck underneath it that's just a great ball carrier who knows how to use his people second down five there's a mana play for the national collegiate title and then his first two years in pro ball is in the super bowl that's not bad three years in a row that in five preston pearson in the game he leads the team in receiving but newhouse has it a new house is buried under swept out of bounds and that is robin coleman    of new mexico who took him out number one draft choice two years ago he was brought down by robin coal but the man who created the angle for him was donnie shale now he's got a lot of responsibilities we've seen them in the end zone batten down passes this time he had to force to the outside when you're effective running the ball you put a real burden on those strong safeties the weak safety is not so much that's what they've done in this ball game the cowboys all innate their guards laughter they and lawless the right guard bringing in play landry calls all the plays bradshaw calls the plays the quarterback the spear a shotgun four wide receivers on the field going out he has a fantastic perihan and was released by the steelers we'd like to follow wallace as he gets the signal from bob landry and runs out he's got to deliver the message now to roger staubach gives it to stock their stomach now has a chance to collect his thoughts and straw back has been probably the best interpreter this game has ever seen however on the other side a different philosophy terry bradshaw has been calling the plays for nine years and i think the patience of chuck noll has really paid off the last couple years roger can still dodge lay action pass down the middle complete    yard line catching that ball tony hill and mike wagner the free safety hitting wagner was second on the steeler this year in tackles is that a surprise only seven passes so far for roger staubach gentlemen well at the fact that they have been able to run the ball quite effectively i think is the reason for that curt i think what anyway you can make the ball move on the ground and both teams have done so effectively offensively that's okay we have a report that linebacker mike headman has a lake trap that is because cowboys first god on the pittsburgh    the last two minutes of the hell and i flipped on natasha go away and also he's out of bounds on the    staubach reject or fetters on going at it what a place topic made they have the blips on to get rid of that ball okay the great quarterbacks have the ability to utilize defensive gamble's i think both quarterbacks have done it so well today this is just an excellent chance to see it star backs getting an eightman rush you see him coming from one side pool coming from another they just let cole come stall back hands to get the ball the dorsett because there's nobody to pick cole up he does so with a perfect lob hams a little late getting there just because star backs ready for what's going on there's that emotion blount brings it back that stops the dallas brown flag is down    billy joe dupree was the intended receiver and mel blount the veteran of nine years in a step for the flag down and billy joe dupree absolutely unloaded on mel blount after he caught the ball that situation has been turned around in the past kids and banks come up with an interception they better hang in there i think there were three of about the hardest hits i've seen all day on this one play pearson right there and mel blount just stepped in front of me but took it away watch the action here as blount goes down he just gets buried they decided that was a little bit too much and they ticket it dupree roger took a shot of his own room there white boy whoa i want to tell you there's some real hitting here there were bad feelings in super bowl    between these two teams and it is carried in fact it is gathered momentum over the last three years it's a pretty quiet feeling no hurt it's like make sure you boys stay in control of yourself the situations will come up i haven't seen a dirty lick cast i think it's clean hardhitting football it's just for keeps it's just highly emotional football and and what else should it be this is a game that has been waited for and prayed for and played for for almost six months it's no wonder the emotions are running high there's ball first for one minute and    seconds left to go in the first half game is tied    to    frank o'hara gets away from harvey martin brandy white jumps on him and a flag is down he slipped away from harvey martin number    illegal use of the hands offense number    jerry mullins a right guard was the man that held the ball is now on the    yard line in pittsburgh they have a first down and    randy huge goes in as a nickelback that shot a swan one to the    we can run a          amazing one by lynn swann he's taken down finally ray penny through the block and randy white chased him down from behind an amazing run by this great athlete who was a long jump champion of california in high school you ban he was a great halfback as a high school football player right out in san mateo at sarah high but all of that for now you can see that smile of his it's disappeared the intentional level is as high as i've ever seen it between two football teams this is a day that neither team would feel very good if they don't get their purpose accomplished watching the steelers sweatin here with a minute    is on a half horse down on the    of dallas he gets off the surface higher than the great russian ballet dancer they're going quick kurt not time until it's time to talk about it simply lynn swann has it all he can jump higher and is more acrobatic that any wide receiver in the game first down the dallas       seconds to go quick fetches complete the franklin her though he dropped it he dropped it in his cutting away he had his back to me and i didn't see the ball pop out randi huge cliff her sitting there and look up angles i should have had it well the big thing here now this is the play before it lynn swann comes in the middle he has the the ability to get to the ball at his highest point i think better than any offensive receiver i've ever seen the height factor has nothing to do with it he gets it at a science point gives bradshaw a chance to take every opportunity to throw in the middle does terry appreciate that looky there he bet he does john i think that stall where there's juan made a pact today they were gonna see who was gonna do the best job and right now it's about a tossup they have both been extraordinary what a pair they are as one as now cut for     star worth   for     safety blitz downtown breaks the tackle goes down at the   and the clock shows    and a stop there the steelers have rushed in and called timeout   steeler timeout left in the half aaron kyle upset harris or harris would have taken it in and they burned him on the blitz again third and   gaja grows laur touchdown number    rocky bleier a very underrated player on his feelers hey in front of these lures i am not believing hurt the way that cracks are not only laid the ball up but the but the prior to get to the ball terry gave him every chance however instead of throwing it just all over the ballpark you just try to touch the ball out there i think it's the biggest improvement of this play over the past couple years and we've got a    point first half here boy gorilla will give up tell us a little down right now but they bounced back twice the kick is coming too larry brinson    goes down on the    with    seconds to go in the hat carrie bradshaw has already broken the super bowl passing record in the first half flag it down staubach hit from behind last stops    seconds to go in the half second down    they declined the penalty they hand it off let's question pierson and he's dumped at the    yard line with   seconds free they're watching the clock they're going to come off this   seconds ladies at all times i know roger staubach he will yes he's carla down there he watched one more shot he's he's thrown some pretty famous passes in his time with a few seconds on the clock they had three backs deep for pittsburgh two seconds to play in the half the last play of the half bah bah those are just a fingertip presentation that's the end of a sensational first down now we go to the third quarter dorset the leading rusher    franco harris has    the rest of them why are only two yards newhouse zero pearson    it first down pittsburgh on their own    there's knock down back on his    yard line bob bruning shot through that time the middle linebacker see burnick trying to get him fired up down there he said hey let's pin him down right here force the ball that turnover first series of the second half always very important to establish some kind of momentum get the game asserted again and the cowboys need to get it going for themselves right now all right that same front for jones cole white and martin tecna's all right ease back in there henderson bruning brandy hughes passing down maybe grows it on the run over the head of his intended receiver rocky bleier beckman was covering number    he had a bad leg at the end of the first half and they took him to the locker room but evidently is all right    excuse me kurt randy white in there with a vengeance on that play and the sam davis had a full of him from the backside it look like even dragged along bouncing jerry bradshaw quarterback flyer and harris the running backs theo bells now in their stall worth is out swann is the other wide receiver grossman the tight end cold davis webster mullen and penny are the interior lineman third and    right well john the run completes the fast has completed his own    theo bell who went out but he's short of a first down and now pittsburgh must buy it's the only thing that the old bell could do under the conditions bradshaw running to his ride normally you find an open space get the quarterback a chance to get you the ball he knows the only place that theory could even get rid of the ball is right in that line of flight he does fix up a few yards they've got a point there is a first punt for pittsburgh greg cole quits a rookie watch him he only uses two steps if not had a kick block one two and his god against the wind on the    a fair catch called inner i push down they charge newhouse hid behind the line of scrimmage whitewhite the right end is in there he's starting the second half number    part of the strengths of this pittsburgh defense in the last half of the year came about after they started to all ornate white and been a sec at that right in second down    cowboys from there    roger to throw comes back the other way and flag is dropped with a crossing pattern by tony dorsett the flag went down in the dollar second i'll tell you you know the officials are on their job away from the played on isil and billy joe dupree we're having to go in and i think you're gonna find that isil gets a holding call this will be an automatic first down with the cowboys gonna be interesting to see if these teams are willing to continue with their big play philosophy in the second half we have number    holding defense first down your eye john donne shell number    that torpedo they call it    yard line of dallas first down pittsburgh leading       early in the third quarter stop by in the i usually run out of this one there was an emotion short man and that's newhouse he's had a   yard total running that's his best gain of the day and he's brought down by jack ham number    the outside left linebacker and jack lambert marker respect for a defensive lineman how many men do you put on him one on elsie greenwood watch lc fight off the first block billy joe dupree into the second block why they gets a piece of the tackle right there it's a great defensive line play they take newhouse out and put scott laidlaw in his fourth year from stamford first time they've changed those running backs the cowboys but they're down five but they call a fullon motion at all fouled up too much time yet a good look john at the standup motion of the line and also the motion out of their backs does that tend to confuse as we said earlier your own team as doesn't as much as it does the defense i think there the confusion was that roger did not know when the clock started because a very seldom in this game does a man take over    seconds to get his play executed when you know when that clock starts you're ready to go he may have had his attention in another area it crept up on him he wasn't ready to handle it i think that's one of the weaknesses of sending the place from the sideline to takes time through pearson emotion baba gonna play action deep my buddy open he takes on the network warning was close to a first down on his    yard line and it was joel green that brought him down he can still run his tenth year in the leaves and he only does it at the proper time you know a quarterback at his age is not he's not running that offense to run the ball from the line of scrimmage he gets caught tries to get a first down he knows where the distance is he does everything he can to get there he got great help from his backs on those two ends they looked like they were going to have a shot at him but they got knocked off their feet staubach able to roll out make the yardage talking to roger i said what's your secret of your stardom your longevity he works out two hours every day and a gymnasium that he's built in his own garage and he said i've never had a serious leg injury there was newhouse who's had a leg injury and has just been taken out they have a first down for the cowboys they're on their own    the score       pittsburgh       go in the third period they're the first down listen a strong left formation you're set robin cole the linebacker and steve furnace up in number    robin cold to the outside on that were incurred it looked like dorset was going to have a chance to break it up coal boxed him a little bit made him cut back inside and then just put a tremendous hit on him watch right here coal from the outside he just buries dorset that's a big defensive play and that will discourage you back from running up in there and it's amazing how the steelers of stop doorstep since the first period we said you did stop him a lot and then suddenly he can break one second now night ramming away makes you gain out of what looked like a broken plane or was nobody open and as furness who hauling down from behind again okay that's a double screen pass both of his screen screen men were covered by linebackers what does it do it leaves the middle open if he can get underneath the pass rush he was able to do it that was the only option he had left came close to picking up a first down looks like three bouts third one the flag disregarded a flag accidentally throwing make a look here he goes little fake to the right or to the left comes back to the right and his screen is covered by greenwood who makes a fine play on that now roger has to go up underneath will pursued by the linebackers and a defensive lineman but close to a first down sometimes that happens for you anticipate it you feel it there's    lambert working on dupree and he's got him held off pretty well lambert's the guy that's going to come back in and make a piece of that tackle back to the liveaction hurt right they have two tight ends for garnish third and the otter laidlaw and they stopped him whole by robin pohl ever   aspired up here in the open to the third corner steep furnace and lift off the field they sent in a replacement for him    gary dunn and the cowboys went directly act done    cuts it inside but there's lambert there's white white there's jerry todd there's robin cole all of lectures and i think what really is indicated here is the fact that they have taken the ball to robin pohl in doing so he's been up to the task where do you go from there all right punting for his fourth time now danny white he averaged    yards that kicked in the first    of time a nice kit feel bell back    yard line wallop him down on his    and that's bennie barnes number    went down to cover the puck was good for    yards you have to have big plays for your special teams watch benny barnes as he comes down eludes the first man elutes smith now watch the hit on t bell right here betty barnes puts a great shot on him two men in on that tackle the other     hollywood henderson and they put t bell right in the air and they are the two wide men on punts stallworth is back in the game for the steelers good news to steeler fan he's had a big first half first down pittsburgh on their own    ranko hair except both running games being stalled harris knocked down behind the line of swimming by ed jones who's been penetrating at pittsburgh backfield franco tried to put a couple of moves on him too tall wouldn't bite he said eight you ain't going nowhere this time on that    in pittsburgh it is second down    we've had several cases of leg cramps curt and i think that's an indication of emotion a lot of times i think you you burn off so much energy that the muscles begin to knot up and i think we've seen it on both sides of the line that shaw looks them over they have hickman in there randy huge dave stalls this is a passing defense so they run the ball rocky dwyer he hasn't had it much today and he stopped by thomas anderson that's the second carry in the game for rocky bleier isn't it awfully dangerous if you come out with a lead in the second half and kind of pull your wings in looks like pittsburgh pull back a little i'm not necessarily sure that that's what's happening they're trying to get the ball moving on the ground they feel they can pittsburgh has been out of the flex which allows them to do so a little more traffic exploit things they haven't been able to however dallas has stuffed them on the ground now we have a third down and    whispered under   by our motion flag and sound flag is down this may be an illegal procedure it blew it dead before the ball was snapped that's it illegal procedure it goes pittsburgh chuck noll it's amazing how both these clubs have operated this bird came with a secret cowboy spent and i've operated their organization the same as dallas by draft choices no trades rearing them right on your own farm and bringing them up you know i think to dope the similarities between both tom landry and chuck know is consistency and let everybody know where they stand and they're the same every day and i think it has a lot to do with their success having burned out in    he shoots it over for a dangerous pittsburg must run against the wind not an optimal situation threw in the ball on it on your own   yard line bradshaw has so much confidence between he and swan but he's going to take the chances that a lot of quarterbacks wouldn't take linebacker made a perfect drop made the betty barnes job easier swan almost came up with it anyway dallas should get good field position he's putting against the wind he gets it away and over in johnson on his          and down to the pittsburgh    yard line where the cowboys have the ball dangerous pike whoa no hang time soon lucky buns didn't get that further back into their territory still      pickford first down dollar around the pittsburgh    out of the i dorsett back the spybot he go no no good hill was covered all the way darmok knocked down door set back to staubach they pull that one against new england and it work to tony hill in the regular season ron johnson covered the plate all the way on tony hill but take a look it sets up for straw back to throw a little flea flicker as they call it you hand the ball off that's the key to get after the ball carrier before roger takes his lumps on this baby how long can you take that until it starts to pay a price on you well he's taking it for a number of years and he gets up after each one he's got hands like a defensive tackle i looked at in the other got fingers point in every direction all like an old catcher this ball catcher down    for the cowboy here's to the motion there's the toss they're set coming back and is jammed at the    yard line of the steelers and they're at a meeting was elsie greenwood number    arkansas amn nine sacks this year he led the steelers and getting to the quarterback third down six tony hill second year out of stanford already in the pro bowl now you know that drew pearson had a lot to do with getting him in there because wide receivers work in tandem however this time he got his lunch evening he got stubble and the rookie wide receiver robert stealin shotguns craig baba what some all the firearms completion to the that was quite a catch there by preston pearson dog pants spilled fire that ball when he has to to linebacker standing on either side of the receiver he's back there finds a little hole and really fires the ball preston pierce was in there because he finds the holes between life westford person the great basketball player they call him blood muscle and bones he does not have one ounce of fat on him and here's septa and going to warm up his leg that first down cowboys in the pittsburgh    the cutback dorsett is trying to cut back for the daylight knit by jack lambert number    who was waiting for him in the middle lc green would cut underneath the tackle rayfield wright and he put a shot on roger just to drive twohanded that one off right away i have got the ball you go after tony second down nine only three members of this cowboy    man squad i've ever played for another coach than tom landy they were pierson jackie smith and cept the adam lambert getting the shot right on the inside able to slip back out and get a piece of that tackle    jack ham jack lambert teamed up the gathering men laidlaw seems to find the hole since they've inserted him in place a pop new house when he got injured laidlaw has had several outstanding games been a very integral part of the whole pizza dallas offense here you see he finds holes where they don't seem to be doesn't hurt to be in the backfield with number    tony dorsett and also a guy in on that tackle again we might add jack ham the savings act they have a double tide in offense third down and three on a pittsburgh    we've been goswami cut you're set diving riggleman got their long johnson the rookie cornerback running down watch the battle going on inside as they're driving hand to the outside picks up again on a second block that's rafferty get the piece of it dorsett does a lot of that on his own just cuts inside and literally crawled for the last four or five yards but they cut down the inside pursuit they got lambert they got the inside line minh dorsett got a chance to do his thing and laidlaw was a guy who got lambert since he did      we're gonna have to play in the third quarter he'll pass on first down he shoots it out in a gem meant for billy joe dupree the tight end they haven't gone to him much today they have tried to go to him donnie shell has played him like a shadow all day long they put her big burden on donnie's shelf because dupree is an outstanding tight end he's playing a bumpandrun position that's really tough now because once he gets down the field you have to keep your hands off him he's shadowing him it is really responsible for the play well it has to be aggravating for him stuck under quite a bit of pressure from joe green who came around on a stunt but you see how close donnie shale is to dupree and i think that really is bothering him done he's putting your finger right on on at pittsburgh    gun jeez in dorsett they had a good time yes it goes a safety clip how many pair we seen it twice in this ballgame franco harris broke earlier or in the second quarter on those scored stall back just staggers the count a little bit allows his offensive lineman to get it get it straight hit her assignments under order as they do so dorr said almost takes that one he sure did he broke it out clean very very dangerous watched on isil number    he's got to come up and try and save this on dorsett if he doesn't make the tackle it's six points it is third in three and they're getting some hollering there now andy frederick billy jill debris and jackie smith look at thomas henderson i wonder if he can hang on to anyone with that i don't know sticky kid stuff hope he doesn't get stuck to himself i think he might be stuck on it so i don't know we have a timeout on the field and her behind and i gotta throw he's got it that's one jackie smith he's a great human interest story    years with the cargoes first time he ever got a chance to go to the super bowl signed by the cowboys and he led a shirt touchdown pass he has helped them all year i can remember playing a pro bowl in      with jackie spend not many players play that long at that position well what happens here roger staubach's got all the time in the world jackie smith is wide wide open nobody within    yards of him and almost too far open too much time to think stall back pull the plug a little bit now we're going for   yard field goal something else happened on that play that might have a real bearing on the game it looked like lambert may have been injured on the play he's left a field we'll try and get a report on him but this becomes a big play with     left the cowboys need to get some points right here there wasn't a man within    yards of you waters will hold for sep the end    yard attempt and the kick is good the cowboys got only three out of the drive we're still in the third quarter here with     to play tempe on kicking off anderson's deep the trying to kick it away from him it is going out of bounds and dallas will come back and recheck runner on   th yeah ted peterson down there having some fisticuffs with someone hollywood henderson no that's guy brown    there's a lot of emotion on that field they're cooking down there staubach talking to jim myers the assistant coach just a head coach they call him you see jackie smith and sometimes you know you don't when you're not in there on a regular basis you're just doing everything you can to help at any given time he couldn't have run a better pattern he couldn't have fooled the defense any more than he did and i think his reaction after he didn't catch it tells it all he's a master at those sneak patterns he's eating the hosts out of hide then he's good as there is it's pretty hard to hide at      in   foot   he retired    months ago but wilkinson and the cardinals trying to talk him coming back to st  louis he said no and then he finally went with the cowboys and made the super bowl and unfortunately had just dropped the pass wide open in the end zone the kick again bicep dr larry anderson waits for on the   he's up to the          boos he hit and down he goes on the    yard line and he's it there by robert steele the working wide receiver and also thurman number    the united states olympic committee will receive the net proceeds from an official commercial scheduled in this program under an agreement made with nbc for the broadcast of the united states olympic trial nbc acknowledges the cooperation of the nfl and helping a broadcast that commercial announcement there's lambert they've been working on him do bowels in a star wars out so star wars must be in twentyeight they're leading by four rat job off they go the franco harris and he's hit by randy white number fiftyfour and the steelers have gone conservative here in the third quarter we talked about the fact that they staged if they do that they stand a chance of getting in real trouble against these cowboys right we've discussed that and sometimes when you're not executing well it looks like you're becoming conservative and the last driving through two balls they were incomplete it's the execution of dallas defense which is making them look conservative you still have to be aggressive no matter what cook play your calls bradshaw's    out of    in the game second down six jones is after him nearly intercepted not quite pass antenna for theo bell and aaron kyle was trying to flash in front of him third and six and dallas is now stopping the pittsburgh passing game well in terry bradshaw here again was trying to make a good play out of a bad situation the pass rush forced the oh bell out of his original pattern aaron kyle played excellent defense and we see two tall limping off the field that can't be a good sign for dallas and he has been a terror today in at pittsburgh backfield was doing a great job of holding in white what a frustrating day for him that's code number    working on him giving him everything but but his lunch to carry back to the line of scrimmage we're down eight batch off pocket goes on the run a skidding job it's complete at the   th field bell made the grab and it will be a pittsburgh first down they must have a receiver factory back in pittsburgh we know about stallworth and swan vo bell looks like a carbon copy i can remember frank lewis a couple years back ronnie shanklin they all look like the same type of receiver you're still looking for their weakness after they beaten you now watch bradshaw he is going to take a lick once you throw that ball on the run you're pretty much fair game then he gets his shot paying the price back there's somebody else paid the price    mullins is on the ground and steve course and has come in the hitting on the field has continued at a rapid pace has left a lot of people laying on the ground he wonder if those are cheap shots no they're not a straight shot from laidlaw   to lambert and i don't see this one take place but the the hitting down on the field is just a crescendo of noise that beer you know terry's been around the nfl nine years he's never passed for     yards and here in the superbowl today he has     yards in passing completions well that hurts just to see bradshaw roll on the ground that way to have the one good thing is all those replaced only got him one lick he only had it it's not real one time it's a good thing he didn't have to take that abuse more than more than once gary mullins is leaving the field and steve corson number    will replace him a right guard apparently someone stepped on to tal jones's ankle we got a lot of replacements in the game right now larry bethea has gone in for tootall and steve corson of course playing guard and the level of play hasn't depth may indicate something who called ed jones is back in    first down pittsburgh on her       the last minute of the third quarter quick hitch pass struck the ground in front of lynn swann he know what he just note there he didn't want to get up and have somebody hit him second down ten on the pittsburgh    you mentioned earlier curt that stallworth may have been injured it was the same injury he still has those lake cramps even though they can go away sporadically it's hard to get rid of them for the whole for the whole game look look who's there danny white he had an excellent second half against atlanta big game against the new york jets last regular game of the season second down ten oh oh lynn swann on it right there with him his cliff harris one of the hardest hitters in football he doesn't even want him to touch any part of it whether whether it counts or not one thought made the quote about lynn swann he it's impossible for him to drop look they didn't hold on to this one he didn't drop it either he got he got a lot of help from behind that's just good coverage by barnes he's played a very good game defensively lynn swann has has been really pressed to make the big plays in order to get any yardage on his own nobody's given him much all day long you see charlie waters concerned about the deep pass allowing penny barnes to come up in force quickly fortyfour seconds remain they're down    let's look at the russia i'm randy white puffs right on and randy white declan that's all in the monster fart man bart monster he'd been contained early in the game but granny white said hey my turn guys he glows to the outside uc davis trying to keep him out there but really just keeps penetrating until he finally gets his shot as bradshaw tries to come up through the middle they had a blitz of randy hughes there now colquitt doesn't want a punt he brother they change gold but he has to kick against the wind but    seconds to go in the third this bird will have the wind at their backs in the fourth quarter tips away it is a good one       klaus his way back and excellent return by book johnson well that would just share guts the way he came back big don't fix you ain't lyin    points in the first half three points in the third quarter as a defense of stiffen up or get both of them go too conservative what do you think i don't buy that conservative part i don't think they executed as well offensively as they had in the first half that those defenses are going to be a big part of that stuff i think there's a lot of action left out let's take a look here we go the fourth period of super bowl    dallas second down eight roger staubach way over the head of his receiver drew pearson and they have worked hard on through pearson today ron johnson a rookie the only rookie starter on either offense or defensive unit of both team pearson has not caught a ball today he's really earned his keep as knee he's right there on top of pierson jams him legally in the first zone and then out of there ahead of him roger did what he could but i'll tell you johnson has really earned his keep today we mentioned earlier it's hard to get a single coverage mike wagon was right over there to help but johnson in question pearson passing men third and eight for the cowboys off the shotgun little flair ha remarkable capture vigo set what an athlete to catch that ball on the floor and he picks up the first down a big third down play for the cowboys one of the things that they're great back the great player will do for you he'll make a couple of plays in the game that maybe no one else could make this is that kind of play the ball is not thrown very well way ahead of it watch him as he gets it now the easy thing would have been to fall down did not fall down made another    yards well we talked about the fact it wasn't perfectly thrown but he had taken so much off and it gave a guy like dorsett with the great speed and opportunity to get his hands on it it was a simple little five back defense the linebackers were not in pursuit of the flames fall back to the advantage over look at the stats were in favor of pittsburgh yet it's a tight game a fourpoint different door said again dorsett goes down on his    yard line knit there by jack lambert number    we pause briefly for station identification chuck noll is test season great record in postseason play ten wins poor lawsuit curt goudy here with john bode merlin olsen our host dick enberg early in the fourth period it's      in favor of pittsburgh light rain this morning go rain now the peel is fast cool that was almost perfect for football devon on a broad and weight loss rate law plows his way to his    yard line and he's brought down by jack ham the left linebacker and also aided by jack lambert here's another third big downplay coming up for the cowboy and we talked about how much jack ham is in on the play this time it looked like the offense may have gotten a little bit the best over he didn't force quick enough when you're making the tackle six yards down the field berlin you know that's not good off defensively it looked like he was out there responsible for the outside i think they're using dorsett as a decoy and opening up some room for laidlaw inside down five cowboys    trailing by four off to shotgun baba flip it's reflected at the please it was green what i don't he's    and a half and he had those arms up there that's what a defensive lineman supposed to do is that merlin they call it high ball in them certainly you got that size and you got those long arms that's the way it's supposed to work they're not getting great pressure they've got the four guys coming it's it's joe green green    and they were playing games the other squad that's a beautiful little stunt and if you want to throw it across the middle it does take your lanes away to throw especially when they're all that big that's right danny white kicking against about a    mile an hour wind the oh bell was the safety man is away and it is a good one it's touched on the eight yard line by betty barn we got a penalty on the field curt danny white hesitated on that play and he let a few of his linemen get out ahead of him they're gonna be called for an illinois man down the two wise men can leave at the snap of the ball the rest have to hold until the ball is kid now watch it he hesitates give him time to get down there and he destroyed the timing of somebody in the interior line they cannot leave till it's kicked they have to anticipate when he kicks it kurt and it really changed a big play not danny wide has made so many big plays on his own from punt formation both throwing the ball and running the ball that you better have somebody keeping guard of the palace or he's gonna run it down your throat that time it was a bad deal for d he knows old man downfield number    offense yes was a member of the punting team dennis thurman the cornerback there he is oh the cowboys have had two bad breaks here they dropped the touchdown pass jackie smith in the end zone and that time they would have had pittsburgh pinned on their own eight yard line let's see what they do here this kicks away a low spiral bail on the six to the    the    so they gained six yards after the penalty and there was thomas henderson down to make the top he can really run thomas henderson i think that's one of the finest open field tackles of the day watch tom henderson he's on the outside he's doing what you'd normally sent a receiver down to do gets off the block right there that's jack dellaplane trying to knock him down now watch this one on one look at him break down great position cheap bail didn't have a chance what a play here's a very interesting statistics on first downs pittsburgh has averaged six and a half yards dallas     yard best burger in having a second and three right now they have a first down from the   th our by franco harris couple yards out to a    hammered down by larry cole the left tackle the   year veteran from the university of hawaii courage you know when we talk about statistics i think this is the indication of the way the second half is going six point seven includes two first bound long gainers by pittsburgh that's why some sometimes when we get involved with stats even though they're as impressive as they are they're not a true indicator of the flow of the game right now both defensive lines and run the ball adore sub    yards i want to talk about that in a minute second down a feeling that passes this tossed away kennefa theo bell bradshaw was being chased by bob bruni and he knew he was in real trouble he's hey get rid of that ball and let me lose blitz is coming bradshaw does not have time head he had little time he might have been able to get swan it was oneonone over there on the corner but he does a smart thing something used to do very well john he unloads the football he knows the worst he's going to have now is a chance at third and eight it's also oneonone breunig and bradshaw yes if that precludes any other oneonone situation they're down eight dealers honor    i had    and a ghost pony wendy grossman hipped by harris and it looks like a first down that's knowing where your first down marker is he caught the ball and as he as he caught it harris knew in the first down marker was to is just a clash can i keep him on the other side of the line he got just far enough gave himself a little leeway there barris gave him the right knee did everything he could to shake it loose that's right it's like trying to hammer the sphere first down steelers on let's put it on there    they're ahead       lynn swann there anybody here's a club deep in their own territory four points ahead and bang bang they come out troy we ask you a question does that look conservative to you he's come out of his own hole and now they're executing that's what i'm talking and the other thing it is it's slowing to the place where it can't be intercepted look how it goes to the ground here no way to intercept that fast     yards for swan stallworth had     yard to wide receiver grover first down the pitches to frank o'hara he's at the    and he has his legs cut off the meandering at the    by erin kyle the right cornerback kyle's a hitter for     pound a second down six we are talking about terry bradshaw never has thrown for     yards in his career in the nfl and today he has     he's poor yards short very seldom has he ever had two today is one of those times in a super bowl will flow again a blitz is on high look out one flags a guy this could be the third to close play a trip well betty barnes was in a position where he did not have his eye on the ball he actually slept for him to make the move back around florida and as lynn swann with a perfect angle to the ball went to move they got tangled up you see cliff harris is on a safety blitz he's well picked up in the center by rocky rocky bleier it's a    yard penalty and a really push picked for pittsburgh an excellent position dealers on the dallas    my boys have had three bad breaks in his house one one bill going oh how he is hit by harvey martin but what amazing running ability has for a wide receiver you look at the suppleness of the man when a guy hits you and one man down downstairs already got a hole and you're still able to get out of there with your bones intact you have you have some ability to handle a situation you look like a rubber man down there they description in about six directions it is second i'm southern coming watch the play get a chance right there to watch dd lewis get a piece of it watch swan now watch the way he bends gets a shot right there twisted over hit again twisted again and got up off the ground second down seven    yard line of dallas pittsburgh ahead       a little over eight minutes to play franco harris they're stopping at aaron kyle coming up to hit him again the play was turned in though by larry cole didi lewis they shred the blockers and allowed kyle to come up and make the hip amazing that dallas has controlled harris so well during the day get a good look at it at ground level harris trying to get to the outside he's got mullin    in front of him but the pursuit is so good and so quick you see lewis out there you see about four or five other cowboys white out there just unable to get any kind of yardage at all larry but they replaced in horrible martin right in randy hughes's in they're down five pittsburgh    this burg leading by   here they come flips    thomas henderson you know what it looks like there's a flag thrown on the play curt but what henderson did so well is he kind of blow people to sleep you can see harris is a little hot at the situation that's where it goes and here is a penalty listen delay of game offense delay of game against the steelers they mark it off     to play it is now on the    a    yard line of dallas it'll be third down and nine bradshaw great day for him franco harris would secure franco harris well the terrible towel go green teammates on great ball club you said are they running then pittsburgh's offensive lineman can get fit yeah dallas out of the flexp fans they can start trapping people all they need to do is give franco one hole they gave it to him and webster mullins and penny did it and it's a trap you see it right there that's number    coming up to the inside he threw the most critical block but franco just blew up in there great penny of course done a great job for them during the year playing guard anti gorillas kick is up flag is down flag down there's franco harris money money player in the big game rush side dallas forget his gun thought is now      one of the reasons that there was room back there for franco is the one the official right there that was pity who came in and just picked him off the back of the official and knocked him down giving franco room and when he gets his momentum up i don't want to check you saw some words between thomas henderson and franco harris and then harris popped in that huddle i wonder if he said get me a hole boys there i want them will i pay hurt there are some dogs you just want to let live and i would say franco harris is one of them sometimes you walk in a huddle he doesn't have to say anything is his calves are pulsating and the linemen know let's get him something going what is a football pittsburgh has i picked up the squib kick fumble in and out of if that cast on randy white made it impossible for him to grasp that football properly later landry very solemn shows a motion and there is the motion what more can happen to me in the second half we've dropped the touchdown pass we've committed a pass interference play we've let the man run open for a touchdown it still has not been determined they still fight for it down there probably maybe the crossbar to get this one even the officials are pushing yeah the officials are getting a little testy yes pittsburgh ball fuzzballs what we thought randy white a defensive tackle picked up the squib kick and fumbled it they still won't untangle down there a chance for you to see it right there randy white just couldn't get it closed into his hands i don't think he could get his hands closed now i agree with you merlin tawny judge dungy forced the play however when it can start falling around on the ground even though the officials have ruled dirt winston took in five minutes to get up they call it a dirt then he was always in the dirt and collie was hitting somebody he's got that super bowl ball for a sitting area it's first down pittsburgh on a dallas    and the steelers go ahead       and the pressure squarely on the shoulders of the dallas defense they can't afford to give up any more points what they need right here is a turnover a big play from the defense get him headed back down the other way bradshaw has his club set fly arm hairs behind him he's gonna throw he's a win sworn touchdown it looked like one of the great catches of all time give bradshaw credit however it was an inandout doubleteam he had to throw over the top of the inside of the double coverage slide made of beautiful leaf being breath kills a turnover they turn it into points a exquarterback how's that for a call i like the execution anybody can call that play there's only a few guys that can get it done now as he goes back he takes a little steam off the ball throws it over the top of cliff harris harris has no play and swann makes a great one but i tell you it takes a lot of guts to make the call because the conservative thing the easy thing is to stay on the ground not to make a mistake bradshaw would have none of that i think he's really grown up as a signal caller and a quarterback the flag is down again on the extra point this bird has scored two touchdowns in    seconds two touchdowns in    seconds the steelers how many times do they do that kurt they play houston in the second half they almost did the same thing dallas offside the kick is good they refused the penalty houston gave up for    points to    importance for th that kickoff in a championship game here's the kickoff coming to busch johnson that's an after the    flag is down and he stopped at his    was     to go in this game we like to let our viewers know that the preview of brothers and sisters is going to be seen in this entirety over most of these stations at the conclusion of the super bowl coverage a brandnew show and one that we know that you're really going to enjoy they tell me it's going to be a really two touchdowns we just pasted it out       on the run back everything's going wrong for the cowboys that's the way it could pile up on you guy bran clipping the two touchdowns were scored in the space of    seconds pittsburgh scored three    points in    seconds against houston at the close of the first half    to    now staubach has to perform some kind of magic door set coming out and is dropped at his    yard line by jack lambert what a happy man he has to be his biggest game ever before his biggest audience ever well let's not let's not curt let us fall ourselves into the same viewpoint that that i'm sure pittsburgh won't i've seen roger staubach come back and beaten a team that i was involved with in the last two minutes score    points before we even got the ball back so this baby is far from over that was that famous game out in san francisco yeah famous to some another second down to cowboys over    bahbah him inside the      banister these are for a second side little stunt over there on the right hand side vanna sak from his end positions coming in behind the move of number    furness watch it here furness comes to the outside occupies two people vanna's ak breaks inside he gets pinned on the other side of stop now watch him spins around to the inside and takes rider down before he can get that ball off force acts today for the steal a very physical team he's got his own bunch here vanna sak        steeler fan signatures on that sign by the way they're down    the time but even wrong      it goes down it picks up a first down he's ran very well here in the second half jack lambert finally stops great coverage and he just simply had nothing to do with the football but run the roger has the kind of mobility the kind of courage that he said hey if that's what it takes that's what i'll do of course the clock is ticking and time becomes a great enemy of the dallas cowboys now they need to get points and they need them quickly it was       at the half       going into the fourth period and then the steelers burst loose on to great bradshaw calls bradshaw the most valuable player juan's that another great superbowl gomboc deep to the sideline the pass is caught at the    by butch johnson if i drew perfect that's his first catch through pearson you can't help but wonder what stalwarts would have done in the second half if he had to come down with lake cramps after going over a hundred yards and i think it's a credit to this pittsburgh team if they were over able to overcome the loss of that greater receiver they just stuck the o bell in there and and he just picked up we're stalwart left off well that's that's an example of the kind of depth that both these teams have in the kind of performance they've gotten from second line people today and during the year first down cowboys are on her    we're trailing       they run a drop leg animation over the fence oh sucks at the    twentyseven hit by ron johnson and here nearly broken he may be over a hundred yards now worse it's not about to give it up the cowboys aren't about to give it up little draw plate handed off inside they're all coming hard on the pass rush the worse it gets away watch steve furness big tackle he's down there almost gets a piece of look at it he's chasing for a hollies worth ron johnson comes across and puts him on the ground okay this is what the great backs are noted for excellent tackling but if you get a tony dorsett in there i don't care who you are defensively you're going to have your hands full and he's going to get loose worse down cowboys in the steel    playaction pass glass is short complete i think at the sixteen inflate to the titan dupree letta sorta wait for the ball he had to wait for the ball but he was in a oneonone situation with dave's stall back got the ball off and in a sheer survival circumstance he was trying to go deep down the line to one of his wide receivers he had to pre as an outlet man hayes was all over but with his back turned to roger never knew where the ball was gary guns in a right tackle shell is being worked on tony dungy zinn there they've already voted for the most valuable player award and terry bradshaw has won unanimously dallas has not conceded however we certainly have it first down and a pittsburgh    bah bah baths your person hips from behind by robbing coal though he's caught two in a row now drew pearson maiya drew hasn't had a chance to really expose some of the skills he has but when we see that wideangle shot it's great you see kirsten on the right of your screen he goes into the end zone everybody's covered he knows drawbacks in trouble and here he comes back it's the only hole in the secondary he finds it and gets the ball that's why he's a great receiver flip her out can you betray the queen touchdown billy joe dupree scores and the cobble has come right back and you have to say what a tremendous team they are not to quit down as far as they were the easy thing maybe just to say hey it's over we can go home but still to    on the clock and you can bet an onside kick and rolling down the field shortly from the house they don't they don't quit because i don't think there's any quit in either one of those teams okay roger gets a little we used to call it a pick play where you try to get the secondary people mantoman try to pick one up off with your other receiver he doesn't effectively ron johnson is shut out of the play and dupree comes up with six all right chef dan will try for the point it is good and i will look for the onside kick two minutes and    seconds to go zip dan will kick now notice all the pittsburgh moon up under    i mean on the dallas    and they're all players that can move and have good hands to try and recover this little onside kick with guns and there it is and it is dallas has it then experiment comes up with it great play because he's sitting there with tony dungy has a first opportunity to get it he's been a big play man for him intersection wise all year the ball is coming hard takes a funny bounce he picked it off in the in the air i always saw pittsburgh come in with    points and it just a short time    seconds and now thallus has a chance to do the same thing we don't want to talk too quickly      on the clock touchdown here another onside kick they made it look easy went right through donesies hands and a great play by dennis thurmond that's like they draw it up in a blackboard isn't it it certainly is mercer down dallas on the    yard line their own    to    to gold dorset and pearson i the backs they'll open up with everything now the shotgun staubach looks frozen and around oh good dupree had it momentarily and then dropped it and now we're down to two sixteen to play one thing that needs to be said not all the super bowls live up to the rating of super football this one has and i think one of the tragedies of a game like this is that a team that loses in the super bowl very often has to carry that stigma throughout the year the dallas cowboys and the pittsburgh steelers have had exceptional years they'll walk away from this game and they should both have their heads way high and should be remembered as champions and winners it wound up the season pittsburgh seven in a row dallas eight in a row second down ten cowboys in there    desperately trying to pull this one out there behind    they have just scored and they've got the ball back again off the shotgun baba throws and complete who pearson has it it's a dallas push down harrison has come alive now he's got three late in this game dorset and pearson are the backs staubach looks looks look he nearly got up a not quite he's sacked steve furness is a man that knocked him off his feet let me correct myself glenn edwards made that interception rather than wagner dallas cowboys made some big plays hamm made the big play there they're down    we're approaching a minute to go steals in a rookie wide receiver we'll go for the endzone that's deep deep the tonyhelen over his head tony hill number    he was trying to hit him with a big one get the onside kick again and hope to pull it out steve furness he's down for nasa the right tackle well well merlin don't these you know when it would have been when you know it seems throwing the ball you're a down lineman and then throwing a    at    times in a row it has to be physically really defeated it does that a furness is had ankle trouble in fact missed a good part of the first part of the year at a freak ankle injury in the warmup he was their most effective lineman last year but he's come back and played well he'll have some time to heal he's made a good account for himself on the field today you see him get a pat on the back from george perlis the defensive coordinator on the sidelines gary dunn replaces him a right tackle gary dunn so the situation is now fourth down    dallas ball    that's right to the hacker chuck noll looks up at the clock    seconds remaining these coaches they could be leading by    points and they're never positive for any glimmer of hope though forth innate deem this has got to be this got to be successful joel green is being taken out and given a standing ovation across the way kurt i just like to take a second to to thank you and john for making me feel so comfortable in the booth i know they have a chance to work together in the last two years the last thing you needed was a third voice that you've really done a good job of making me feel like i belong but i want to thank you publicly for that boy how you belong to fourth and    dallas behind by       seconds to go he unloads a pass with glasses want to catch that one that's a    wagner in there they stopped the clock    seconds people tend to say well it was a good try but this baby is not over yet who does he go to in the toughest of situations drew pearson working on tony dungy mike you see wagner in the back kind of picks him up he's not really stuff if he's trying to hold on to him however it's getting so tight right now emotionally all kinds of bedlam is is is kind of threatening to break loose i think the players and showed darn good control up to here i hope they continue here's wagner close look at mike wagner watch him as he comes up he picks tony he picks drew pearson up and never lets his feet touch the ground he's trying to shake that ball loose unfortunate that unfortunate that drew couldn't got loose he might have gone into the end zone let's say something about the two organizations it's amazing dallas has had the same owner the same general manager textron who has never i i believe never received the credit do in the same personnel director gil brandt and the same coach since      they've been together that same group and over on the other side of course the grand ol amount of football beloved art rooney is son dan rooney chuck noll now for the last ten years two organizations who have done it with consistency and patience and built by the draft and i think the patience is best exposed because both these fellows started chuck noll with one and thirteen when you know that you have the man you want to run your show you let him do it i think this patience has exposed itself into two teams that are as well organized as any two in the game perhaps that's a good lesson to some of the teams around the league who seem reluctant to let a coach have a bad season if he needs one to grow around the    yard line first down dallas ball victory on scott so a joke that he completes it to go set he's got the     is out of bounds on the  yard line he nearly went in tony dorsett the leading ball carrier of all time in collegiate football history national championship his senior year his first two years in the pros over a thousand yards and in two super bowls and we're down to    nervous ticks on the clock and it's hanging right there and kurt you know the action level is getting so severe right now i may not have a chance to say it i don't know what the future holds in store but the last couple of years i've enjoyed being with thank you john thank you jackie smith first down the second on the yard ago in the   yard line no good tenants would rested pearson mr  little short staubach was showing off balance boy this cowboy team has not quit they never do anyway but how they fought back and you sit there and you say second one on the floor why don't you try a running play there is not enough time    seconds he knows he's got nowhere to go he thinks he has a lastditch chance on this every two or three seconds are very meaningful at this critical time he'd like to have done it on our we want to thank joe costanza for his research of statistics jason's risky for his aid here in the booth and a mysterious spotter bird down in the yard to go the past touchdown puts johnson's dallas comes back with two touchdowns they still have time for another onside kick well bodie you were right listen it's been a long afternoon but this man just his game as they come he gets a shot late after he throws the ball to butch johnson who comes up with it with the game at least he's kept them with an opportunity to win i mentioned earlier these babies are not over when you're playing with great people in every position just a quick break can turn something loose    seconds i've seen a lot of things happen in    seconds all right step down for the kick it is up good and now we'll be back or another onside kick    seconds on the clock now the clock won't start until it is touched by the receiving team so if if the pittsburgh steelers want to they can they can almost kill this clock by getting a hold of it or kill a clock by getting a hole that ball and running with it you may see them run the opposite direction it goes neverland pittsburgh has it number    good old rocky bleier for the steeler fans who write on top that would baby seal of fate in fact probably we'll all they have to do is drop on the football and it's over and while we have another quick second one of the reasons that we've enjoyed the coverage from the booth up here is we had a special replay unit operating today mike weissman john gonzales have given you folks at home a chance to see away from the football we should mention that they have done a great job for us this afternoon and this evening carrie bradshaw the most valuable player of the game    seconds    you just can't say enough with staubach they pat him on the back you can't say enough for the cowboys way behind coming back with two touchdowns and of course the steelers have lost only two games all year they have been an awesome team with a passing attack that has been the greatest of the game this year and they're two wide receivers showed it today and with terry bradshaw hitting over     yards and four touchdown passes i don't think i've seen a football team play in a long time john and i've been around the game for about    years professionally that deserves more to where that super bowl ring that he's pittsburgh steelers tom landry's had some tough luck in his half but it'll be talked about the wide open pass to the veteran jackie smith who dropped it but things like that happened chuck knows about the win his team the third of the first team in history to win three super bowl titles and i say something in defense of jim jackie smith i don't think one play in the middle of the third quarter turns the tide of a ballgame there's been too many big plays all day long to make one miss the indicator obviously if we put seven points on the board it would have been the difference i don't think it was in this game    seconds to go again bradshaw goes down and the cowboys will come in they look up at the clock deal wanted the best super bowl game of the law    this was even better chuck noll goes off he has won his third super bowl title the cowboys came back with two touchdowns and there were    points scored and for those have said that they don't score in super bowls this one showed that they can\n",
            "forecast  but it's turned out to be a great day  about    degrees and overcast skies  working with me  of course  as always is the former oakland raider head coach john madden  and  john  frankly  what kind of game do you see   gt  gt  i think both of these defenses are going to go after each other  i think we're gonna see a lot of blitzing  now the last time they played  the redskins didn't handle the blitz of the cowboys  the cowboys sacked joe theismann   times  and he threw   interceptions  if it's going to be a different type of game today  both teams are gonna have to handle those blitzes   gt  gt  head coach of the redskins  joe gibbs  talked to john and i yesterday  and he had a rather interesting comment  i thought  to make about how they matched up against dallas   gt  gt  he said that they don't match up well  he said   we can play other teams  and we can beat other teams   he said   but we don't match up well against the cowboys   he said   if we're going to beat them  we have to play errorfree football  we can't have any turnovers  we have to play the best game we've ever played   and they've been playing that way lately   gt  gt  indeed  they have  john  dallas has won the toss  and they will receive  jeff hayes will kick off for the washington redskins  back deep for dallas will be timmy newsome and rod hill  rod hill coming off that big kickoff return last week against the packers  and just as i said that  he's back there with ron fellows and not timmy newsome  ready to go for the nfc championship and the right to go to pasadena for the super bowl next week  hayes hits a good one  this will be hill at the  yard line  redskins special teams have done a great job  and they do it again  otis wonsley is the man to watch  redskin' fever as you look at the dallas cowboy lineup  quarterback is danny white  dorsett and springs  tony hill and drew pearson the wide receivers  up front  it's cosbie at tight end  donovan  scott  rafferty  kurt petersen  and jim cooper  the offensive line  they'll operate from their own   yard line  as once again special teams help the redskins    crowd cheers   and drew pearson is split out wide to the right  dorsett and springs the running backs  dorsett goes back deep  dorsett will carry first  dorsett outside the     to about the     mel kaufman made the initial contact  now the redskin defense  they have really played well in recent weeks  mendenhall  butz  grant  and dexter manley the front four  the linebackers kaufman  olkewicz  and rich milot  in the secondary  white  dean  peters  and mark murphy  it'll be second and      crowd cheers   this crowd has been wild for about an hour  cosbie moves in motion  white will throw  drew pearson  he has it  and it's a catch  first down  dallas  outside the     to about the     drew pearson has always had big days against the redskins   gt  gt  what the cowboys do here  they change strength  they take doug cosbie  who's on the right  he goes in motion to the left  that changes the strength of the formation  then they come back here  and they throw to drew pearson  weak side   gt  gt  cowboys appear to be going with a doubletight end setup on first down now  drew pearson you can see his record in       hill is out  seems to be some confusion  gives us a chance to tell you that the referee today is jerry seeman  and now they've started things going  from the dallas     two tight ends  cosbie's on the right  dupree's on the left    crowd cheers   this is ron springs  same type of play he broke for a touchdown against washington the first time they played  vernon dean tripped him up     yards for springs and another dallas first down   gt  gt  ron springs didn't play last week  he's had a bad knee  an injured knee  and there was talk all week whether he'd be able to play or not  he tried it in the pregame warmup  he felt pretty good  you see what happens in the  i  formation  everyone is keying tony dorsett  so  they put him to the outside  and that widens those linebackers  and then  boom  they just pop ron springs right up the middle   gt  gt  the   second clock is not functioning at the moment  so  we'll just have to guess  it's kept on the field  as well  dorsett breaks one tackle and slides outside the    to about the     mark murphy  the redskins leading tackler  brought him down   gt  gt  i think mat mendenhall  the left defensive end of the redskins  was surprised when he saw   what do i have here in my hands   it was dorsett  he went right through him   gt  gt  for a moment  at least    yards for tony  d   and it'll be second and     gt  gt  mendenhall has too much stuff in his hands and arms  couldn't feel him  look at all that stuff   gt  gt  can't hold anybody  dorsett the lone set back this time  white to throw  tony hill  slips by one  gets another dallas first down into redskin territory  to the       yard pickup  neal olkewicz finally on the stop   gt  gt  there's joe theismann on the sideline  he's waiting for his turn while danny white's doing a pretty good job  i like the mixture the cowboys have  they started two tight ends  then they'd go to two wide receivers  back with two tight ends  run  pass  inside good mixture on this first drive   gt  gt  they look very businesslike in what they're attempting to do  and so far  very successful  first and    at the redskin     handoff again to springs  and springs bangs into the redskins secondary  bowled over one tackler  he really popped somebody   gt  gt  looks like that rest last week did ron springs some good  he looks kind of feisty in there  doesn't he   gt  gt  mark murphy he just banged to the turf  got about   second and     gt  gt  was interesting  we were talking to tom landry last night about ron springs  he said   you know  he hasn't looked very good in practice  he looks like he's worried about it  but when the adrenaline starts flowing   he said   i think he'll be okay    gt  gt  that makes you get well in a hurry   gt  gt  has good adrenaline   gt  gt  white to throw  redskins on an outside blitz  white throws quickly  drew pearson  had to wait and see if he got it down  yes  he did  it's a catch  jeris white the defender    yard gain white to pearson   gt  gt  we had good sound effects there  we had a thump right there at the end  let's watch it  he's on jeris white here  drew pearson  see  white is playing an inside technique  so  he takes him to the inside  holds him  and then runs that out pattern on him  so  pearson caught the ball  knocked the official down  and ran into the sound man   gt  gt  and if they keep playing with white in that position  that pass is gonna be there all day  with that inside position like that  ball's at the redskin     springs and dorsett still the runners  dorsett  not much this time  although it looked like he slid away from a couple tacklers  mendenhall again   gt  gt  i'll tell you the guy that does the job on this is tony peters  watch him here      the strong safety  he has to feel or force  they call this  now watch  he comes up  takes on that guard  see  and that's what caused the hole  when he took on that block there  he hit a guard  plus drew pearson  and stopped the hole  made a wall   gt  gt  and cut that play off to just   yards  twotight end setup again for dallas  springs is out  second and    dorsett looking for some room again  to the left side this time  squirts down to about the     olkewicz makes the stop  and you look at tom landry's new coat   gt  gt  his belt's not straight there on that left side  i bet he doesn't know that   gt  gt  that's not like him   gt  gt  he's not worried about that  he's worried about calling some good plays  we see him sending one in here with ron springs   gt  gt  you see how much time has expired in the first quarter  and this is play number    coming up in this drive their first thirddown attempt  it'll be third and      crowd cheers   from the     that should be cosbie  and it should be enough for a dallas first down  down at the     cosbie went to his knees  but nevertheless came up with the completion   gt  gt  you know  at  '    which is what doug cosbie is  you can go to your knees  and you're still  '    or so  so  you're still a good sight  watch him now  he's the end man here  number     he starts to the inside  works outside  it's just a little hook  see  he goes down to his knees  and he's still about  '     that's the advantage of having a big tight end  you can always find him in a crowd   gt  gt  cosbie really has come into his own  he's had a good playoff series so far  they go with two tight ends again  they handoff to springs  and nothing doing  they try to run that sucker play again  but dexter manley was right there   gt  gt  dexter manley wasn't suckered  they tried to influence him like it was going to be an outside play  he didn't react to the outside he just waited right there   gt  gt  it'll be second and     as you look at what that washington defense has accomplished  in terms of points allowed  they are the best in the nfl  second and     no gain for springs on that last play  the line of scrimmage is the washington     on the draw play  tony dorsett around a corner  down to the    fumble  and dallas gets it back  rafferty i believe was on it to make the recovery  no  it's doug cosbie       gt  gt  well  i'll tell you  that was a lucky break for the cowboys  'cause you really shouldn't have anyone in position to fumble  now watch this  just one back in the backfield  it's a little trap play  dorsett makes two good cuts  now watch here  as he's turning  he feels the end zone  and watch right here  the ball pops out  the tackle put his helmet right on the ball  the cowboys were lucky that cosbie was in position to recover this fumble   gt  gt  you recall this happened twice in the first game here when they beat the redskins  they fumbled twice and got it back both times in key situations  it's third and   another key situation  redskins showing blitz  white quickly  intended for drew pearson  knocked down by vernon dean  and the cowboys will have to settle for an effort by septien  three weeks in a row  they've gotten down early and couldn't get it in   gt  gt  well  they had the blitz  a big passing down  watch this  we see the blitz  both the safeties weak safety  strong safety cowboys do a good job of picking up the blitz  but vernon dean does a good job  right there  of covering drew pearson  vernon dean a rookie  they wanted to work on him  you have to throw that ball in there  that ball has to be zipped a little more when you get that close to the goal line   gt  gt  from    yards out  with glenn carano holding  rafael septien  really in a groove he's hit    in a row in playoff action  make that     and the cowboys put some numbers on the board first  they lead      they kept the ball a long time  only      left to play in the first quarter  and dallas leads washington      they changed the field goal by septien from    yards to     and he's about to kick off  mike nelms back deep for the redskins  and he is dangerous  he'll have a chance to return this one  nelms at the    blockers in front  penalty markers down very early  nelms does not want to go down  but the flags are down  they'll move it back  i'm sure it's against the redskins  everson walls made the stop  rest of the officiating crew  by the way    in playoff games  they have an alternate  as well  and that's charley musser    crowd boos   walk it off against washington  and they'll start from their     jerry seeman   gt  gt  illegal block during the return  number     receiving team   gt  gt  well  we'll have a look at the redskin offense for the first time today  dallas leading      joe theismann  of course  the quarterback  oneback offense  the one back is riggins  and they give the ball to riggins  and riggins barrels straight ahead and carries      cowboys with him for about   yards  randy white is the main man  but  really  the main man was john riggins  here is the washington lineup  then  the offensive backs and receivers theismann  riggins  the lone runner  charlie brown  ricky walker  alvin garrett  and don warren the receivers  up front  the  hogs   as they're known jacoby  grimm  bostic  may  and george starke  theismann  who's been redhot almost     of his passes complete in the playoffs  riggins again  first down for riggins  as he barrels straight ahead  right at randy white  bob breunig made the stop  dallas has been able in previous meetings to control riggins pretty well  here's their defense  ed jones  john dutton starting  randy white and harvey martin on the other side  the three linebackers hegman  breunig  and brown  and the secondary  walls  thurman  the corners  and barnes and downs the two safeties  first down  washington  at their own     two carries by riggins  warren in motion  theismann looks outside quickly  pass caught by rick walker  short of a first down by about a yard  dennis thurman the dallas tackler  thurman coming off that outstanding week last week against the packers with the   interceptions   gt  gt  now  they always use two tight ends  this time walker is split out  he's like a wide receiver  and they just throw him that little quick or hook to the outside  good firstdown play  it picked up   and creates this nice second and short  second and    that's a great situation to be in  walker again moves in motion  it should be riggins  and it is  and riggins gets the redskin first down to the   yard line before john dutton leads the dallas defense  neither team can stop each other   gt  gt  watch this a lot of motion  we see walker coming in motion here  now he's gonna lead  you see  he leads riggins  riggins sees the lead  good penetration inside  he makes that little cut to the right  finds a soft spot in the defense  and picks up about   more yards   gt  gt  one of the things tom landry was talking about that made washington and riggins effective was their zone blocking  which john will explain to you  i'm sure  in a minute  theismann to throw  firstdown throw  theismann chased  gets away from a couple of cowboys  still on his feet  ed jones in his face  pass complete  don warren comes up with the completion    yard gain   gt  gt  i want to tell you what made this play  watch the left side of the line  joe jacoby fires out on harvey martin  russ grimm fires out on randy white  and they knock them both down  so  theismann can get out to the left  finds time to get his receiver  let's see if we can see that  those hogs did the job on this play  watch this left  here  here's big     joe jacoby      pounds  he knocked harvey martin right down  and now theismann can get outside   gt  gt  boy  it's rare when you see both of them get knocked down   gt  gt  the whole right side was knocked down   gt  gt  reverse coming  that was guy brown  who read it pretty well  this is theismann out trying to block  alvin garrett was the ballcarrier  good play by guy brown to tie things up before it got under way   gt  gt  you know  last week we saw both of these teams open up  the cowboys and the packers  and i think we're going to see the same thing today  hand to riggins  hand back coming out here  we see right there guy brown is right there  he just overextended  fell down  but then the pursuit of the cowboys was able to get there  you see that block  though  that was joe theismann   gt  gt  i know it   gt  gt  quarterback lead   gt  gt  blocked on benny barnes and cut him down  second down and     redskins at the dallas     theismann back to throw again  good protection again  pass complete again  alvin garrett the receiver  about    about a yard short of the first  dennis thurman on the stop  give him     they had second and     and they're just a little bit short   gt  gt  i'll tell you  joe jacoby  the left tackle  watch this  he's blocking against harvey martin here  the left tackle of the redskins      you see  he can use his hands right there  see  he gets him  keeps harvey off  keeps him on the line of scrimmage  by the time he gets going  and it's too late  now  that guy looks like a lineman  he looks like a joe jacoby   gt  gt  and he is  '   and      otis wonsley in the game now with riggins  third and    riggins has it and more much more  riggins trying to get around the corner  they finally get him out of bounds inside the     michael downs finally took him out of bounds     yards for john riggins   gt  gt  i'll tell you  they're working near left side  they're working the right side of the cowboy defense  running right at that left side  now watch it here  john riggins starts out to the left  watch him right here  he starts inside  he has a good lead block right there  bounces off it and turns right up the sideline  the redskins wanted to establish the run  but to be able to do that  you have to be successful when you run  if they're gonna be successful  this guy has to carry the ball    times today  pat   gt  gt  averaging   yards a carry so far  and they'll accept that  a quick count  theismann looking down the middle  has a receiver  touchdown  redskins  charlie brown in front of everson walls    crowd cheers   mark moseley makes it     let's see if it was everson walls   gt  gt  looked like dennis thurman  we'll see it here from ground level  again  the cowboys haven't gone to the blitz yet  and the redskins are doing a good job of pass protecting  they had charlie brown out there  and it was on dennis thurman  he runs a post  let's some watch some more blocking here  let's watch joe jacoby again here  harvey martin takes that inside move  beats him this time  but there's the center  number     jeff bostic  right there  waiting for him   gt  gt  goodlooking drive by both teams  dallas got a field goal  the redskins got a touchdown  and they lead      redskins' scoring drive   plays     yards  they kept it       theismann from    yards out to charlie brown  the touchdown  hayes set to kick off  fellows and rod hill back deep for dallas  this will be rod hill at the    some room  hill around the corner and out to the     to the     as he broke a couple tackles and came out of the pack  wilbur jackson knocked him out of bounds  there is charlie brown  who just scored the redskin touchdown  good year for him      washington  and here's how they got it   gt  gt  charlie brown's the inside man  he's gonna run a post  alvin garrett faked a screen pass  watch  he just runs a post on dennis thurman  has him by two steps  and a touchdown  i think the thing that caused that is alvin garrett caused that fake out there  and that put what was i saying    both laugh   put him mantoman on dennis thurman  charlie brown   gt  gt  that's correct  john riggins with some oxygen  riggins     yards already in the first drive  dallas will start from their own   yard line  danny white    out of    springs moves out as the flanker to the left  the two wide receivers are both to the right  and white will go on first down to tony hill same play they used a minute ago  this time it gets about    and the redskins show up in bunches  vernon dean made the first contact   gt  gt  let's watch the blocking here on mendenhall  that's number     jim cooper  doing a good job  you see mendenhall goes to get up in the air  and you see what cooper did to him  when mendenhall went up  cooper went down and just cut his legs out from under him  which gave danny white a passing lane   gt  gt  that'll keep those passes from being knocked down  second and    white to dorsett  dorsett doesn't get anything  maybe not even back to the line of scrimmage  dexter manley was the big defender for the redskins  he was a big defender because he got penetration  that's a big thing against the run and against dorsett  you can't let them get started  the way you don't let them get started is by getting penetration  dexter manley took an inside move on pat donovan and beat him to the gap   gt  gt  so  it'll be third and    dallas at their own        seconds remaining  first quarter  out of the shotgun  very quickly  intended for drew pearson  and white just missed him  danny white will have to stay in and punt     seconds left in the first quarter  a dangerous mike nelms will go back for the redskins  number     washington    dallas    rafferty the center  the redskins look like they're gonna try to block it  they've got somebody to make sure that white doesn't take off with it  like he did before  nelms up to handle  he's got some room  nelms cuts up to the     not a very good kick by white  angelo king made the stop    yard punt and a   yard return  so  with   seconds left to play in the first quarter  the score remains the washington redskins    the dallas cowboys    the nfc championship between washington and dallas at rfk stadium in washington  one of these two will face the winner of tomorrow's game between the jets and miami in next week's super bowl  first and     washington  don warren was the man in motion  and riggins the ballcarrier  once again he's got room  riggins rumbles for another first down  randy white made the stop  but not before riggins got      gt  gt  on the first drive  they started running that left side  now they look like they're gonna start and try that right side  good block  we see mark may  he'll hook john dutton  you see starke here  he will hook  too tall  jones  the center pulls and leads through the hole  now watch this  now watch the right side  they step  good block  step  good hook  now watch the center  there's jeff bostic  he pulls and leads through   gt  gt  and he got breunig  here's riggins straight ahead again  about    he moves down to the dallas     john dutton tripped him up  redskins running well  joe gibbs said yesterday   the one thing we haven't been able to do against the cowboys is run   well  they're doing it now   gt  gt  we were looking  last time  we see that the redskins  riggins really didn't run well against the cowboys  but he didn't carry the ball many times   gt  gt  here's the same formation of which they scored with both the wide receivers on the same side of the field  this time they shut riggins down pretty well  bob breunig on the defense in the bottom of the pile  he only got a couple  so  it'll be third down   gt  gt  here it is  right here  look  you see in the last three games against the cowboys  riggins only gained         and     but the big thing is  he only carried the ball       and   times  again  he has to carry the ball today    times   gt  gt  he went to joe gibbs and said   coach  i want to carry the ball   that was before last week's playoff game   gt  gt  that was the first time he'd talked to him in about two months   gt  gt  maybe longer than that  they need   for a first down  riggins may or may not have it  he's very close  bob breunig and michael downs hit riggins as he cut upfield   gt  gt  i think it's gonna be a little short  pat   gt  gt  mmhmm   gt  gt  let's watch this  we'll see don warren      comes in motion  he's going to lead through with riggins  you see  he starts there  gets brown out  but michael downs was up there  the redskins are going for it on fourth down   gt  gt  they'll go with all three of their tight ends and two running backs  otis wonsley joins riggins   gt  gt  this is a gutsy call   gt  gt  they lead      they're going for more  riggins gets the carry  he got the first down on an extra lunge  he was hit behind the line of scrimmage and then leaned through everson walls and got it  he's getting his wish   gt  gt  a man of few words   gt  gt   give me the ball    gt  gt  everson walls didn't wrap his arms around riggins  and you have to do that  you just can't hit him with a shoulder  you have to hit him  wrap him  and get him going backwards   gt  gt  redskins the only team that use just one running back all the time  theismann fakes to that one running back  he's chased  theismann gets rid of it  incomplete  intercepted by everson walls  and now they say he didn't have it  it looked clean  alvin garrett the intended receiver  dennis thurman back there  also   gt  gt  you can usually tell by the way a guy argues if he really thinks he had it  he stopped arguing too soon  i bet he didn't have it  here's alvin garrett  he's running an in pattern  you see walls slip  i don't know   gt  gt  i thought he had it   gt  gt  whether he had it or not  that is a great catch  let's look at it from this angle  i don't know  could have touched the ground   gt  gt  you're right  though  it was a great catch  here is joe washington  the ballcarrier this time  nothing doing  the dallas defense just shuts him down  don smerek  who has replaced john dutton  i'm sorry  made the stop along with help from randy white   gt  gt  last night  tom landry said   john dutton will start  i don't know how long he'll be able to go  but don smerek will be ready to go    gt  gt  there is joe gibbs  in the glasses and the headset  exstudent of john madden   gt  gt  i got him started  he was a defensive coach and a linebacker coach  fired him  he went to offense   gt  gt  and he's now regarded as one of the best  theismann will throw  good protection this time  and he does throw  pass is caught  this is alvin garrett  who cuts through the pack of cowboys and makes a big catch  benny barnes made the stop  but it's    yards for the redskins   gt  gt  let's watch alvin garrett out here  he's something  they call him  smurf   he was a free agent  they picked him up  we see him mantoman out there on rod hill  does a nice job  he runs an in  catches the ball  alvin garrett   '   he's a little guy   gt  gt  oh  he's really been a great and pleasant surprise  riggins the lone set back  riggins hit at the line of scrimmage  i believe that was john dutton  it might have been too tall jones  it was dutton   gt  gt  we were talking about alvin garrett  art monk was injured  and the same day monk was injured  their third receiver  virgil seay  was injured  and alvin garrett had to start  and he has really come through with this team   gt  gt  can really jump  he's only  '    but he can really get up   gt  gt  joe gibbs had him in san diego and remembered him from there  he went to the giants  joe gibbs watched him and always wanted him  and he got him   gt  gt  theismann drops to throw  he's got some room to run  he throws  out of bounds at about the  foot line by alvin garrett  it was a catch  penalty marker down  however  back at the line of scrimmage  there is a penalty marker down  there was some confusion over on the dallas bench before that play got started  looked as if ernie stautner and tom landry were trying to call timeout   gt  gt  the penalty's going to be against the redskins  in that type of scramble  it's probably an illegal man downfield  what happened  that was that organized scramble  where the linemen start out to the right and theismann follows them  and  again  if a lineman goes beyond the line of scrimmage  then you can't throw the ball   gt  gt  he might have been beyond the line of scrimmage theismann  let's see   gt  gt  he didn't look like he was  okay  jerry  you tell us   gt  gt  ineligible downfield   gt  gt  right   gt  gt  number      gt  gt  george starke   gt  gt  yeah  it was the right side  they were forming that screen out there in front of theismann  and starke must have gotten downfield   gt  gt  so  they bring back the big play  second and    back at the    now  that one hurt   gt  gt  sometimes those big linemen  they get blocking out there  and they forget where the line of scrimmage is  heck  they're just working  they don't want to catch any passes or anything  they're just doing their job  with a lunch bucket and stuff   gt  gt  garrett is out to the right this time  brown in motion  and theismann will throw  dallas tried to blitz him  garrett wide open  alvin garret down to about the     taken down by dennis thurman  he went all the way across the field and was wide open   gt  gt  look at him  smurf  they have two smurfs  he's smurf    virgil seay is smurf    two little guys smurfs   gt  gt  it's a good name  i don't know where it came from  but it's a good name   gt  gt  that jersey doesn't fit him too well  his arms don't fill out that jersey   gt  gt  the numbers disappear down into the pants   gt  gt  look at those numbers  though   gt  gt  they'll appear  it'll be third and     joe gibbs with the clipboard  landry on the other side in conference  joe washington now has replaced riggins  giaquinto goes in motion  and theismann drops to throw  down the middle to giaquinto  and he is hit  the ball is loose    whistle blows   they'll say it was down  dennis thurman made the hit   gt  gt  oh  i don't know about that one  if they mark the ball there  then that means he caught it  and if he caught it  i think he fumbled it   gt  gt  they call a personal foul against dallas  i believe  or is it defensive holding  we'll just have to wait and see again  i saw two signals  landry not too pleased at the moment with the situation   gt  gt  well  the referee  jerry seeman  he signaled defensive holding  but i don't know about that one  because if he caught that ball they marked it there  then that looked like a fumble to me    crowd cheers    gt  gt  holding  number     defense  first down   gt  gt  that is harvey martin  must have grabbed somebody coming out of the backfield   gt  gt  probably  because they usually don't get them for holding the offensive tackle  it usually is grabbing a running back or someone  now watch  if he catches it there  he's hit there  i guess that they said that they blew the whistle  but that looked like a fumble to me   gt  gt  that penalty  that last one  also carries with it a redskin first down  and a give to riggins  who spins his wheels a little bit but gets to the     harvey martin tackles him  mike hegman helped him   gt  gt  john riggins was saying in those coaches' meetings  where the coaches go  and they draw those plays on the blackboard  he said   i don't pay any attention to that stuff  it never looks the same on the field as it does a blackboard  the only place it's important is how it looks during the game    gt  gt  and it's looked pretty good to him so far  second and    twelfth play on this drive  started back at their own     theismann looking quickly  ball batted in the air and incomplete  in the direction of ricky walker  i believe  was the intended receiver  but nobody was really open  see if we can pick out who deflected it   gt  gt  again  the pass protection has been good by the redskins  the cowboys have tried a few blitzes  they've tried some stunts  and they've picked them up pretty well  and we see joe theismann there  and we just see one of the defensive linemen get his hands up and bat the ball down  it was randy white  number      gt  gt  so  it'll be third down and    ball is at the          left  first half  joe washington is the redskin back  theismann looking quickly to the corner  can't find anybody  and now he does  and can't find the right direction  don warren had stopped  and theismann missed him  ed jones put the pressure on theismann   gt  gt  it's a great thing about having a quarterback that can move  he can get around there and just buy a little time  let's watch it again  this is a pretty good pass rush  you see theismann  he's looking to his left  he can't find anyone  there's smerek  he says   i got him   and then theismann moves out here  buys some more time  he finds don warren  but he doesn't get the ball to him   gt  gt  from    yards out  mark moseley with theismann holding  and moseley gets it high and no good  hit the upright  moseley pulled it to the left  he's been in a little bit of a slump in the playoffs   gt  gt  i think he's only been  for  in the playoffs  let's see if we can watch this from the end zone here  again  it's gonna hit the one on the right  the right of your screen  it starts up  it looks oh  just hit the top of it  bounced right back  no good  you see  he's on the left hash mark  so he has to kick the ball in a little  what he does is  he just kicks it straight  it goes as straight as an arrow and goes right into that upright   gt  gt  it's right  those uprights are right down the hashmark line  so  it's    with      left to play  as you look at the reaction of mark moseley      washington  rfk stadium in washington  pat summerall with john madden  the nfc championship at stake between the redskins and the cowboys  doesn't really have to be anything of that importance at stake when these two meet  'cause they really dislike each other intensely  and they're serious about it  first and     cowboys  at their own     white will throw on first down  and a pass  billy joe dupree wide open  billy joe out to almost the     about a foot short of a first down  it appears  rich milot made the stop   gt  gt  let's watch this now  it's from the  i  formation  with the play fake to dorsett  this is how billy joe dupree can get behind the middle linebacker  see what happens  he steps up to find dorsett  and then billy joe dupree can just sneak right by him and get that   or   yards   gt  gt  second down and very short for dallas  we'll call it    it's not that far  dorsett and springs remain the runners  springs the ballcarrier  gets not back to the line of scrimmage  he lost a couple  dave butz and mat mendenhall penetrate quickly  look at butz's helmet   gt  gt  that's used  that's a used helmet  man  that thing has been in some war  let's watch dave butz here to the right of your screen  we see he gets penetration right there  he takes the outside shoulder of kurt petersen  and he gets springs before he can get started  there's a big man  he looks like he's ready to go some kind of hunting   gt  gt      he is  that helmet big as an apartment   gt  gt    chuckles   the smurfs could move into it   gt  gt    laughing   they could  dorsett tries to swing around to the right  and he is short of the first down by about a foot  tony peters came up  that redskin defense has been excellent  and the crowd loves them  too  perhaps the most avid  rabid fans in the nfl   gt  gt  i'll tell you  it's fun to play and coach in a stadium like this when they're for you  it's a little lonely when you're on the other side   gt  gt  mike nelms back deep for the redskins  and danny white will punt for dallas  the hands of tom rafferty  who will snap the ball  redskins put a pretty good rush on  white doesn't get any of this one  one of his poorer efforts  and the redskins will have it in great shape    crowd cheers   just inside their own   yard line  about the     first and     a   yard kick by white  no return  danny white has been bothered by a deep thigh bruise  i don't know if that's what's wrong  but he's gotten off a couple of kicks that aren't up to his standard      redskins  here's what caused that poor punt by danny white  watch the back end of the ball  that's supposed to be level  you could see the back end of the ball drop  so  he hit the back end first  first and    for the redskins       left in the first half  washington    dallas    riggins will be the ballcarrier  riggins gets a couple  michael downs up quickly with bob breunig's help  guy brown also involved  his shoe came off  it was mike hegman i beg your pardon whose shoe came off  and he'll get a little rest   gt  gt  look at that record  when the redskins have    or more rushes  they're      when they have less than    runs per game  they haven't won   gt  gt  here they are today  what's happened  second and   and riggins again the lone set back  it's don warren in motion  and theismann backtracking  cowboys try to rush  incomplete  it was dennis thurman back with charlie brown  there was a little contact  but i think it came after the ball went by   gt  gt  that was an incomplete pass  but i'll tell you one thing that the redskins are doing well  they are picking up the blitzes of the cowboys  the cowboys blitzed that time  theismann had good protection  good time  he just didn't complete the pass  but i said before the game  and i still feel that that's a big part of this game  let's watch the blitz here  the two outside linebackers will be coming  we see a stunt in the middle  picked up nicely  they picked up the outside linebackers  theismann did have time   gt  gt  washington has replaced riggins  giaquinto goes in motion  third and    theismann outside quickly  bad throw  alvin garrett had a step on everson walls  but the ball slipped out of theismann's hand   gt  gt  i think that was a double slip  pat  i think the ball slipped out of his hands  and i think garrett slipped on his cut  let's watch number     too tall jones  he's working against starke there  just runs right over him and gets his hands up  that's why the ball slipped out of theismann's hands   gt  gt  the old double slip   gt  gt  jeff hayes back to kick  he  too  has been inconsistent  the first washington punt  rod hill back deep for dallas  this one he'll keep all day long and a lot more like it  fumble  everson walls is back on the ball  the ball in the end zone  could be a touchdown  it could be they'll rule that the impetus is back up at the spot where the ball was fielded  and that's what they'll say  washington nevertheless will have the ball  monte coleman made the hit that caused it   gt  gt  it's gonna be the muff rule   gt  gt     by the receiving team on the   yard line  went into the end zone  recovered by the kicking team  by rule  the kicking team gets the ball on the   yard line  first down   gt  gt  this is the muff rule  you see the ball up there  now  as it comes down  you see the impetus of the ball just kept going  i don't know if that wasn't fumbled  but the impetus of the ball brought it back here  so it can't be a touchdown  the ball was touched on the     recovered by the redskins  and it was never possessed by the cowboys  so  therefore  the redskins get it on the   yard line   gt  gt  and there's the man who caused it all  monte coleman  first and    from that point  and joe theismann asking for quiet on first down  let's see if he goes right to work  he goes to riggins  and riggins does go right to work  down to the    benny barnes tripped him up   gt  gt  we're talking about that zone blocking  what these hogs do  these redskin offensive linemen  they just get on the defensive linemen  make the defensive linemen go one way or the other  and then riggins picks it  now watch it  watch the right side of your screen here  you see the hogs start  they have a little cross block there  and then riggins just hits that hole  he can find the hole anywhere inside   gt  gt  second and    riggins again to the outside  riggins to the    perhaps  benny barnes tackled him there  just outside the    it'll be third down   gt  gt  there's joe gibbs  he's talking to his offensive coordinator  dan henning  and they're sending in a play   gt  gt  redskins' turnover margin  you can see in their last    games of which they have won     they're a plus    and they always  those turnovers  become a great  big factor       left to play in the first half  third and    washington is the lone set back  the pitchout is to washington  joe washington doesn't get in  he hurtles down and is knocked back  the redskin players indicating touchdown  but no signal from the official  monty hunter made the hit   gt  gt  this is gonna be an interesting call here  it's fourth down  and the redskins could go for the field goal  but they're not  they're gonna go for the touchdown on fourth down with a lead of      gt  gt  back in comes riggins  that is not a touchdown  but it's a first down   gt  gt  oh  it was a first down  so  then  they don't have to go on fourth down  what they did they took riggins out  they wanted the cowboys to play pass and think pass  which they did  and then they gave that little flip to joe washington  he didn't get the touchdown  but he did get the first down   gt  gt  that dive by washington got them that first down  now it's riggins and wonsley  and it's riggins for the touchdown    crowd cheers   washington has their own j r  john riggins  mark moseley's extra point is good  and the redskins move further in front   gt  gt  let's watch it  they've really been working the left side of their offense  they get a good lead block by wonsley  and once riggins gets his shoulders squared and smells that end zone  he's going to get it in  he will not be denied  watch it from here  now watch the left side  they knock the cowboy defense back into the end zone  they won the war in the pits right down there  watch this blocking  you see  they get that cowboy defense going back  riggins gets things going forward and just dives in   gt  gt  great block by jacoby cleared it out       ron fellows and rod hill back deep for the cowboys  jeff hayes will kick off  the turnovers there's only been one  and the redskins made it work for them  hill fumbles it in the end zone  now decides to come out   gt  gt  he has to come out  pat   gt  gt  i think he does  i think he does   gt  gt  that's gonna be   points  you can't take a step out and then go back in   gt  gt  there's gonna be a big discussion about this one  he stepped on the endzone line   gt  gt  he did  he had his left foot out  that has to be   points to the redskins  you can't take a step out and go back in  the cowboys got a break there   gt  gt  they sure did  cowboys have the ball at their own      gt  gt  okay  now watch  now if he comes out at all  now he catches the ball there  he's out  you see that left foot is out  he didn't have control of it  though  now he gets control  now watch  he starts back out again  now  his foot was on that line  so he has to bring it out  that should have been   points for the redskins    crowd boos    gt  gt  cowboys have it at their own     and white facing a blitz very quickly  throws outside to pearson  and he can't hang on  incomplete  jeris white with him   gt  gt  tell you  these redskins are making things happen today  they're making things happen on offense  making things happen on defense  and on special teams   gt  gt  and they are a firedup bunch  joe gibbs couldn't say enough good things about the support that the redskins have here in washington  he said the fans  he feels  are worth about   points to his team   gt  gt  right now  they don't need it  it's      second and     white down the middle for tony hill  and he can't hang on  the ball was perfectly thrown  and hill just let it get away  jeris white was the nearest defender  the ball was right there   gt  gt  still talking about this play  once he has the ball now he doesn't have possession of it yet  now  once he gets possession  he has possession there  he stepped on the line  that should have been   points for the redskins   gt  gt  cowboys have it at their own     it's third and    now       left to play in the first half  white has to scramble away  does  throws down the middle  intended for butch johnson  jeris white almost came up with an interception  they were chanting before the game   we want dallas  we want dallas   and right now they're taking it to dallas  theismann getting ready   gt  gt  let's watch it again  now  jeris white is happy that he knocked the ball down  he's not happy that he didn't intercept it  and the reason he didn't  he jumped  had he just run right through that ball  kept his feet  he would have had an interception   gt  gt  white is back to punt  nelms comes up quickly to the     no fair catch  he struggles for a couple yards  cowboys were down  led by rod hill       left to play in the first half  well  one more play  and then we'll have the      warning  as the washington redskins lead the cowboys       tom landry always looks the same  joe gibbs  on the other side  a little bit more demonstrative about his emotions  but not much  theismann going for more  no time  first sack of the day this one's by randy white  had some help from too tall jones  they got him   times in the regularseason meeting the only game the redskins lost   gt  gt  that's the type of thing that they're going to have to do in these last       plus that second half  if they're gonna turn this game around   gt  gt  so  we now get the      notification  with washington leading dallas            to go in the first half at rfk stadium  pat summerall with john madden  redskins leading dallas       temperature  by the way  at noontime was    degrees  they had all kind of gloomy forecasts coming in  but so far we've been lucky  the weather's been good  joe washington in the redskin backfield  giaquinto goes in motion  theismann goes back to throw  pressure again  and he doesn't have time  he can't find washington  anthony dickerson was out with washington in the coverage  now the heat's starting to come a little bit on theismann  i mean   gt  gt  let's watch this heat that you're talking about  again  they're getting some stunts in there in the middle  and they're starting to get a push or pressure with their blitzes  you see the guy that hit him was number     monty hunter  and he got in there  and they're starting to get to the redskins   gt  gt  smerek is also playing  and he was close  so  it's third down for theismann and the redskins  this time he's got things under control  washington stays on his feet  tries to juke and now has to go down  redskins will have to punt  dennis thurman made the stop    yard gain not enough       left to play in the first half  clock still running less than that now   gt  gt  i'm surprised the cowboys don't decide to take a timeout here so that they will have some time when they get the ball back  'cause the redskins  all they want to do is take as much time as they can on this punt   gt  gt  they might even take a penalty here  let it run out all the    seconds  cowboys have all   of their timeouts left  hayes just standing back there   gt  gt  cowboys were trying to call timeout  but they don't have a captain out there that can do it  in your last       you change captains  they didn't have anyone  and the official just ignored it   gt  gt  another rocket by hayes  into the end zone  he really rooted that one  both of his kicks have been high and a long way  that one    yards  i thought it might go out of the ballpark   gt  gt  you know what happened on here we go again on that safety play  we're gonna run this thing back again  what they say is  when you come out of there  it's not only his foot  but it's the ball whether the ball went over the line or broke the plane of the goal line  i still say that should have been   points for the redskins   gt  gt  when we watched his reaction  rod hill's reaction  after he realized what he had done  he was happy to sneak away and hide in the crowd  dallas' last four possessions have resulted in   punts  and  of course  the   punt they fumbled  white from the shotgun  has time  throws outside  has a first down  a penalty marker goes down quickly  pass was complete to drew pearson  enough for a first down  but there's a penalty flag down   gt  gt  i bet it's against the cowboys  they probably had an illegal movement   gt  gt  you're correct   gt  gt  well  the cowboys really haven't gotten in sync today  pat  they had that first drive that was a good drive  and since that time they've kind of been floundering out there   gt  gt  illegal motion  number     offense   gt  gt  it was    who caught the pass  drew pearson   gt  gt  well  he was just a little anxious to leave that line of scrimmage and get into that pattern   gt  gt  less than a minute left to play  the cowboys do have all of their timeouts left  first and    from the     here's what they've done the last three times  and the punts haven't been very good  first and    from the     shotgun again  pressure  trying to throw a screen pass  dorsett has it  got one blocker out in front  petersen  dorsett out to the   yard line  and now i'm sure they'll take a timeout  mark murphy made the stop   gt  gt  we were talking about timeouts  at the      warning  you can name captains  now  the cowboys couldn't take it with their special teams because they didn't have a captain out there  now here's the screen pass  see  dorsett fakes that block on butz  they let that whole line rush  dorsett is behind the rush line now and in front of the linebackers and gets a big gain   gt  gt  first down  dallas  their first first down of this quarter  matchup between the two key runners is onesided riggins  timmy newsome in the game now  white will go from the shotgun with    seconds left to play  first half  white gets away from the grasp of someone  this is newsome  out of bounds at the   yard line of washington  perry brooks put the pressure on  he was activated this week    yard gain  another dallas first down   gt  gt  i think dallas is thinking right now to try and get in position to get a field goal  then  once you get that position they need about        more yards to get in septien's range then go for the touchdown  the first thing you want to do  get out of the hole  get to midfield  get the fieldgoal position  then work on your touchdown   gt  gt     seconds remaining  dallas still with   timeouts left  john mackovic next to tom landry  his name's been in the papers a lot lately  white will go from the shotgun  steps up and fires down the middle  this is butch johnson  i believe  yes  it is  and that will be another dallas first down  and another dallas timeout is called  vernon dean made the stop   gt  gt  i think that's the one they wanted to get that field goal  we'll watch it here from the shotgun  butch johnson is on the slot on the right  he's going to come  he runs an in pattern right there  he hits him right in front of mark murphy  and then he gets up there to about the   yard line  that's where they'd like to get  we see butch johnson  he's the slot guy  he's just running an in in front of the secondary  he probably shouldn't have come back that much  after he caught the ball  he probably should have just turned to get up as close as he could to that   yard line  which would be a   yard field goal   gt  gt  dallas with the   timeout remaining  you saw danny white over talking to tom landry  now he heads back again  this would be a long and a tough field goal  particularly on a cold day like this   gt  gt  danny white's doing pretty good from the shotgun today  they've been in it   times  he's completed   passes for    yards   gt  gt  another factor we have to consider of course  the wind  and it would appear to be against septien but not very strong at the moment  if indeed they do try to kick the field goal   gt  gt  they probably need one more completion  and they feel much more comfortable about the field goal   gt  gt  tony hill comes out wide to the right  pearson and johnson wide to the left  white is down and down hard  dexter manley was the man who hit him  and white is still down and hurting   gt  gt  they didn't handle this blitz  they start the linebacker from the outside  the two ends are looping to the inside  no one picks up dexter manley  and he's right on danny white before he can set up  let's watch dexter manley  you see  he takes an inside move there  the tackle comes to the outside  manley goes to the inside and right up the middle and smothered danny white  danny white is still down   gt  gt  they are saying that white's arm had started forward  so it is not a sack  gary hogeboom would be the replacement  and there he is  warming up on the sideline  by the looks of danny white  we might have to have our first playoff look at gary hogeboom  white is hurt   gt  gt  rafael septien is there  thinking that hogeboom has to come in  and  really  to get in his range now  he needs one more completion   gt  gt  here's hogeboom  you remember that danny white a couple of weeks ago  there was some doubt about whether he would be able to play because of a bad thumb  and he took a real shot from dexter manley   gt  gt  it's a tough position for a young quarterback who's only thrown   passes all season  come into a championship game   gt  gt  this now becomes a timeout for dallas  and they have no timeouts remaining  washington has all of theirs  white is still on the field  that is all   gt  gt  i tell you  he is a tough  tough guy  but he really took a shot on this play  let's watch it one more time  we see dexter manley coming on a stunt right up the middle  white starts to throw  brings the ball back down  that wasn't a pass  either  he started to throw  brought it back down  that was more of a fumble than a pass   gt  gt  it was ruled that his arm had started forward  it seems to be an injury to his right shoulder  gary hogeboom  then  is the quarterback  he is  '        from central michigan  in his third year with the cowboys  hogeboom has timmy newsome and has the pass complete down to the redskins     they're gonna have to hurry if it's gonna be a field goal   gt  gt  they're gonna have to run their fieldgoal team out on the field and get it off within   seconds    crowd cheers   they can't do it   gt  gt  nothing doing  no timeouts left  and they couldn't get it lined up in time  septien was out and then went back off  at the half  it's washington     dallas cowboys    and this is a firedup bunch of redskins  it ought to be a great second half  hogeboom has been loosening up over on the dallas sideline  washington leading       septien will kick off the second half in the direction of mike nelms  and nelms at the goal line  hit down quickly by the cowboys  fumble  no signal yet  michael downs was down there quickly  and washington gets the football   gt  gt  the referee  jerry seeman  he was right on top of that play  that was a big break for the redskins  we see danny white  pat  and i think you're right  he doesn't look like he'll start this second half   gt  gt  almost disaster for washington to begin the second half   gt  gt  let's watch mike nelms here  he starts off  and he stops here to make a little cut  watch  you see  he's gonna start to the left  you see  he stops to make the cut  and when he does  he makes that spin  and as he comes out of the spin  he was hit by dickerson   gt  gt  cowboys had a couple of good shots at recovering that fumble  here's riggins  riggins hit at the line of scrimmage by bob breunig  breunig one of seven cowboys headed for the pro bowl  riggins     carries     yards so far  he got only a couple then   gt  gt  i'm sure that's a thing that cowboys talked about in their locker room at halftime is controlling that line of scrimmage  in the first half  the redskin offensive line controlled the line of scrimmage   gt  gt  at the   yard line  it's second and    riggins got   on that firstdown carry  don warren moving  theismann to throw and throws  pumpfakes  going deep  has a man deep  charlie brown  a good throw by theismann  incomplete  or out of bounds i believe they're saying  out of bounds   gt  gt  that was a heck of a throw  it's against a double zone  now watch this  theismann looks to the right  he pumps the short one to fake it  then he tries to hit him right there  see  between the short man and the deep man  it was a heck of a throw  but his foot was out of bounds   gt  gt  right foot went out of bounds before he ever came down  then they knocked him out of bounds further   gt  gt  everson walls and downs over there  it'll be third and   for theismann and the redskins  clarence harmon in the backfield now  giaquinto goes in motion  and theismann once again will drop to throw  he has time and throws  incomplete  intended for alvin garrett  good coverage by dennis thurman  here's danny white  no  he's not coming back   gt  gt  nope  you can tell  the look on the face and no helmet in the hand  he's not going to come back on this series  anyway  again  now theismann still has good protection  we see number     smerek  there  he's working against mark may  we see the blitz  randy white in there taken to the ground  theismann did have time  just no one open  good coverage   gt  gt  jeff hayes will be punting from his own end zone  and doug donley is back deep for dallas  not fellows or rod hill  hayes has hit a couple of beauties so far  this one  not so beautiful  donley at his own     spins away from one man  another  donley inside the     to the     the cowboys will start in good shape  larry kubin made the stop  and white with his head down  he is really in pain   gt  gt  i'll tell you  it's tough  too  when you get this far  you get to the championship  and you can't play  let's just watch what happened to him one more time  dexter manley right up the middle  takes him on high  and it looks like it was either a shoulder or ribs or something  it's something above the waist   gt  gt  you can see the emotion and the pain dripping out of danny white's eye  gary hogeboom is the quarterback  going right to work  hogeboom has a man  tony hill  first down at the washington     mark murphy made the stop after a   yard pickup   gt  gt  one thing about gary hogeboom he has the strongest arm of all the dallas cowboy quarterbacks  i remember when we were there in training camp this summer and watching him  he really throws ropes   gt  gt  got a very quick release  they say  the people who have watched him closely  that he has the quickest release of anyone since joe namath   gt  gt  that is a quick release   gt  gt  yes  hogeboom going deep for cosbie  cosbie turned the wrong way  he was open  he had a step  there's danny white again   gt  gt  i think that reaction is more of being out of the game  pat  than the pain  that's a tough break for the cowboys and danny white   gt  gt  they can give you something for the pain   gt  gt  doug cosbie that was the perfect coverage  doug cosbie was mantoman against mel kaufman  he had a step on him  hogeboom just didn't get it to him   gt  gt  hogeboom   out of    dorsett and timmy newsome now the two set backs  hogeboom to throw  under fire  gets the screen pass to newsome  but redskin neal olkewicz read it perfectly and was there quickly  hogeboom might have drilled that one in there   gt  gt  he almost hit his left tackle  pat donovan   gt  gt  perry brooks again with the good pressure   gt  gt  watch  it's a screen pass  now watch his left tackle  donovan  is out there  and he throws it right past donovan's ear into newsome   gt  gt  olkewicz out there in good shape   gt  gt  didn't fool the redskins   gt  gt  not at all  third down      butch johnson is flipped to the right  along with drew pearson  tony hill's out to the other side  the redskins showing blitz  and they ought to be coming  and they are  hogeboom in the pocket  throws outside  butch johnson has it out of bounds  first down  jeris white on the coverage    yard pickup a good throw from hogeboom   gt  gt  let's watch this from the shotgun  again  it's a tough situation  the blitz  the stunt  he has time  they pick him up  and he gets the ball out here to butch johnson for first down   gt  gt  john  i'll bet you there's not a redskin fan anywhere who doesn't think back a few years to texas stadium  roger staubach being hurt  and a guy named clint longley coming in the game   gt  gt  that's right  i'll tell you  george allen's a guy that's never forgotten that one  to this day  george allen talks about clint longley   gt  gt  pitchback  dorsett  dorsett cuts back to about the  yard line   gt  gt  it's really tough for a backup quarterback to come in a game  in a regular game  and then you make it a playoff game  and that would be tougher  you make it a championship game  that has to be one of the most difficult things they have to do  especially when you're behind      if they were ahead  they could go to a lot of that running game and ball control  but hogeboom has to come in and score points   gt  gt  that was john mackovic talking to landry  i mentioned before his name has been in the papers  he's been rumored to be the leading candidate for the coaching job in kansas city  second and    hogeboom to throw  blitz is on  drew pearson touchdown  he broke the plane  i guess    crowd boos    gt  gt  darn near broke the ball when he spiked it  that's a good start for a young quarterback   gt  gt  that'll make him feel a lot more confident  let's look at it   gt  gt  drew pearson starts in motion  and then he goes back  now watch hogeboom  he's watching to the right  he's looking all the way  good  quick release  as you said  he gets the ball out here to drew pearson  all he has to do to score touchdown is the ball break the plane    laughing   i don't know if it did   gt  gt  that's going in  rafael septien with glenn carano to hold      at the moment  taking a lot of time  it's good  looked out of sync  the whole thing  but it was good  see what hogeboom did after he fired his first touchdown pass   gt  gt  well  when you throw your first touchdown  and then you throw it in a championship game  he took a sack  he probably didn't even know  when you have dave butz  you can't even see if you got it   gt  gt  when you have dave butz on top of you  you can't even see daylight  pat summerall with john madden  rfk stadium  rafael septien about set to kick off  mike nelms back deep for the redskins  ball blew off the tee  so septien has to go retee  there's danny white  the word we have just gotten from irv cross  who's been over by the cowboy bench  is not necessarily from danny white but from the dallas medical staff  that his eyes are clear  he must have just been stunned  and they say there is a possibility that he could come back and play  septien's kick goes to nelms  nelms will start from the redskin  yard line  nelms has got some room  he's got only septien  now he's got somebody else chasing him  nelms finally taken to the ground by dennis thurman  mike nelms   yard kickoff return   gt  gt  let's watch it again  he starts to the right side and keeps the ball on the right side  good blocking up there up front  septien was the last guy  they get him  now it's a footrace mike nelms and dennis thurman  tries to give him a little move  thurman gets him  great return   gt  gt  all the way down to the dallas     redskins  first down  they give to riggins  and riggins is wrapped up after a yard  and now he's hurled back  john dutton led the dallas defense  here is nelms  bit of the mouthpiece and a happy fellow at the moment   gt  gt  we were talking about special teams as being a big part of this game  a lot of times  you always think of the offense against the defense and the matchups  but sometimes those special teams that will win a game for you   gt  gt  they recovered the one fumble that led to their second touchdown  the redskins  that did  they got it at the   yard line  it's second and    and theismann probably will have to put it up  walker in motion  theismann goes back  all over him is hegman  and now here comes anthony dickerson from the other side    crowd boos   second sack   gt  gt  we see the blitz  we see the middle linebacker coming  the outside linebacker coming  they're bringing two  hegman really makes a nice move on john riggins  you see riggins was there  had good position on him  and hegman gives him a move  watch him on the lefthand side of your screen here  riggins     see  he went to the outside  gave him a little arm slip  and went underneath   gt  gt  we see that leap by dickerson at the end of it  third and     giaquinto in motion  dallas blitzing again  clinkscale is chasing theismann  throws  got a man  that'll be enough for a first down to charlie brown  inside the     to the    everson walls  brown on the end of a   yard pickup   gt  gt  most of the blitz is coming from theismann's left  he feels it there  he starts out to the right  he has the center out there in front of him  organized scramble  and he's able to find charlie brown downfield  you see  he invites that blitz  then he pulls the center out to the right  follows him  an organized scramble  and he was able to get the big first down   gt  gt  first and goal  the ball almost at the  yard line  walker again in motion  riggins plows inside the   to about the    bob breunig on the bottom of the stack  redskins     cowboys     second and about     gt  gt  this is where you test your hogs  down here  you get in there  and this is a battle of the trenches  the linemen against the linemen  it's whoever controls this line of scrimmage  last time they were down there  the redskins controlled it and knocked the cowboys back  this is where linemen come in  the big play   gt  gt  they have wonsley in with riggins now as the two runners  the give is to riggins  and riggins barrels into the end zone    crowd cheers   moseley  the extra point is down the heart  and it's the redskins     the cowboys      gt  gt  i'll tell you  they're going right at the cowboys' strength  right at randy white  john dutton  bob breunig  you see right here  watch as riggins goes through  he just runs right over the middle linebacker  bob breunig  watch breunig here  number     he reads it  he sees it  takes on the guard  takes on riggins  riggins says   i'm having none of that   boom  right into the end zone  the redskins won that battle   gt  gt  not to be denied john riggins  just barreled his way in   gt  gt  let's watch the blocking down here in the goal line  the center blocks here on randy white  the left guard  russ grimm  pulls and leads through on breunig  and riggins runs right in behind him  watch that  the center will block back  he does the job on randy white  there comes russ grimm around  and john riggins runs right over that block and right over bob breunig   gt  gt  russ grimm blocked two people  he cut off spradlin  as well  jeff hayes' kickoff to ron fellows  at the corner  fellows heads back outside  not much room for fellows to go anywhere  back to about the     and that's it    crowd cheers   john riggins   touchdowns     yards     carries  by the way  that   yard kickoff return by mike nelms a minute ago is an nfc championshipgame record  the old record was    yards set way back in      by max krause of washington against the chicago bears  greg williams is the limping redskin  hogeboom is still the dallas quarterback  pitchout is to dorsett  dorsett has nothing doing  breaks one tackle  that by jeris white  tony peters juggled him out of bounds  dorsett got up to about the     a  yard pickup   gt  gt  one of the things that improved on this redskin defense this year is the tackling of their secondary  that's one of the goals that they have is to have their safeties  mark murphy and tony peters  be in on more tackles  and the other big thing is their corners  they've really gotten it this year from jeris white and from vernon dean on the other side   gt  gt  second and    dean has really come on  he is facing drew pearson at the moment  timmy newsome in the backfield  hogeboom going deep for drew  couldn't quite reach up and pull it down  mark murphy was the defender  and hogeboom just barely missed him   gt  gt  that's the second one that hogeboom just barely missed  and sometimes you get the adrenaline pumping  you get a little excitement  and you have to have that hand control  and sometimes a young quarterback will lose that  that looks like that happened to hogeboom a couple times   gt  gt  one of the things that has impressed me about him is the fact that when he has to put the ball up over somebody  he seems to have the ability to do that  as well as throw it hard  there's the backup punter for dallas  rafael septien  hogeboom throws  has a man  butch johnson  and that should be enough for a dallas first down  septien may not have to go into action quite yet  jeris white tackled him    yards   gt  gt  you know  a couple of weeks ago  hogeboom thought that he might start against tampa bay  that was when danny white had the bad thumb  so  he did go through that experience of getting ready to play in a playoff game  and i think that could be beneficial  though he didn't play   gt  gt  he didn't play a down  but  as you say  just getting ready to play   gt  gt  just thinking you're going to play   gt  gt  probably would help him in this situation  dorsett rambles out to the   yard line  vernon dean made the stop  dorsett whipped that for    yards   gt  gt  good blocking here by tom rafferty  he'll block back against butz  you see  he picks off butz  gets him going that way  and then dorsett has that quickness to pop it right through the middle   gt  gt  clock stopped with      left  third quarter  this is the tenth play of this drive  that started back at the       crowd cheers   hogeboom throws  intended for cosbie  knocked away at the last second   gt  gt  tony peters is all over the field  we've seen him on the line of scrimmage  making tackles against the run  we saw him there against doug cosbie  and then the play before that  he was one of the three defensive backs in the end zone  let's check in on the line down here and see what's going on there in the pits  you see a little stunt  good blocking there  good hands that keep butz right on the line of scrimmage  big center big tom rafferty in there in the middle  solid middle  like a rock   gt  gt  hogeboom out of the shotgun  they show a safety blitz  hogeboom hits tony hill    crowd boos   just at the markers  it might be enough for a first down  hogeboom out with hill  it is a first down   gt  gt  you talked earlier about his release  let's watch this from the shotgun  now watch how quickly from the time he decides he's gonna throw  boom  that's what a quick release is  from the time the eyes see a guy open and decide on who they're gonna throw to that the ball leaves the hand that thing  that mechanism between the line and the hand  the eyes and the hand   gt  gt    out of   from the shotgun  he's not in that formation this time  about time he used dorsett  dorsett gets down for about   to the     dave butz got a hand on him and tripped him up   gt  gt  everyone said that if gary hogeboom ever got his chance  he would do it  well  today's his chance  and thus far he's doing it   gt  gt  time remaining  third quarter  hogeboom  again  is from central michigan   '   and      they'll break it out on the   th play of this drive that started back deep in dallas territory  it'll be second and    hogeboom looking around behind him quickly  throws back to timmy newsome  this is tony hill  nothing doing for tony hill  they wrap this one up  that didn't surprise anybody  darryl grant was out there quickly  there's a committee meeting   gt  gt  the tricks didn't work this time  look at the flip to newsome  gets the defense going that way  now watch  they all see it  and now they start running back  there's grant  he just jumped over cosbie  came right down the line  peters up there again to the outside  there's jeris white  bunch of white jerseys  fooled them for a little while but not long enough   gt  gt  mark murphy back there quickly  too  it'll be third and     as they lost yardage  now we'll see if he can stay perfect out of the shotgun  got a blitz going  hogeboom for johnson  touchdown  a penalty marker down  penalty flag in the end zone  johnson going with the california quake  hogeboom had the ball right there  but keep in mind there's a flag down  it's against the redskins   gt  gt  illegal contact  number     defense  penalty declined  touchdown    crowd boos    gt  gt  this is gonna be some fourth quarter coming up   gt  gt  butch johnson's still celebrating  hogeboom is perfect from the shotgun today  watch that ball coming right at you   i got it  i got it  i beat stretch out  touchdown    gt  gt  hogeboom is perfect  as you said  johnson is down in the gravel   gt  gt  up against the fence  can't go any deeper than that   gt  gt       left to play  third quarter  it's       washington  as septien is good     yards in    plays  does make you happy  doesn't it   gt  gt  hogeboom see  he's smart  the first guy he jumps on is the guys that block for him   gt  gt    chuckles    gt  gt  don't go around doing that  look at butch johnson  what he does   gt  gt  tom landry says he thinks that dance that butch does does him more good than anybody else       left  third quarter at rfk in washington  the dallas scoring drive     plays     yards  time of possession dallas        pretty even washington        septien will kick off  remember that mike nelms returned his last kickoff    yards  this one will chase nelms back deep into the end zone  he likes to bring them out  he thought about it  he goes down at the    this time  and right here  john riggins might need some defense  ed jones was the one who put the initial smack on the helmet of riggins   gt  gt  let's watch randy white here  you know  we haven't heard a lot of randy white against this run in there  you see what happens  he gets a little early jump  maybe that's why we haven't heard him  he's getting doubleteamed there by the guard and the center  i'll tell you  that was good blocking there by jeff bostic and russ grimm   gt  gt  i think they caught him in the middle of a flex  as well  don't you   gt  gt  yeah  they did  he was the flex back and then getting up   gt  gt  no gain  second down  a fake to riggins  theismann has some time  knocked away by dennis thurman  penalty marker down on the far side of the field  and they're indicating  or at least the redskin players are  don warren  at least  saying it's against dallas   gt  gt  watching anthony dickerson out there  he's reacting as though it is against dallas  probably against him  number       crowd cheers    gt  gt  holding  first down   gt  gt  holding  number     defense   gt  gt  dickerson  you're right   gt  gt  first down   gt  gt  you can always tell the guy that puts his hands on his hips and argues is usually the guy that they're calling against  let's see if we can see     you see he's working on don warren  the tight end  they said that he held  he must have been right on the line of scrimmage  maybe it was after that   gt  gt  i didn't see it  must have been after  fake to riggins  theismann down in the hands of anthony dickerson  a very active linebacker  i guess you call that a sack  might have started on a rollout   gt  gt  what you call that is a makeup  you said   i gave you     now i'll take    away from you   it was a fake to riggins  he's gonna run a bootleg  dickerson was the outside linebacker on a blitz  and he got up into the path  and theismann didn't have a chance   gt  gt  here's a guy  anthony dickerson  who could play defensive back if need be  he's that quick   gt  gt  clarence harmon in the game for the redskins  it's second and     giaquinto in motion  theismann down the middle  pass complete to don warren  had monty hunter draped all over him but still picked up a few yards  harvey martin put a little pressure on theismann that time   gt  gt  you know  last week in the cowboys' game against the green bay packers  harvey martin didn't make a tackle  didn't make a tackle against the run nor a quarterback sack  joe jacoby's been doing a pretty good job against him today   gt  gt  excellent job  third and         left  third quarter  washington leading        line of scrimmage is the washington     theismann back to throw  here comes    pass is caught by clarence harmon  who's still fighting for yardage and still struggling  theismann under heavy pressure from the dallas rush again  dextor clinkscale finally made the stop  watch what happened to theismann   gt  gt  watch what happened to harvey martin here  he starts up to the outside  and he's just trying to outrun  for some reason  he got on the tight end  don warren  on that play  just got there a little late  the screen pass   gt  gt  and ed jones was back there at theismann's side with him  doug donley again back deep for dallas  the redskins letting that clock run  joe gibbs very much aware of what time is left on that scoreboard  donley is gonna have to let this one bounce and does  and it takes a cowboy bounce back to the     it's downed by otis wonsley  gary hogeboom leads the dallas offensive unit back on    yard punt by hayes  no return  dallas takes over        washington over dallas  time for well  maybe two plays in the third quarter     seconds on the scoreboard  gary hogeboom has timmy newsome and tony dorsett  over on the dallas bench  that's ernie stautner at work  the defensive coordinator  newsome and dorsett the runners  hogeboom to throw on first down  if he has time  screen  can't do it  nobody out there  no receiver  dorsett had worked his way up the field a little too soon  darryl grant put the big rush on   gt  gt  hogeboom is upset  he's saying that someone grabbed his running back  let's see if we can see it happen in there  we see the pressure  he's looking for the screen  the only guy out there was his two offensive linemen  of course  they can't touch the ball  let's see if we can watch from the end zone and see if anyone grabs tony dorsett      yeah  right there  you see  he was held  and that's what hogeboom was arguing about  that was rich milot  number     that grabbed dorsett   gt  gt  so  it'll be second and    and throwing time again  although they ran a very successful draw before  newsome started in motion  hogeboom has newsome  right through his hands  wideopen timmy newsome had this ball just go right through his hands  newsome had daylight in front of him  too   gt  gt  you see tom landry on that play  who says he never reacts   gt  gt  landry did a spinner   gt  gt  let's just watch it  see  jeris white had newsome  he let him go  thinking tony peters was going to get him  tony peters went off  newsome was all alone   gt  gt  that was    hogeboom back to throw and throws outside  has drew pearson  it's a catch  and it's a first down  pearson has had some great days against the redskins  boy  there's the mark of a very experienced receiver an   yard pickup  he made sure he got the first   gt  gt  let's watch an experienced receiver  he knows right where that marker is  right there  he knows where the sideline is and where the first down is  there's tom landry  he's trying to get a glimpse of it  he said   mmm  that's the one we needed    gt  gt  that was our first look on pass defense at joe lavender  who got caught looking inside  and pearson took it to the outside  dallas and washington  a full fourth quarter to go yet        washington leading  hogeboom down the middle  cosbie  has it to the redskin     tony peters made the hit  big target down the middle   gt  gt  that's the thing  they haven't been working doug cosbie a lot today  i was just thinking that they'll probably start going more to him  watch him  it's a crossing pattern  he starts up a little fake to the outside  runs right underneath tony peters  good throw  the ball's lead right out in front of him  let's watch it as it comes towards us  now we're defensive backs  we see a little roll  we say   what's happening   we say   here's cosbie  i got him  he got me a couple steps  good throw now i got to tackle him   boom  boom  boom   gt  gt  cosbie took himself out of the game  billy joe dupree is in  along with jay saldi  cosbie shaken just a little bit after that last reception  here's a draw play to dorsett  who sort of sneaks through down to the   yard line  darryl grant tripped him up   gt  gt  well  cosbie's okay  because he's going to bring in this next play  tony dorsett has been making in the last few weeks most of his yardage inside  you always think of him as a sweep runner  an outside runner  but he's been doing a lot of his work between the tackles   gt  gt        left to play in the game        redskins over the cowboys  second and    dorsett got    redskins shift their defense  and hogeboom gives to dorsett  nothing doing there  absolutely nothing  they shifted in the right direction   gt  gt  sure did  and maybe that's why the cowboys aren't running dorsett to the outside so much  i think all defenses set up to defend dorsett to the outside when you defend the cowboys' run  you just saw the redskins just jumped right into it  and the cowboys ran right into it   gt  gt  i suppose that's one of the disadvantages of the coach calling all the plays  a young quarterback unable to audible away from it   gt  gt  the young quarterback will be in the shotgun this time  and so far today he's perfect when he's from the shotgun   gt  gt  hogeboom back at the   yard line  it's a low snap and fields it well  had newsome  and it's knocked away by rich milot at the last second  and we'll see septien   gt  gt  rich milot is the man who got the hand on it  newsome cutting across the middle  and hogeboom is no longer perfect from the shotgun   gt  gt  it's what they wanted to do  they wanted to isolate mantoman on a linebacker  they got it  but milot knocked the ball down   gt  gt  septien from    yards  make it    yards out  got to take his steps off that painted part of the field  of course  the whole field really is just painted dirt  he's hit    in a row in the playoffs  not anymore  the streak is gone  septien no good  so  the score remains redskins     cowboys     pat summerall with john madden  rfk stadium  nfc championship        left to play  redskins' firstdown balance you saw  they lead the cowboys        theismann asking for quiet  quickly outside  juggled momentarily by garrett  by the time he found the handle  dickerson had recovered   gt  gt  i'm sure that joe gibbs was thinking on the sideline and probably talking to joe theismann   and we have the lead  there's only       left to go  but we can't go into our shell  we still have to keep our offense open  keep getting first downs  we can't become conservative and give those cowboys too many shots at us    gt  gt  they got   on that completion to garrett  pitches back to riggins  he's got some room to the outside  bob breunig chased him down  just a little bit short of a first down  riggins had a blocker out in front  maybe a couple  it looked like that was gonna be more than it was   gt  gt  he had a blocker out in front  but breunig sneaks right inside the block  you see the blocker to the outside  that was joe jacoby  and breunig came from the inside  watch big number    pull  he weighs     pounds  look when he gets the corner turned  how would you like to be a cornerback out there    chuckles   that was the strong safety  benny barnes  out there  you look and say   i got him  i got him   here comes a    pounder at you   gt  gt  third and    you expect riggins  he maybe got the first down  ed jones made the stop  he's close  and maybe not   gt  gt  the redskins are going to have to punt  the cowboys really in this second half doing much better against the run  you see why  you see too tall jones      there  they're starting to control the line of scrimmage and get penetration  that time  too tall jones ran right around george starke   gt  gt  doug donley back deep for the cowboys  and jeff hayes will kick again for the redskins  donley's got great speed  hayes hits a dandy  hanging up there for donley  who fields it  donley looking for some room and doesn't have any  he gets it back to about the     pete cronan was down to make the stop  a penalty flag down    yard punt   yard return  danny white it's an encouraging sight  isn't it  back warming up   gt  gt  it'll be a tough decision for tom landry  gary hogeboom has been in there for three full series  scored two touchdowns and had the attempted field goal  now  do you take him out and go back with your starter  or do you leave him in because he's really playing pretty well  that's a tough decision   gt  gt  face mask     gt  gt  facemask violation   gt  gt     kicking team   yard penalty first down   gt  gt  the unintentional facemask grab  jerry seeman says   we'll take a timeout   tom landry looking on  hogeboom is still in the game  white is still warming up  washington still leads        the jefferson memorial  as we tour washington  and now get back to the business at hand  cowboys have the football at their own     redskins lead by   points        left to play  still hogeboom  gonna throw on first down  does quickly  picked off  mel kaufman makes the interception for the redskins    crowd cheers   a linebacker back in good shape  as tony hill was the intended receiver   gt  gt  let's watch that  mel kaufman is out there  he's the left linebacker to the right of your screen  he just runs right out to that out  gets underneath it  i'll tell you  he really got up in the air and made tony hill have to come back and tackle him   gt  gt  kaufman comes from a strong academic school   gt  gt  highly academic school cal poly san luis obispo   gt  gt  john riggins lunges for   or   yards  michael downs hit him  but riggins carried him   gt  gt  and this is where john riggins is important  he was saying last week that he doesn't really get comfortable until he's run the ball    times  said   after i run that thing    times  i know what that defense is doing   oh  he's already rushed    times today  so  he ought to be comfortable   gt  gt  he ought to be   gt  gt  this is the time you like to use your big fullback  you got the lead     minutes left  just keep pounding him in there at him   gt  gt  ricky walker and charlie brown split wide to the right  walker goes back now in motion  theismann gives to riggins  and he gets nothing  ed jones again hits him  randy white on the bottom of the pile along with john dutton   gt  gt  one thing they have to do  the redskins have to stop those ends  you see  usually the cowboy ends we're talking about too tall jones and harvey martin stay outside  they're starting to pinch and squeeze that inside down on the redskins   gt  gt  cowboys now put in their passrushing unit  with the extra defensive backs  smerek has replaced dutton  dickerson is the lone linebacker  third and    giaquinto in motion  followed by clinkscale  and theismann's gonna use the controlled roll  he does  has a man wide open  charlie brown  out of bounds at the cowboy   yard line first down  rod hill knocked him out of bounds   gt  gt  now watch this controlled roll  watch him  he starts to the right  then he pulls the center out there  has his linemen out in front of him  and then he has that controlled scramble  finds charlie brown on the sideline and gets the first down  that's an interesting thing  what they do is they invite the cowboys up the field  pull the center out to the left  and theismann follows him   gt  gt  line of scrimmage is the dallas     riggins still the lone set back  now they start back to the inside with riggins  and he gets a couple  certainly within the range of mark moseley now  it'll be second down and about   at the dallas     clock running         gt  gt  with a  point lead  though  i'm sure that the redskins are thinking touchdown here  because a field goal would still put the cowboys within   to tie  but if we have an overtime here  they just keep going on till someone wins   gt  gt  second down and   at the dallas     handoff  riggins again  and riggins barrels down for good yardage this time over the left side of his offensive line  down inside the     mike hegman finally knocked him down  not enough for a first  but sizable gain nevertheless  that'll make it third down   gt  gt  now the redskins are going into their shortyardage offense  that means three tight ends and two running backs  they bring in otis wonsley as a second running back   gt  gt  third and   at the     clock still running and running to the redskins' advantage       left to play  riggins is the deep back  handoff is to riggins  don't believe he got the first down  now joe gibbs faces a very interesting decision  dennis thurman was the first man to hit him  i think you got to go with a field goal if it's not a foot or so   gt  gt  i think they have to go for the field goal  anyway  you have everything going your way  and you really can't take the chance here to lose the momentum and everything else  see what joe gibbs decided to do sending in mark moseley and take the field goal  you have to do that  your team has worked too hard to be in this position  you've gotten down there  and you can't come away emptyhanded   gt  gt  moseley has had a bad time in the playoffs  you think there's any chance that they might run a fake field goal here  because theismann is the holder   gt  gt  and he's on that left hash mark again  the last time he kicked one from here  he kicked it straight ahead and hit the upright  he has to put it inside a little   gt  gt  going after it  this one he got  up high and good and down the middle  and the redskins move out in front by          now it's tom landry who faces another difficult decision  i think  who is his quarterback gonna be  moseley tells you he was successful  moseley's   yard field goal puts the redskins up by a touchdown        you see the time of possession on the day  the redskins have been able to take advantage of turnovers hayes chases donley deep in the end zone    yards deep  and here he comes out  doug donley gets out to the     and that's about it  larry kubin was the man down to make the stop on the kickoff coverage  there's the situation  and you see it will still be gary hogeboom  danny white warmed up for a while then sat back down   gt  gt  the thing about this situation you look at it  fourth quarter    points separating the teams  it's also the difference between going to the super bowl or not  one of these teams will be in pasadena next week  and the other one will be spread around the country  watching it on television   gt  gt  and the financial considerations are substantial  if you go all the way  each man will get an extra          hogeboom fakes  throws the screen and has it batted away and picked off in the air by darryl grant  touchdown  redskins    crowd cheers   darryl grant was an offensive guard last year  secondyear man from rice  moseley's extra point is good  let's look at it from the opposite side   gt  gt  we'll see grant  he starts up the middle  he's getting a push  that's going to be a screen pass  watch right here  it's dexter manley  number     he comes in from the outside  he gets his hands up  bats the ball  and it goes right into darryl grant's hands   gt  gt  this is rich milot   gt  gt  they know how to celebrate  listen to this crowd    crowd cheers    gt  gt  there is no one sitting down anywhere except a few redskin players   gt  gt  let's watch this play again  the touchdown  now watch  we'll see number     grant  how alert he is  he starts there  he feels a screen  he starts down there  manley jumps up  manley tips the ball  he's the guy that made the play  grant  who was playing screen  was right there  he caught it and got a defensive lineman dream and touchdown   gt  gt        redskins  as hayes kicks it off  it's doug cosbie who fielded it  a short kick by hayes  cosbie is knocked out of bounds at about the    by quentin lowry   gt  gt  look at that  the cowboys have had   turnovers  and the results of those turnovers that's the big thing    points for the redskins  then  on the other hand  it's like joe gibbs said   we have to play a perfect game   the redskins have not had a turnover   gt  gt   everything has to go our way   he said  and it has  indeed  redskins have played a super football game   gt  gt  and joe gibbs should get a lot of credit for that   gt  gt  they haven't fumbled  they have no interceptions  hogeboom is the dallas quarterback        he's got to throw just about on every down now  drew pearson across the middle to the   yard line  taken down by vernon dean    yard gain and they'll move the sticks  clock running       left to play  cowboys have got to get into gear in a hurry   gt  gt  we'll see vernon dean here  he's going against drew pearson  it's gonna be an in  you see he gets that quick cut  that quick delivery again of gary hogeboom he gets the ball right in there  he really does have a quick release   gt  gt  pearson's caught   passes for    yards  hogeboom out of the shotgun this time  down the middle  intended for tony hill  but that one wasn't there  mark murphy the defender   gt  gt  the redskins know they have to put pressure on  they have to cover because what they're doing is protecting a  touchdown lead   gt  gt  that's the book on danny white before he went out right at the end of the first half  dexter manley hit him just as the ball came out of his hand and fell on top of him  and white hasn't been back  joe theismann  another successful day for him  hogeboom gives on a draw play to dorsett  and dorsett gets out to about the         rich milot on the tackle  big third down coming up for the cowboys  dorsett     carries     yards  clock running  boy  these fans are gonna go wild if this thing stays like it is  everybody has all timeouts left  landry looks on  his team has lost in the nfc championship game the last two years  third and    redskins blitz  hogeboom throws  has a man  butch johnson in the middle  hogeboom backtracking that time in the face of that blitz  got a strong arm   gt  gt  see  pat  drew pearson has gone off the field  i think he injured his left leg  that'll be tough  tom landry is trying to get as many receivers in the game as he can  he's bringing doug donley in now  with      left  they need two touchdowns  and they have to get that one as quickly as possible   gt  gt  the way pearson was walking off  it looked like it might be a hamstring pull  donley's in  in his place  hogeboom drops on first down  throws  intended for tony hill  knocked away  redskins all around him  clock stops at      left to play   gt  gt  you see all those redskins  that what you call convergence  that the ball really does draw a crowd  and those redskin backs are really reacting to the ball  now watch tony hill  he's working against vernon dean  but watch all the white jerseys that come flying into that picture when the ball's thrown   gt  gt  while all that was going on  drew pearson came back into the game  and now he splits out wide to the right  so  it can't be a hamstring pull  timmy newsome also in the game  hill out wide to the left  hogeboom on a quick count this time  has time  throws  intended for butch johnson  no penalty marker down  butch really thinks that that should be interference  he doesn't hide his feelings too much    crowd boos    gt  gt  tell you one thing  those two safeties mark murphy and tony peters are doing an excellent job  here we see jeris white  we see butch johnson  watch those two safeties  both the weak safety and the strong safety are there wherever the ball's thrown   gt  gt  that was very  very close to being a legitimate complaint by butch johnson  that was almost interference  dexter manley  who deflected the pass a minute ago  knocked it into the hands of darryl grant  and the redskins had a touchdown  third and          left to play  hogeboom looking for someone  finally throws to no one  tony hill broke the pattern off  and hogeboom threw it out of bounds  fourth down   gt  gt  there's one thing  he knew that he didn't have anything to tony hill out here  but you would think with a thirddown play  you have to look to the other side  try and find something else  well  the whole season goes down to this play here   gt  gt  just about   gt  gt  fourth down   gt  gt  cosbie comes on  fourth down and     line of scrimmage is the redskin     newsome trots out  dallas down to    seconds on the   second clock  hogeboom kicks back  redskins showing blitz  and here they come  hogeboom throws to the outside  throws over the head of tony hill  incomplete  and the redskins could lock it up if they could just make a couple first downs  they'll be going to pasadena against either the jets or the miami dolphins   gt  gt  joe gibbs isn't gonna smile  though  is he   gt  gt  not yet   gt  gt  here's tom landry on the last play  fourth down  that may be the end   gt  gt  pat summerall with john madden       left to play at rfk stadium  redskins     cowboys     redskins    at rfk in playoffs  that's before today  riggins  burrows over the left side  tries to break loose from a couple of tackles  michael downs brought him down  danny white injured just before the half  riggins now has    yards and    carries       left to play  ball's at the   yard line  the redskin fans now just sitting on the edge of their seats  in most cases  they're standing  those that are sitting  just on the edge  second and    riggins again  barrels this time near a first down  breunig finally tripped him up  but riggins got about     gt  gt  i'll tell you  there will be a lot of celebration in washington tonight with these fans and with this football team  have to give out a lot of game balls  but it's that offensive line of these redskins that really did the job today   gt  gt  they have done an excellent job  riggins now over     yards  let's see how he got that last bundle   gt  gt  let's see if we can see some more of this blocking  just watch those white jerseys fire out  look at that  they're controlling the line of scrimmage  they have everything going  all they need is a little standstill  and they get them going backwards  riggins gets through   gt  gt  and got a first down  riggins     yards and    carries     years old     pound john riggins  the dallas story    three times in the last three years now for them in the championship game  riggins will go to work again  finally falls out of a pack for about   yards  anthony dickerson tripped him up  and those redskins know the time is getting near  they'll have one more game to play   gt  gt  well  we were talking about what they had to do  john riggins has carried the ball    times today  we had the feeling that if he could carry it    or more that they would win  he did  and they are  they're on their way to pasadena   gt  gt  gibbs said   we've never been able to run against dallas   but they have today  riggins will have another go at it  riggins  down to the     another redskin first down   just give it to me  coach    gt  gt  that's pretty good news  actually haven't talked in a couple of months  this left side of the offensive line started off doing a good job  and they're finishing their day's work  look at that  boom  boom  and it's going backwards  then you give it to that big fullback right in behind you  there's a hog  that's what they call them   gt  gt  they say that riggins  although the rest of the members of that group are the offensive linemen  riggins is a true hog   gt  gt  they gave him a hogs tshirt   gt  gt  they have hung the cowboys  there's the hangman's noose       left to play  dallas called a timeout  they have two left    crowd cheers   there's danny white again  redskins' first down at the cowboy     riggins again  straight ahead  anthony dickerson made the stop   gt  gt  this is a great feeling from the redskins' sideline  when you know you're going to the super bowl  all you have to do is finish it out  you got a chance to enjoy it right now because after this game  they're going to have to start thinking about the super bowl and who they're going to be playing  but now this is true enjoyment on that sideline  you don't have to worry about the next one yet  you just enjoy  you congratulate each other  love  the whole doggone thing  man  this is a great feeling and a great time  that's not   gt  gt  not on that side  there was some discussion during the week that the redskins got to play on saturday and dallas had to play on sunday  but dallas had to travel  and the redskins didn't  you think that was a factor at all   gt  gt  no  i sure don't  i think the redskins have to be given all the credit that they deserve  they came on the hard way  joe gibbs came in a year ago  didn't have a lot to work with  started off     and he just kept going  just kept fighting  fighting back  john riggins came back  this offensive line developed  they did it the hard and a tough year  doggone it  they deserve the credit   gt  gt  here goes riggins again  riggins in the hands of michael downs  struggling still  may have another first down  riggins carrying michael downs  that will be the      warning  dallas down to   timeout now  riggins     carries      yards  and the redskin fans are starting to go wild        that much time left for the nfc championship for the washington redskins  last time these two teams played in a championship game here was       the result that day was washington     dallas    and today it's washington on top again  at the dallas     and here goes riggins again  over the center and then spinning back to his right  randy white tripped him up  dallas' last three trips the last three years to the championship game    lost to philadelphia in philadelphia       lost to san francisco in san francisco in that thriller last year        and now in washington  they trail        the clock's running  line of scrimmage  the dallas     cowboys with one timeout remaining  riggins goes again  wrapped up this time by harvey martin  had some help from the outside  they got to use that one timeout sometime if they think it's gonna save anything   gt  gt  i'm sure they won't use it  but you know that statistic  you see them losing there  there's jack kent cooke  the owner of the washington redskins  one of the happiest men down there   gt  gt  there's about    happy or more   gt  gt  looks like he was trying to get a little coaching in there   gt  gt  yeah  little forearm shiver   gt  gt  and dallas has just taken their last timeout  it's third down and   at the   yard line of dallas  redskins and the victory celebration on the sideline  another forearm shiver   gt  gt  that sideline's tough  they've lost the championship game the last three years in a row  but  doggone it  you can't lose them if you don't get there   gt  gt  that's right   gt  gt  and they've gotten there  and they've been one of the outstanding teams in the national football league  they're a real class team  but today's the day of the washington redskins   gt  gt  look at the back of big dave butz   gt  gt  there's bobby beathard  bobby beathard was very instrumental in building this team  he knew that he had an older he knew he had to do something about it  he went out and did it   gt  gt  third and    riggins  when you win a championship  and you have    free agents on your squad  you've done something  rich milot signaling for cheers for the fans  they respond   gt  gt  if i were the redskins  i'd want to take these fans to pasadena with me the whole stadium   gt  gt  you know they want to  charlie brown had started at the middle of the field for the celebration  theismann went and got him and brought him back  theismann will just run it down as far as he can  he'll knee it  that should do it   gt  gt  no  it really doesn't do it because there's a timeout  a change of possession  no one knows that  it was fourth down  joe  the officials are still saying   hey  come back   the fans are on the field  it's not over   gt  gt     seconds remaining on the scoreboard clock  and john madden is so very right  the cowboys still have    seconds to operate with  but they're already going down the tunnel into their locker room  the fans are all over the place  we have time for one more play   gt  gt  and the officials are down there on the   yard line  they're still waiting  i think for safety purposes  though  they better say   that's it   they're trying to call everyone back  they have to get these fans off this field  this could be dangerous   gt  gt  here comes theismann with the football  joe gibbs is still out there  i remember this happened one time to us at yankee stadium when i was with the giants  and there was talk of us having to forfeit if they didn't play the rest of the game  we were playing the browns  they all went into the locker room  and they had to bring them back out and finish it off   gt  gt  the officials are standing strong  they're waiting   gt  gt  while they're getting ready for things  let's tell you who's responsible for the  nfl on cbs     that's a guy that we've worked with very closely all year long and who has done just an outstanding job  you look inside the redskin locker room  and all these great pictures that you've seen over the year brought your way by sandy grossman  our director  our cheerleader  special word for our free safety  richie zyontz   gt  gt    laughing   how's he get to be the free safety   gt  gt  and all the rest of the people   gt  gt  i'll tell you  they do a great job   gt  gt  don't they  though   gt  gt  been an enjoyable year  i don't know that the cowboys have come back on the field  looks like the redskins are leaving the locker room to go out again  i don't know if the cowboys will   gt  gt  i don't think i would  i wouldn't want to  i know that  'cause it's not gonna change the outcome  we're not playing for total points to see who goes somewhere now  here come the redskins back out again  there's one cowboy player  i think it's drew pearson still left on the field  joe theismann taking over crowd control  as well as quarterbacking the redskins   gt  gt  well  theismann didn't have to come out  the offense really doesn't have to come out because it's the dallas cowboys' ball   gt  gt  we'll just have to wait and see   gt  gt  no  the cowboys i don't believe are coming out  tom landry around making his rounds to his players  but i don't believe dallas will make it back on the field  there's drew pearson talking to theismann   gt  gt  someone ought to have a discussion with the referee  jerry seeman  there  you're right  drew pearson is out there  maybe he's representing the cowboys   gt  gt  well  drew can go ahead and run a play by himself  you don't have to have    men  you can get by with fewer  so  he can just go out there and pick up the ball and run it out himself  that would solve everything  wouldn't it   gt  gt  jerry seeman  the referee  is there talking to joe gibbs  it looks like joe gibbs says   is it okay to go in    gt  gt  and we still wait  there are those    seconds still on the scoreboard clock   gt  gt  and  again  the reason is  the redskins went for it on a fourth down  theismann just knelt down  so  when he knelt down  the whistle blew  that's change of possession  stops the clock  still    seconds   gt  gt  it looks like jim myers  in the middle there  has just found out that  hey  they want us back out there again   but they're not coming  wonder how long we're gonna stand here   gt  gt  the cowboys were asked if they wanted to come back and finish the game  they said yes  they do  and they're coming out of the tunnel now   gt  gt  and as they come out of the tunnel  it starts to rain  here comes the cowboy offensive unit  and it just started to rain just a second ago  we had had  as we said at the beginning of the broadcast  some really gloomy forecasts about what the weather was supposed to be  and everybody was dreading it  but it just began right now to rain  cowboys look around to see if they got enough people out on the field  here comes hogeboom  finally  so  they have somebody to call the play  redskins defensive unit is out there     seconds left on the clock  again  they're not gonna change the outcome of the game   gt  gt  well  the redskins fans and the players can have one more celebration  anyway  when it does get down to zero  they can go through those antics again  but they're on their way to pasadena  and  doggone it  as i said  they're the rodney dangerfield of the nfl  they didn't get a lot of respect  but they have respect now  they did it  they went through the dallas cowboys  a team that you have to if you're gonna represent the nfc   gt  gt  look  john  who is the quarterback for the cowboys now   gt  gt  drew pearson   gt  gt  drew pearson   gt  gt  he used to be a quarterback   gt  gt  in high school  in fact  he and joe theismann were quarterbacks at the same high school south river  new jersey   gt  gt  it will go in the record books that they did play against each other as quarterbacks in the nfl   gt  gt  in the meantime  the celebration goes on  pearson just takes it and downs it  and that will run it out    crowd cheers   joe gibbs  fighting his way through the crowd  and he's gonna have a tough time getting there  it is gonna be a wild scene for a long time  for john madden  this is pat summerall from rfk stadium  saying so long  been a great year \n"
          ],
          "name": "stdout"
        }
      ]
    },
    {
      "cell_type": "code",
      "metadata": {
        "id": "hNzMwONn3EMQ"
      },
      "source": [
        "# Counting the words and their frequency in the dataset\r\n",
        "words = []\r\n",
        "for sent in trainTranscripts:\r\n",
        "    for w in word_tokenize(sent):\r\n",
        "        words.append(w)\r\n",
        "len(words)\r\n",
        "fd = FreqDist()\r\n",
        "for w in words:\r\n",
        "  fd[w] += 1\r\n",
        "ranks = []\r\n",
        "freqs = []\r\n",
        "count = 0;\r\n",
        "for temp in fd.most_common():\r\n",
        "  count +=1\r\n",
        "  ranks.append(count)\r\n",
        "  freqs.append(temp[1])"
      ],
      "execution_count": null,
      "outputs": []
    },
    {
      "cell_type": "code",
      "metadata": {
        "colab": {
          "base_uri": "https://localhost:8080/",
          "height": 591
        },
        "id": "44qjOWVE3HCD",
        "outputId": "b022a5f4-d61b-4958-ac20-60821c5d7891"
      },
      "source": [
        "# plotting graphs againt word and their frequency to validate Zipf's Law\r\n",
        "plt.plot(ranks, freqs)\r\n",
        "plt.title(\"Plot showing variation of word occurence frequency against word rank\")\r\n",
        "plt.xlabel(\"Rank order\")\r\n",
        "plt.ylabel(\"Frequency of occurence of word\")\r\n",
        "# plt.savefig('FrquencyVsRank.png')\r\n",
        "plt.show()\r\n",
        "# plt.clf()\r\n",
        "plt.plot(np.log(ranks), np.log(freqs))\r\n",
        "plt.title(\"Plot showing Zipf's Law  log word freq against log word rank\")\r\n",
        "plt.xlabel(\"Log rank\")\r\n",
        "plt.ylabel(\"Log frequency of word\")\r\n",
        "# plt.savefig('LogFrequencyVsLogRank.png')"
      ],
      "execution_count": null,
      "outputs": [
        {
          "output_type": "display_data",
          "data": {
            "image/png": "[encoded data removed]",
            "text/plain": [
              "<Figure size 432x288 with 1 Axes>"
            ]
          },
          "metadata": {
            "tags": [],
            "needs_background": "light"
          }
        },
        {
          "output_type": "execute_result",
          "data": {
            "text/plain": [
              "Text(0, 0.5, 'Log frequency of word')"
            ]
          },
          "metadata": {
            "tags": []
          },
          "execution_count": 11
        },
        {
          "output_type": "display_data",
          "data": {
            "image/png": "[encoded data removed]",
            "text/plain": [
              "<Figure size 432x288 with 1 Axes>"
            ]
          },
          "metadata": {
            "tags": [],
            "needs_background": "light"
          }
        }
      ]
    },
    {
      "cell_type": "code",
      "metadata": {
        "id": "yqPhhrJgXk9X"
      },
      "source": [
        "# Function to get  fixed length sequences\n",
        "def get_fixed_sequence(text, seq_len = 5):\n",
        "  sequences = []\n",
        "  words = text.split()\n",
        "  if len(words) > seq_len:\n",
        "    for i in range(seq_len, len(words)):\n",
        "      seq_list = words[i-seq_len: i]\n",
        "      sequences.append(\" \".join(seq_list))\n",
        "  else:\n",
        "    sequences = words\n",
        "  return sequences"
      ],
      "execution_count": null,
      "outputs": []
    },
    {
      "cell_type": "code",
      "metadata": {
        "id": "OOC1yD6CR-TX"
      },
      "source": [
        "output = [get_fixed_sequence(transcript) for transcript in trainTranscripts]"
      ],
      "execution_count": null,
      "outputs": []
    },
    {
      "cell_type": "code",
      "metadata": {
        "id": "0SMuteARSG8U",
        "colab": {
          "base_uri": "https://localhost:8080/"
        },
        "outputId": "0d07e6d0-9fb8-4806-902c-43524dd834a8"
      },
      "source": [
        "length = 0\n",
        "for i in output:\n",
        "  length+=len(i)\n",
        "print(\"Length of the Fixed length sequences: \", length)"
      ],
      "execution_count": null,
      "outputs": [
        {
          "output_type": "stream",
          "text": [
            "Length of the Fixed length sequences:  607879\n"
          ],
          "name": "stdout"
        }
      ]
    },
    {
      "cell_type": "code",
      "metadata": {
        "id": "Ur5K3i73ScF2"
      },
      "source": [
        "output = sum(output, [])"
      ],
      "execution_count": null,
      "outputs": []
    },
    {
      "cell_type": "code",
      "metadata": {
        "id": "myWIAwP9YIj_"
      },
      "source": [
        "# Generating input and target sequences x and y\n",
        "x = []\n",
        "y = []\n",
        "for seq in output:\n",
        "  words = seq.split()\n",
        "  x.append(\" \".join(words[:-1]))\n",
        "  y.append(\" \".join(words[1:]))"
      ],
      "execution_count": null,
      "outputs": []
    },
    {
      "cell_type": "code",
      "metadata": {
        "id": "1iQRIRwgYKL7",
        "colab": {
          "base_uri": "https://localhost:8080/"
        },
        "outputId": "237c639d-8518-490c-f9d8-b65c8615afa7"
      },
      "source": [
        "x[0], y[0]"
      ],
      "execution_count": null,
      "outputs": [
        {
          "output_type": "execute_result",
          "data": {
            "text/plain": [
              "('the steelers now are', 'steelers now are spreading')"
            ]
          },
          "metadata": {
            "tags": []
          },
          "execution_count": 17
        }
      ]
    },
    {
      "cell_type": "code",
      "metadata": {
        "id": "cGRrrRuPYMLi"
      },
      "source": [
        "# Logic to generate integer to token mapping\n",
        "int_to_token = {}\n",
        "cnt = 0\n",
        "\n",
        "for w in set(\" \".join(trainTranscripts).split()):\n",
        "  int_to_token[cnt] = w\n",
        "  cnt+= 1\n",
        "\n",
        "# Logic to generate token to integer mapping\n",
        "token_to_int = {t: i for i, t in int_to_token.items()}"
      ],
      "execution_count": null,
      "outputs": []
    },
    {
      "cell_type": "code",
      "metadata": {
        "id": "bi-A0lV-YNii",
        "colab": {
          "base_uri": "https://localhost:8080/"
        },
        "outputId": "cec44912-93de-4234-e06e-18d9d28efa5b"
      },
      "source": [
        "vocab_size = len(int_to_token)\n",
        "print(\"Number of Unique Tokens(Vocabulary Size): \", vocab_size)"
      ],
      "execution_count": null,
      "outputs": [
        {
          "output_type": "stream",
          "text": [
            "Number of Unique Tokens(Vocabulary Size):  17257\n"
          ],
          "name": "stdout"
        }
      ]
    },
    {
      "cell_type": "code",
      "metadata": {
        "id": "bOWsKNu8YPKn"
      },
      "source": [
        "# Function to generate integer sequences\n",
        "def get_int_seq(seq):\n",
        "  return [token_to_int[w] for w in seq.split()]\n",
        "\n",
        "# convert text sequences to integer sequences\n",
        "x_int = [get_int_seq(i) for i in x]\n",
        "y_int = [get_int_seq(i) for i in y]\n",
        "\n",
        "# convert lists to numpy arrays\n",
        "x_int = np.array(x_int)\n",
        "y_int = np.array(y_int)\n"
      ],
      "execution_count": null,
      "outputs": []
    },
    {
      "cell_type": "code",
      "metadata": {
        "id": "RqhWKA6fYSjR"
      },
      "source": [
        "# Function to create batches from the input data\n",
        "def get_batches(arr_x, arr_y, batch_size):\n",
        "  prev = 0\n",
        "  for n in range(batch_size, arr_x.shape[0], batch_size):\n",
        "    x = arr_x[prev:n]\n",
        "    y = arr_y[prev:n]\n",
        "    prev = n\n",
        "    yield x,y"
      ],
      "execution_count": null,
      "outputs": []
    },
    {
      "cell_type": "markdown",
      "metadata": {
        "id": "qDzfdOo-CTlP"
      },
      "source": [
        "# **Building LSTM Model**"
      ]
    },
    {
      "cell_type": "markdown",
      "metadata": {
        "id": "fOneTcQkLQ0r"
      },
      "source": [
        "RNN is recurrent in nature as it performs the same function for every input of data while the output of the current input depends on the past one computation. In RNN, all the inputs are related to each other.\n",
        "This makes them applicable to tasks such as Language generation and Machine Translation. Long Short-Term Memory (LSTM) networks are a modified version of RNN, this makes it easier to remember history data in memory. The vanishing gradient problem of RNN is resolved here. LSTM model is well-suited to classify, process and predict data. It trains the model by using back-propagation. Hence this model is best suited for our project."
      ]
    },
    {
      "cell_type": "code",
      "metadata": {
        "id": "4uy49YWyYXW_"
      },
      "source": [
        "class WordLSTM(nn.Module):\n",
        "    \n",
        "    def __init__(self, n_hidden=256, n_layers=4, drop_prob=0.3, lr=0.001):\n",
        "        super().__init__()\n",
        "\n",
        "        self.drop_prob = drop_prob\n",
        "        self.n_layers = n_layers\n",
        "        self.n_hidden = n_hidden\n",
        "        self.lr = lr\n",
        "        \n",
        "        self.emb_layer = nn.Embedding(vocab_size, 200)\n",
        "\n",
        "        # define the LSTM\n",
        "        self.lstm = nn.LSTM(200, n_hidden, n_layers, \n",
        "                            dropout=drop_prob, batch_first=True)\n",
        "        \n",
        "        # define a dropout layer\n",
        "        self.dropout = nn.Dropout(drop_prob)\n",
        "        \n",
        "        # define the fully-connected layer\n",
        "        self.fc = nn.Linear(n_hidden, vocab_size)      \n",
        "    \n",
        "    def forward(self, x, hidden):\n",
        "        ''' Forward pass through the network. \n",
        "            These inputs are x, and the hidden/cell state `hidden`. '''\n",
        "\n",
        "        # pass input through embedding layer\n",
        "        embedded = self.emb_layer(x)     \n",
        "        \n",
        "        # Get the outputs and the new hidden state from the lstm\n",
        "        lstm_output, hidden = self.lstm(embedded, hidden)\n",
        "        \n",
        "        # pass through a dropout layer\n",
        "        out = self.dropout(lstm_output)\n",
        "        \n",
        "        # out = out.contiguous().view(-1, self.n_hidden) \n",
        "        out = out.reshape(-1, self.n_hidden) \n",
        "\n",
        "        # put \"out\" through the fully-connected layer\n",
        "        out = self.fc(out)\n",
        "\n",
        "        # return the final output and the hidden state\n",
        "        return out, hidden\n",
        "    \n",
        "    \n",
        "    def init_hidden(self, batch_size):\n",
        "        ''' initializes hidden state '''\n",
        "        # Create two new tensors with sizes n_layers x batch_size x n_hidden,\n",
        "        # initialized to zero, for hidden state and cell state of LSTM\n",
        "        weight = next(self.parameters()).data\n",
        "\n",
        "        # if GPU is available\n",
        "        if (torch.cuda.is_available()):\n",
        "          hidden = (weight.new(self.n_layers, batch_size, self.n_hidden).zero_().cuda(),\n",
        "                    weight.new(self.n_layers, batch_size, self.n_hidden).zero_().cuda())\n",
        "        \n",
        "        # if GPU is not available\n",
        "        else:\n",
        "          hidden = (weight.new(self.n_layers, batch_size, self.n_hidden).zero_(),\n",
        "                    weight.new(self.n_layers, batch_size, self.n_hidden).zero_())\n",
        "        \n",
        "        return hidden"
      ],
      "execution_count": null,
      "outputs": []
    },
    {
      "cell_type": "code",
      "metadata": {
        "id": "jdA5Yu1CQ5JH",
        "colab": {
          "base_uri": "https://localhost:8080/"
        },
        "outputId": "dee731bd-7f80-468c-85c4-b867d9fa89b3"
      },
      "source": [
        "# instantiate the model\n",
        "net = WordLSTM()\n",
        "\n",
        "# push the model to GPU (avoid it if you are not using the GPU)\n",
        "net.cuda()\n",
        "\n",
        "print(net)"
      ],
      "execution_count": null,
      "outputs": [
        {
          "output_type": "stream",
          "text": [
            "WordLSTM(\n",
            "  (emb_layer): Embedding(17257, 200)\n",
            "  (lstm): LSTM(200, 256, num_layers=4, batch_first=True, dropout=0.3)\n",
            "  (dropout): Dropout(p=0.3, inplace=False)\n",
            "  (fc): Linear(in_features=256, out_features=17257, bias=True)\n",
            ")\n"
          ],
          "name": "stdout"
        }
      ]
    },
    {
      "cell_type": "code",
      "metadata": {
        "id": "_Ju3C6m2Q70m"
      },
      "source": [
        "# Initializing a list to calculate the loss values \n",
        "loss_vals =  []\n",
        "def train(net, epochs=10, batch_size=32, lr=0.001, clip=1, print_every=32):\n",
        "    \n",
        "    # optimizer\n",
        "    opt = torch.optim.Adam(net.parameters(), lr=lr)\n",
        "    \n",
        "    # loss\n",
        "    criterion = nn.CrossEntropyLoss()\n",
        "    \n",
        "    # push model to GPU\n",
        "    net.cuda()\n",
        "    \n",
        "    counter = 0\n",
        "\n",
        "    net.train()\n",
        "\n",
        "    for epoch in range(epochs):\n",
        "\n",
        "        # initialize hidden state\n",
        "        h = net.init_hidden(batch_size)\n",
        "        \n",
        "        # initializing epochs loss in each iteration\n",
        "        epoch_loss= []\n",
        "\n",
        "        for x, y in get_batches(x_int, y_int, batch_size):\n",
        "            counter+= 1\n",
        "            \n",
        "            # # convert numpy arrays to PyTorch arrays\n",
        "            inputs, targets = torch.from_numpy(x), torch.from_numpy(y)\n",
        "            # inputs, targets = x,y\n",
        "            \n",
        "            # push tensors to GPU\n",
        "            inputs, targets = inputs.cuda(), targets.cuda()\n",
        "\n",
        "            # detach hidden states\n",
        "            h = tuple([each.data for each in h])\n",
        "\n",
        "            # zero accumulated gradients\n",
        "            net.zero_grad()\n",
        "            \n",
        "            # get the output from the model\n",
        "            output, h = net(inputs, h)\n",
        "            \n",
        "            # calculate the loss and perform backprop\n",
        "            loss = criterion(output, targets.view(-1))\n",
        "\n",
        "            # back-propagate error\n",
        "            loss.backward()\n",
        "\n",
        "            # appending the loss item to the initialized epoch loss\n",
        "            epoch_loss.append(loss.item())\n",
        "\n",
        "            # `clip_grad_norm` helps prevent the exploding gradient problem in RNNs / LSTMs.\n",
        "            nn.utils.clip_grad_norm_(net.parameters(), clip)\n",
        "\n",
        "            # update weigths\n",
        "            opt.step()            \n",
        "            \n",
        "            if counter % print_every == 0:\n",
        "            \n",
        "              print(\"Epoch: {}/{}...\".format(epoch+1, epochs),\n",
        "                    \"Step: {}...\".format(counter))\n",
        "        # Appending the average epoch loss after each iteration      \n",
        "        loss_vals.append(sum(epoch_loss)/len(epoch_loss))"
      ],
      "execution_count": null,
      "outputs": []
    },
    {
      "cell_type": "code",
      "metadata": {
        "id": "VQldnPNkBPk-",
        "colab": {
          "base_uri": "https://localhost:8080/"
        },
        "outputId": "13b2f770-fb76-48da-a743-d9fe9c093f0b"
      },
      "source": [
        "#Training the LSTM model\n",
        "train(net, batch_size = 32, epochs=20, print_every=512)"
      ],
      "execution_count": null,
      "outputs": [
        {
          "output_type": "stream",
          "text": [
            "Epoch: 1/20... Step: 512...\n",
            "Epoch: 1/20... Step: 1024...\n",
            "Epoch: 1/20... Step: 1536...\n",
            "Epoch: 1/20... Step: 2048...\n",
            "Epoch: 1/20... Step: 2560...\n",
            "Epoch: 1/20... Step: 3072...\n",
            "Epoch: 1/20... Step: 3584...\n",
            "Epoch: 1/20... Step: 4096...\n",
            "Epoch: 1/20... Step: 4608...\n",
            "Epoch: 1/20... Step: 5120...\n",
            "Epoch: 1/20... Step: 5632...\n",
            "Epoch: 1/20... Step: 6144...\n",
            "Epoch: 1/20... Step: 6656...\n",
            "Epoch: 1/20... Step: 7168...\n",
            "Epoch: 1/20... Step: 7680...\n",
            "Epoch: 1/20... Step: 8192...\n",
            "Epoch: 1/20... Step: 8704...\n",
            "Epoch: 1/20... Step: 9216...\n",
            "Epoch: 1/20... Step: 9728...\n",
            "Epoch: 1/20... Step: 10240...\n",
            "Epoch: 1/20... Step: 10752...\n",
            "Epoch: 1/20... Step: 11264...\n",
            "Epoch: 1/20... Step: 11776...\n",
            "Epoch: 1/20... Step: 12288...\n",
            "Epoch: 1/20... Step: 12800...\n",
            "Epoch: 1/20... Step: 13312...\n",
            "Epoch: 1/20... Step: 13824...\n",
            "Epoch: 1/20... Step: 14336...\n",
            "Epoch: 1/20... Step: 14848...\n",
            "Epoch: 1/20... Step: 15360...\n",
            "Epoch: 1/20... Step: 15872...\n",
            "Epoch: 1/20... Step: 16384...\n",
            "Epoch: 1/20... Step: 16896...\n",
            "Epoch: 1/20... Step: 17408...\n",
            "Epoch: 1/20... Step: 17920...\n",
            "Epoch: 1/20... Step: 18432...\n",
            "Epoch: 1/20... Step: 18944...\n",
            "Epoch: 2/20... Step: 19456...\n",
            "Epoch: 2/20... Step: 19968...\n",
            "Epoch: 2/20... Step: 20480...\n",
            "Epoch: 2/20... Step: 20992...\n",
            "Epoch: 2/20... Step: 21504...\n",
            "Epoch: 2/20... Step: 22016...\n",
            "Epoch: 2/20... Step: 22528...\n",
            "Epoch: 2/20... Step: 23040...\n",
            "Epoch: 2/20... Step: 23552...\n",
            "Epoch: 2/20... Step: 24064...\n",
            "Epoch: 2/20... Step: 24576...\n",
            "Epoch: 2/20... Step: 25088...\n",
            "Epoch: 2/20... Step: 25600...\n",
            "Epoch: 2/20... Step: 26112...\n",
            "Epoch: 2/20... Step: 26624...\n",
            "Epoch: 2/20... Step: 27136...\n",
            "Epoch: 2/20... Step: 27648...\n",
            "Epoch: 2/20... Step: 28160...\n",
            "Epoch: 2/20... Step: 28672...\n",
            "Epoch: 2/20... Step: 29184...\n",
            "Epoch: 2/20... Step: 29696...\n",
            "Epoch: 2/20... Step: 30208...\n",
            "Epoch: 2/20... Step: 30720...\n",
            "Epoch: 2/20... Step: 31232...\n",
            "Epoch: 2/20... Step: 31744...\n",
            "Epoch: 2/20... Step: 32256...\n",
            "Epoch: 2/20... Step: 32768...\n",
            "Epoch: 2/20... Step: 33280...\n",
            "Epoch: 2/20... Step: 33792...\n",
            "Epoch: 2/20... Step: 34304...\n",
            "Epoch: 2/20... Step: 34816...\n",
            "Epoch: 2/20... Step: 35328...\n",
            "Epoch: 2/20... Step: 35840...\n",
            "Epoch: 2/20... Step: 36352...\n",
            "Epoch: 2/20... Step: 36864...\n",
            "Epoch: 2/20... Step: 37376...\n",
            "Epoch: 2/20... Step: 37888...\n",
            "Epoch: 3/20... Step: 38400...\n",
            "Epoch: 3/20... Step: 38912...\n",
            "Epoch: 3/20... Step: 39424...\n",
            "Epoch: 3/20... Step: 39936...\n",
            "Epoch: 3/20... Step: 40448...\n",
            "Epoch: 3/20... Step: 40960...\n",
            "Epoch: 3/20... Step: 41472...\n",
            "Epoch: 3/20... Step: 41984...\n",
            "Epoch: 3/20... Step: 42496...\n",
            "Epoch: 3/20... Step: 43008...\n",
            "Epoch: 3/20... Step: 43520...\n",
            "Epoch: 3/20... Step: 44032...\n",
            "Epoch: 3/20... Step: 44544...\n",
            "Epoch: 3/20... Step: 45056...\n",
            "Epoch: 3/20... Step: 45568...\n",
            "Epoch: 3/20... Step: 46080...\n",
            "Epoch: 3/20... Step: 46592...\n",
            "Epoch: 3/20... Step: 47104...\n",
            "Epoch: 3/20... Step: 47616...\n",
            "Epoch: 3/20... Step: 48128...\n",
            "Epoch: 3/20... Step: 48640...\n",
            "Epoch: 3/20... Step: 49152...\n",
            "Epoch: 3/20... Step: 49664...\n",
            "Epoch: 3/20... Step: 50176...\n",
            "Epoch: 3/20... Step: 50688...\n",
            "Epoch: 3/20... Step: 51200...\n",
            "Epoch: 3/20... Step: 51712...\n",
            "Epoch: 3/20... Step: 52224...\n",
            "Epoch: 3/20... Step: 52736...\n",
            "Epoch: 3/20... Step: 53248...\n",
            "Epoch: 3/20... Step: 53760...\n",
            "Epoch: 3/20... Step: 54272...\n",
            "Epoch: 3/20... Step: 54784...\n",
            "Epoch: 3/20... Step: 55296...\n",
            "Epoch: 3/20... Step: 55808...\n",
            "Epoch: 3/20... Step: 56320...\n",
            "Epoch: 3/20... Step: 56832...\n",
            "Epoch: 4/20... Step: 57344...\n",
            "Epoch: 4/20... Step: 57856...\n",
            "Epoch: 4/20... Step: 58368...\n",
            "Epoch: 4/20... Step: 58880...\n",
            "Epoch: 4/20... Step: 59392...\n",
            "Epoch: 4/20... Step: 59904...\n",
            "Epoch: 4/20... Step: 60416...\n",
            "Epoch: 4/20... Step: 60928...\n",
            "Epoch: 4/20... Step: 61440...\n",
            "Epoch: 4/20... Step: 61952...\n",
            "Epoch: 4/20... Step: 62464...\n",
            "Epoch: 4/20... Step: 62976...\n",
            "Epoch: 4/20... Step: 63488...\n",
            "Epoch: 4/20... Step: 64000...\n",
            "Epoch: 4/20... Step: 64512...\n",
            "Epoch: 4/20... Step: 65024...\n",
            "Epoch: 4/20... Step: 65536...\n",
            "Epoch: 4/20... Step: 66048...\n",
            "Epoch: 4/20... Step: 66560...\n",
            "Epoch: 4/20... Step: 67072...\n",
            "Epoch: 4/20... Step: 67584...\n",
            "Epoch: 4/20... Step: 68096...\n",
            "Epoch: 4/20... Step: 68608...\n",
            "Epoch: 4/20... Step: 69120...\n",
            "Epoch: 4/20... Step: 69632...\n",
            "Epoch: 4/20... Step: 70144...\n",
            "Epoch: 4/20... Step: 70656...\n",
            "Epoch: 4/20... Step: 71168...\n",
            "Epoch: 4/20... Step: 71680...\n",
            "Epoch: 4/20... Step: 72192...\n",
            "Epoch: 4/20... Step: 72704...\n",
            "Epoch: 4/20... Step: 73216...\n",
            "Epoch: 4/20... Step: 73728...\n",
            "Epoch: 4/20... Step: 74240...\n",
            "Epoch: 4/20... Step: 74752...\n",
            "Epoch: 4/20... Step: 75264...\n",
            "Epoch: 4/20... Step: 75776...\n",
            "Epoch: 5/20... Step: 76288...\n",
            "Epoch: 5/20... Step: 76800...\n",
            "Epoch: 5/20... Step: 77312...\n",
            "Epoch: 5/20... Step: 77824...\n",
            "Epoch: 5/20... Step: 78336...\n",
            "Epoch: 5/20... Step: 78848...\n",
            "Epoch: 5/20... Step: 79360...\n",
            "Epoch: 5/20... Step: 79872...\n",
            "Epoch: 5/20... Step: 80384...\n",
            "Epoch: 5/20... Step: 80896...\n",
            "Epoch: 5/20... Step: 81408...\n",
            "Epoch: 5/20... Step: 81920...\n",
            "Epoch: 5/20... Step: 82432...\n",
            "Epoch: 5/20... Step: 82944...\n",
            "Epoch: 5/20... Step: 83456...\n",
            "Epoch: 5/20... Step: 83968...\n",
            "Epoch: 5/20... Step: 84480...\n",
            "Epoch: 5/20... Step: 84992...\n",
            "Epoch: 5/20... Step: 85504...\n",
            "Epoch: 5/20... Step: 86016...\n",
            "Epoch: 5/20... Step: 86528...\n",
            "Epoch: 5/20... Step: 87040...\n",
            "Epoch: 5/20... Step: 87552...\n",
            "Epoch: 5/20... Step: 88064...\n",
            "Epoch: 5/20... Step: 88576...\n",
            "Epoch: 5/20... Step: 89088...\n",
            "Epoch: 5/20... Step: 89600...\n",
            "Epoch: 5/20... Step: 90112...\n",
            "Epoch: 5/20... Step: 90624...\n",
            "Epoch: 5/20... Step: 91136...\n",
            "Epoch: 5/20... Step: 91648...\n",
            "Epoch: 5/20... Step: 92160...\n",
            "Epoch: 5/20... Step: 92672...\n",
            "Epoch: 5/20... Step: 93184...\n",
            "Epoch: 5/20... Step: 93696...\n",
            "Epoch: 5/20... Step: 94208...\n",
            "Epoch: 5/20... Step: 94720...\n",
            "Epoch: 6/20... Step: 95232...\n",
            "Epoch: 6/20... Step: 95744...\n",
            "Epoch: 6/20... Step: 96256...\n",
            "Epoch: 6/20... Step: 96768...\n",
            "Epoch: 6/20... Step: 97280...\n",
            "Epoch: 6/20... Step: 97792...\n",
            "Epoch: 6/20... Step: 98304...\n",
            "Epoch: 6/20... Step: 98816...\n",
            "Epoch: 6/20... Step: 99328...\n",
            "Epoch: 6/20... Step: 99840...\n",
            "Epoch: 6/20... Step: 100352...\n",
            "Epoch: 6/20... Step: 100864...\n",
            "Epoch: 6/20... Step: 101376...\n",
            "Epoch: 6/20... Step: 101888...\n",
            "Epoch: 6/20... Step: 102400...\n",
            "Epoch: 6/20... Step: 102912...\n",
            "Epoch: 6/20... Step: 103424...\n",
            "Epoch: 6/20... Step: 103936...\n",
            "Epoch: 6/20... Step: 104448...\n",
            "Epoch: 6/20... Step: 104960...\n",
            "Epoch: 6/20... Step: 105472...\n",
            "Epoch: 6/20... Step: 105984...\n",
            "Epoch: 6/20... Step: 106496...\n",
            "Epoch: 6/20... Step: 107008...\n",
            "Epoch: 6/20... Step: 107520...\n",
            "Epoch: 6/20... Step: 108032...\n",
            "Epoch: 6/20... Step: 108544...\n",
            "Epoch: 6/20... Step: 109056...\n",
            "Epoch: 6/20... Step: 109568...\n",
            "Epoch: 6/20... Step: 110080...\n",
            "Epoch: 6/20... Step: 110592...\n",
            "Epoch: 6/20... Step: 111104...\n",
            "Epoch: 6/20... Step: 111616...\n",
            "Epoch: 6/20... Step: 112128...\n",
            "Epoch: 6/20... Step: 112640...\n",
            "Epoch: 6/20... Step: 113152...\n",
            "Epoch: 6/20... Step: 113664...\n",
            "Epoch: 7/20... Step: 114176...\n",
            "Epoch: 7/20... Step: 114688...\n",
            "Epoch: 7/20... Step: 115200...\n",
            "Epoch: 7/20... Step: 115712...\n",
            "Epoch: 7/20... Step: 116224...\n",
            "Epoch: 7/20... Step: 116736...\n",
            "Epoch: 7/20... Step: 117248...\n",
            "Epoch: 7/20... Step: 117760...\n",
            "Epoch: 7/20... Step: 118272...\n",
            "Epoch: 7/20... Step: 118784...\n",
            "Epoch: 7/20... Step: 119296...\n",
            "Epoch: 7/20... Step: 119808...\n",
            "Epoch: 7/20... Step: 120320...\n",
            "Epoch: 7/20... Step: 120832...\n",
            "Epoch: 7/20... Step: 121344...\n",
            "Epoch: 7/20... Step: 121856...\n",
            "Epoch: 7/20... Step: 122368...\n",
            "Epoch: 7/20... Step: 122880...\n",
            "Epoch: 7/20... Step: 123392...\n",
            "Epoch: 7/20... Step: 123904...\n",
            "Epoch: 7/20... Step: 124416...\n",
            "Epoch: 7/20... Step: 124928...\n",
            "Epoch: 7/20... Step: 125440...\n",
            "Epoch: 7/20... Step: 125952...\n",
            "Epoch: 7/20... Step: 126464...\n",
            "Epoch: 7/20... Step: 126976...\n",
            "Epoch: 7/20... Step: 127488...\n",
            "Epoch: 7/20... Step: 128000...\n",
            "Epoch: 7/20... Step: 128512...\n",
            "Epoch: 7/20... Step: 129024...\n",
            "Epoch: 7/20... Step: 129536...\n",
            "Epoch: 7/20... Step: 130048...\n",
            "Epoch: 7/20... Step: 130560...\n",
            "Epoch: 7/20... Step: 131072...\n",
            "Epoch: 7/20... Step: 131584...\n",
            "Epoch: 7/20... Step: 132096...\n",
            "Epoch: 7/20... Step: 132608...\n",
            "Epoch: 8/20... Step: 133120...\n",
            "Epoch: 8/20... Step: 133632...\n",
            "Epoch: 8/20... Step: 134144...\n",
            "Epoch: 8/20... Step: 134656...\n",
            "Epoch: 8/20... Step: 135168...\n",
            "Epoch: 8/20... Step: 135680...\n",
            "Epoch: 8/20... Step: 136192...\n",
            "Epoch: 8/20... Step: 136704...\n",
            "Epoch: 8/20... Step: 137216...\n",
            "Epoch: 8/20... Step: 137728...\n",
            "Epoch: 8/20... Step: 138240...\n",
            "Epoch: 8/20... Step: 138752...\n",
            "Epoch: 8/20... Step: 139264...\n",
            "Epoch: 8/20... Step: 139776...\n",
            "Epoch: 8/20... Step: 140288...\n",
            "Epoch: 8/20... Step: 140800...\n",
            "Epoch: 8/20... Step: 141312...\n",
            "Epoch: 8/20... Step: 141824...\n",
            "Epoch: 8/20... Step: 142336...\n",
            "Epoch: 8/20... Step: 142848...\n",
            "Epoch: 8/20... Step: 143360...\n",
            "Epoch: 8/20... Step: 143872...\n",
            "Epoch: 8/20... Step: 144384...\n",
            "Epoch: 8/20... Step: 144896...\n",
            "Epoch: 8/20... Step: 145408...\n",
            "Epoch: 8/20... Step: 145920...\n",
            "Epoch: 8/20... Step: 146432...\n",
            "Epoch: 8/20... Step: 146944...\n",
            "Epoch: 8/20... Step: 147456...\n",
            "Epoch: 8/20... Step: 147968...\n",
            "Epoch: 8/20... Step: 148480...\n",
            "Epoch: 8/20... Step: 148992...\n",
            "Epoch: 8/20... Step: 149504...\n",
            "Epoch: 8/20... Step: 150016...\n",
            "Epoch: 8/20... Step: 150528...\n",
            "Epoch: 8/20... Step: 151040...\n",
            "Epoch: 8/20... Step: 151552...\n",
            "Epoch: 9/20... Step: 152064...\n",
            "Epoch: 9/20... Step: 152576...\n",
            "Epoch: 9/20... Step: 153088...\n",
            "Epoch: 9/20... Step: 153600...\n",
            "Epoch: 9/20... Step: 154112...\n",
            "Epoch: 9/20... Step: 154624...\n",
            "Epoch: 9/20... Step: 155136...\n",
            "Epoch: 9/20... Step: 155648...\n",
            "Epoch: 9/20... Step: 156160...\n",
            "Epoch: 9/20... Step: 156672...\n",
            "Epoch: 9/20... Step: 157184...\n",
            "Epoch: 9/20... Step: 157696...\n",
            "Epoch: 9/20... Step: 158208...\n",
            "Epoch: 9/20... Step: 158720...\n",
            "Epoch: 9/20... Step: 159232...\n",
            "Epoch: 9/20... Step: 159744...\n",
            "Epoch: 9/20... Step: 160256...\n",
            "Epoch: 9/20... Step: 160768...\n",
            "Epoch: 9/20... Step: 161280...\n",
            "Epoch: 9/20... Step: 161792...\n",
            "Epoch: 9/20... Step: 162304...\n",
            "Epoch: 9/20... Step: 162816...\n",
            "Epoch: 9/20... Step: 163328...\n",
            "Epoch: 9/20... Step: 163840...\n",
            "Epoch: 9/20... Step: 164352...\n",
            "Epoch: 9/20... Step: 164864...\n",
            "Epoch: 9/20... Step: 165376...\n",
            "Epoch: 9/20... Step: 165888...\n",
            "Epoch: 9/20... Step: 166400...\n",
            "Epoch: 9/20... Step: 166912...\n",
            "Epoch: 9/20... Step: 167424...\n",
            "Epoch: 9/20... Step: 167936...\n",
            "Epoch: 9/20... Step: 168448...\n",
            "Epoch: 9/20... Step: 168960...\n",
            "Epoch: 9/20... Step: 169472...\n",
            "Epoch: 9/20... Step: 169984...\n",
            "Epoch: 9/20... Step: 170496...\n",
            "Epoch: 10/20... Step: 171008...\n",
            "Epoch: 10/20... Step: 171520...\n",
            "Epoch: 10/20... Step: 172032...\n",
            "Epoch: 10/20... Step: 172544...\n",
            "Epoch: 10/20... Step: 173056...\n",
            "Epoch: 10/20... Step: 173568...\n",
            "Epoch: 10/20... Step: 174080...\n",
            "Epoch: 10/20... Step: 174592...\n",
            "Epoch: 10/20... Step: 175104...\n",
            "Epoch: 10/20... Step: 175616...\n",
            "Epoch: 10/20... Step: 176128...\n",
            "Epoch: 10/20... Step: 176640...\n",
            "Epoch: 10/20... Step: 177152...\n",
            "Epoch: 10/20... Step: 177664...\n",
            "Epoch: 10/20... Step: 178176...\n",
            "Epoch: 10/20... Step: 178688...\n",
            "Epoch: 10/20... Step: 179200...\n",
            "Epoch: 10/20... Step: 179712...\n",
            "Epoch: 10/20... Step: 180224...\n",
            "Epoch: 10/20... Step: 180736...\n",
            "Epoch: 10/20... Step: 181248...\n",
            "Epoch: 10/20... Step: 181760...\n",
            "Epoch: 10/20... Step: 182272...\n",
            "Epoch: 10/20... Step: 182784...\n",
            "Epoch: 10/20... Step: 183296...\n",
            "Epoch: 10/20... Step: 183808...\n",
            "Epoch: 10/20... Step: 184320...\n",
            "Epoch: 10/20... Step: 184832...\n",
            "Epoch: 10/20... Step: 185344...\n",
            "Epoch: 10/20... Step: 185856...\n",
            "Epoch: 10/20... Step: 186368...\n",
            "Epoch: 10/20... Step: 186880...\n",
            "Epoch: 10/20... Step: 187392...\n",
            "Epoch: 10/20... Step: 187904...\n",
            "Epoch: 10/20... Step: 188416...\n",
            "Epoch: 10/20... Step: 188928...\n",
            "Epoch: 10/20... Step: 189440...\n",
            "Epoch: 10/20... Step: 189952...\n",
            "Epoch: 11/20... Step: 190464...\n",
            "Epoch: 11/20... Step: 190976...\n",
            "Epoch: 11/20... Step: 191488...\n",
            "Epoch: 11/20... Step: 192000...\n",
            "Epoch: 11/20... Step: 192512...\n",
            "Epoch: 11/20... Step: 193024...\n",
            "Epoch: 11/20... Step: 193536...\n",
            "Epoch: 11/20... Step: 194048...\n",
            "Epoch: 11/20... Step: 194560...\n",
            "Epoch: 11/20... Step: 195072...\n",
            "Epoch: 11/20... Step: 195584...\n",
            "Epoch: 11/20... Step: 196096...\n",
            "Epoch: 11/20... Step: 196608...\n",
            "Epoch: 11/20... Step: 197120...\n",
            "Epoch: 11/20... Step: 197632...\n",
            "Epoch: 11/20... Step: 198144...\n",
            "Epoch: 11/20... Step: 198656...\n",
            "Epoch: 11/20... Step: 199168...\n",
            "Epoch: 11/20... Step: 199680...\n",
            "Epoch: 11/20... Step: 200192...\n",
            "Epoch: 11/20... Step: 200704...\n",
            "Epoch: 11/20... Step: 201216...\n",
            "Epoch: 11/20... Step: 201728...\n",
            "Epoch: 11/20... Step: 202240...\n",
            "Epoch: 11/20... Step: 202752...\n",
            "Epoch: 11/20... Step: 203264...\n",
            "Epoch: 11/20... Step: 203776...\n",
            "Epoch: 11/20... Step: 204288...\n",
            "Epoch: 11/20... Step: 204800...\n",
            "Epoch: 11/20... Step: 205312...\n",
            "Epoch: 11/20... Step: 205824...\n",
            "Epoch: 11/20... Step: 206336...\n",
            "Epoch: 11/20... Step: 206848...\n",
            "Epoch: 11/20... Step: 207360...\n",
            "Epoch: 11/20... Step: 207872...\n",
            "Epoch: 11/20... Step: 208384...\n",
            "Epoch: 11/20... Step: 208896...\n",
            "Epoch: 12/20... Step: 209408...\n",
            "Epoch: 12/20... Step: 209920...\n",
            "Epoch: 12/20... Step: 210432...\n",
            "Epoch: 12/20... Step: 210944...\n",
            "Epoch: 12/20... Step: 211456...\n",
            "Epoch: 12/20... Step: 211968...\n",
            "Epoch: 12/20... Step: 212480...\n",
            "Epoch: 12/20... Step: 212992...\n",
            "Epoch: 12/20... Step: 213504...\n",
            "Epoch: 12/20... Step: 214016...\n",
            "Epoch: 12/20... Step: 214528...\n",
            "Epoch: 12/20... Step: 215040...\n",
            "Epoch: 12/20... Step: 215552...\n",
            "Epoch: 12/20... Step: 216064...\n",
            "Epoch: 12/20... Step: 216576...\n",
            "Epoch: 12/20... Step: 217088...\n",
            "Epoch: 12/20... Step: 217600...\n",
            "Epoch: 12/20... Step: 218112...\n",
            "Epoch: 12/20... Step: 218624...\n",
            "Epoch: 12/20... Step: 219136...\n",
            "Epoch: 12/20... Step: 219648...\n",
            "Epoch: 12/20... Step: 220160...\n",
            "Epoch: 12/20... Step: 220672...\n",
            "Epoch: 12/20... Step: 221184...\n",
            "Epoch: 12/20... Step: 221696...\n",
            "Epoch: 12/20... Step: 222208...\n",
            "Epoch: 12/20... Step: 222720...\n",
            "Epoch: 12/20... Step: 223232...\n",
            "Epoch: 12/20... Step: 223744...\n",
            "Epoch: 12/20... Step: 224256...\n",
            "Epoch: 12/20... Step: 224768...\n",
            "Epoch: 12/20... Step: 225280...\n",
            "Epoch: 12/20... Step: 225792...\n",
            "Epoch: 12/20... Step: 226304...\n",
            "Epoch: 12/20... Step: 226816...\n",
            "Epoch: 12/20... Step: 227328...\n",
            "Epoch: 12/20... Step: 227840...\n",
            "Epoch: 13/20... Step: 228352...\n",
            "Epoch: 13/20... Step: 228864...\n",
            "Epoch: 13/20... Step: 229376...\n",
            "Epoch: 13/20... Step: 229888...\n",
            "Epoch: 13/20... Step: 230400...\n",
            "Epoch: 13/20... Step: 230912...\n",
            "Epoch: 13/20... Step: 231424...\n",
            "Epoch: 13/20... Step: 231936...\n",
            "Epoch: 13/20... Step: 232448...\n",
            "Epoch: 13/20... Step: 232960...\n",
            "Epoch: 13/20... Step: 233472...\n",
            "Epoch: 13/20... Step: 233984...\n",
            "Epoch: 13/20... Step: 234496...\n",
            "Epoch: 13/20... Step: 235008...\n",
            "Epoch: 13/20... Step: 235520...\n",
            "Epoch: 13/20... Step: 236032...\n",
            "Epoch: 13/20... Step: 236544...\n",
            "Epoch: 13/20... Step: 237056...\n",
            "Epoch: 13/20... Step: 237568...\n",
            "Epoch: 13/20... Step: 238080...\n",
            "Epoch: 13/20... Step: 238592...\n",
            "Epoch: 13/20... Step: 239104...\n",
            "Epoch: 13/20... Step: 239616...\n",
            "Epoch: 13/20... Step: 240128...\n",
            "Epoch: 13/20... Step: 240640...\n",
            "Epoch: 13/20... Step: 241152...\n",
            "Epoch: 13/20... Step: 241664...\n",
            "Epoch: 13/20... Step: 242176...\n",
            "Epoch: 13/20... Step: 242688...\n",
            "Epoch: 13/20... Step: 243200...\n",
            "Epoch: 13/20... Step: 243712...\n",
            "Epoch: 13/20... Step: 244224...\n",
            "Epoch: 13/20... Step: 244736...\n",
            "Epoch: 13/20... Step: 245248...\n",
            "Epoch: 13/20... Step: 245760...\n",
            "Epoch: 13/20... Step: 246272...\n",
            "Epoch: 13/20... Step: 246784...\n",
            "Epoch: 14/20... Step: 247296...\n",
            "Epoch: 14/20... Step: 247808...\n",
            "Epoch: 14/20... Step: 248320...\n",
            "Epoch: 14/20... Step: 248832...\n",
            "Epoch: 14/20... Step: 249344...\n",
            "Epoch: 14/20... Step: 249856...\n",
            "Epoch: 14/20... Step: 250368...\n",
            "Epoch: 14/20... Step: 250880...\n",
            "Epoch: 14/20... Step: 251392...\n",
            "Epoch: 14/20... Step: 251904...\n",
            "Epoch: 14/20... Step: 252416...\n",
            "Epoch: 14/20... Step: 252928...\n",
            "Epoch: 14/20... Step: 253440...\n",
            "Epoch: 14/20... Step: 253952...\n",
            "Epoch: 14/20... Step: 254464...\n",
            "Epoch: 14/20... Step: 254976...\n",
            "Epoch: 14/20... Step: 255488...\n",
            "Epoch: 14/20... Step: 256000...\n",
            "Epoch: 14/20... Step: 256512...\n",
            "Epoch: 14/20... Step: 257024...\n",
            "Epoch: 14/20... Step: 257536...\n",
            "Epoch: 14/20... Step: 258048...\n",
            "Epoch: 14/20... Step: 258560...\n",
            "Epoch: 14/20... Step: 259072...\n",
            "Epoch: 14/20... Step: 259584...\n",
            "Epoch: 14/20... Step: 260096...\n",
            "Epoch: 14/20... Step: 260608...\n",
            "Epoch: 14/20... Step: 261120...\n",
            "Epoch: 14/20... Step: 261632...\n",
            "Epoch: 14/20... Step: 262144...\n",
            "Epoch: 14/20... Step: 262656...\n",
            "Epoch: 14/20... Step: 263168...\n",
            "Epoch: 14/20... Step: 263680...\n",
            "Epoch: 14/20... Step: 264192...\n",
            "Epoch: 14/20... Step: 264704...\n",
            "Epoch: 14/20... Step: 265216...\n",
            "Epoch: 14/20... Step: 265728...\n",
            "Epoch: 15/20... Step: 266240...\n",
            "Epoch: 15/20... Step: 266752...\n",
            "Epoch: 15/20... Step: 267264...\n",
            "Epoch: 15/20... Step: 267776...\n",
            "Epoch: 15/20... Step: 268288...\n",
            "Epoch: 15/20... Step: 268800...\n",
            "Epoch: 15/20... Step: 269312...\n",
            "Epoch: 15/20... Step: 269824...\n",
            "Epoch: 15/20... Step: 270336...\n",
            "Epoch: 15/20... Step: 270848...\n",
            "Epoch: 15/20... Step: 271360...\n",
            "Epoch: 15/20... Step: 271872...\n",
            "Epoch: 15/20... Step: 272384...\n",
            "Epoch: 15/20... Step: 272896...\n",
            "Epoch: 15/20... Step: 273408...\n",
            "Epoch: 15/20... Step: 273920...\n",
            "Epoch: 15/20... Step: 274432...\n",
            "Epoch: 15/20... Step: 274944...\n",
            "Epoch: 15/20... Step: 275456...\n",
            "Epoch: 15/20... Step: 275968...\n",
            "Epoch: 15/20... Step: 276480...\n",
            "Epoch: 15/20... Step: 276992...\n",
            "Epoch: 15/20... Step: 277504...\n",
            "Epoch: 15/20... Step: 278016...\n",
            "Epoch: 15/20... Step: 278528...\n",
            "Epoch: 15/20... Step: 279040...\n",
            "Epoch: 15/20... Step: 279552...\n",
            "Epoch: 15/20... Step: 280064...\n",
            "Epoch: 15/20... Step: 280576...\n",
            "Epoch: 15/20... Step: 281088...\n",
            "Epoch: 15/20... Step: 281600...\n",
            "Epoch: 15/20... Step: 282112...\n",
            "Epoch: 15/20... Step: 282624...\n",
            "Epoch: 15/20... Step: 283136...\n",
            "Epoch: 15/20... Step: 283648...\n",
            "Epoch: 15/20... Step: 284160...\n",
            "Epoch: 15/20... Step: 284672...\n",
            "Epoch: 16/20... Step: 285184...\n",
            "Epoch: 16/20... Step: 285696...\n",
            "Epoch: 16/20... Step: 286208...\n",
            "Epoch: 16/20... Step: 286720...\n",
            "Epoch: 16/20... Step: 287232...\n",
            "Epoch: 16/20... Step: 287744...\n",
            "Epoch: 16/20... Step: 288256...\n",
            "Epoch: 16/20... Step: 288768...\n",
            "Epoch: 16/20... Step: 289280...\n",
            "Epoch: 16/20... Step: 289792...\n",
            "Epoch: 16/20... Step: 290304...\n",
            "Epoch: 16/20... Step: 290816...\n",
            "Epoch: 16/20... Step: 291328...\n",
            "Epoch: 16/20... Step: 291840...\n",
            "Epoch: 16/20... Step: 292352...\n",
            "Epoch: 16/20... Step: 292864...\n",
            "Epoch: 16/20... Step: 293376...\n",
            "Epoch: 16/20... Step: 293888...\n",
            "Epoch: 16/20... Step: 294400...\n",
            "Epoch: 16/20... Step: 294912...\n",
            "Epoch: 16/20... Step: 295424...\n",
            "Epoch: 16/20... Step: 295936...\n",
            "Epoch: 16/20... Step: 296448...\n",
            "Epoch: 16/20... Step: 296960...\n",
            "Epoch: 16/20... Step: 297472...\n",
            "Epoch: 16/20... Step: 297984...\n",
            "Epoch: 16/20... Step: 298496...\n",
            "Epoch: 16/20... Step: 299008...\n",
            "Epoch: 16/20... Step: 299520...\n",
            "Epoch: 16/20... Step: 300032...\n",
            "Epoch: 16/20... Step: 300544...\n",
            "Epoch: 16/20... Step: 301056...\n",
            "Epoch: 16/20... Step: 301568...\n",
            "Epoch: 16/20... Step: 302080...\n",
            "Epoch: 16/20... Step: 302592...\n",
            "Epoch: 16/20... Step: 303104...\n",
            "Epoch: 16/20... Step: 303616...\n",
            "Epoch: 17/20... Step: 304128...\n",
            "Epoch: 17/20... Step: 304640...\n",
            "Epoch: 17/20... Step: 305152...\n",
            "Epoch: 17/20... Step: 305664...\n",
            "Epoch: 17/20... Step: 306176...\n",
            "Epoch: 17/20... Step: 306688...\n",
            "Epoch: 17/20... Step: 307200...\n",
            "Epoch: 17/20... Step: 307712...\n",
            "Epoch: 17/20... Step: 308224...\n",
            "Epoch: 17/20... Step: 308736...\n",
            "Epoch: 17/20... Step: 309248...\n",
            "Epoch: 17/20... Step: 309760...\n",
            "Epoch: 17/20... Step: 310272...\n",
            "Epoch: 17/20... Step: 310784...\n",
            "Epoch: 17/20... Step: 311296...\n",
            "Epoch: 17/20... Step: 311808...\n",
            "Epoch: 17/20... Step: 312320...\n",
            "Epoch: 17/20... Step: 312832...\n",
            "Epoch: 17/20... Step: 313344...\n",
            "Epoch: 17/20... Step: 313856...\n",
            "Epoch: 17/20... Step: 314368...\n",
            "Epoch: 17/20... Step: 314880...\n",
            "Epoch: 17/20... Step: 315392...\n",
            "Epoch: 17/20... Step: 315904...\n",
            "Epoch: 17/20... Step: 316416...\n",
            "Epoch: 17/20... Step: 316928...\n",
            "Epoch: 17/20... Step: 317440...\n",
            "Epoch: 17/20... Step: 317952...\n",
            "Epoch: 17/20... Step: 318464...\n",
            "Epoch: 17/20... Step: 318976...\n",
            "Epoch: 17/20... Step: 319488...\n",
            "Epoch: 17/20... Step: 320000...\n",
            "Epoch: 17/20... Step: 320512...\n",
            "Epoch: 17/20... Step: 321024...\n",
            "Epoch: 17/20... Step: 321536...\n",
            "Epoch: 17/20... Step: 322048...\n",
            "Epoch: 17/20... Step: 322560...\n",
            "Epoch: 18/20... Step: 323072...\n",
            "Epoch: 18/20... Step: 323584...\n",
            "Epoch: 18/20... Step: 324096...\n",
            "Epoch: 18/20... Step: 324608...\n",
            "Epoch: 18/20... Step: 325120...\n",
            "Epoch: 18/20... Step: 325632...\n",
            "Epoch: 18/20... Step: 326144...\n",
            "Epoch: 18/20... Step: 326656...\n",
            "Epoch: 18/20... Step: 327168...\n",
            "Epoch: 18/20... Step: 327680...\n",
            "Epoch: 18/20... Step: 328192...\n",
            "Epoch: 18/20... Step: 328704...\n",
            "Epoch: 18/20... Step: 329216...\n",
            "Epoch: 18/20... Step: 329728...\n",
            "Epoch: 18/20... Step: 330240...\n",
            "Epoch: 18/20... Step: 330752...\n",
            "Epoch: 18/20... Step: 331264...\n",
            "Epoch: 18/20... Step: 331776...\n",
            "Epoch: 18/20... Step: 332288...\n",
            "Epoch: 18/20... Step: 332800...\n",
            "Epoch: 18/20... Step: 333312...\n",
            "Epoch: 18/20... Step: 333824...\n",
            "Epoch: 18/20... Step: 334336...\n",
            "Epoch: 18/20... Step: 334848...\n",
            "Epoch: 18/20... Step: 335360...\n",
            "Epoch: 18/20... Step: 335872...\n",
            "Epoch: 18/20... Step: 336384...\n",
            "Epoch: 18/20... Step: 336896...\n",
            "Epoch: 18/20... Step: 337408...\n",
            "Epoch: 18/20... Step: 337920...\n",
            "Epoch: 18/20... Step: 338432...\n",
            "Epoch: 18/20... Step: 338944...\n",
            "Epoch: 18/20... Step: 339456...\n",
            "Epoch: 18/20... Step: 339968...\n",
            "Epoch: 18/20... Step: 340480...\n",
            "Epoch: 18/20... Step: 340992...\n",
            "Epoch: 18/20... Step: 341504...\n",
            "Epoch: 19/20... Step: 342016...\n",
            "Epoch: 19/20... Step: 342528...\n",
            "Epoch: 19/20... Step: 343040...\n",
            "Epoch: 19/20... Step: 343552...\n",
            "Epoch: 19/20... Step: 344064...\n",
            "Epoch: 19/20... Step: 344576...\n",
            "Epoch: 19/20... Step: 345088...\n",
            "Epoch: 19/20... Step: 345600...\n",
            "Epoch: 19/20... Step: 346112...\n",
            "Epoch: 19/20... Step: 346624...\n",
            "Epoch: 19/20... Step: 347136...\n",
            "Epoch: 19/20... Step: 347648...\n",
            "Epoch: 19/20... Step: 348160...\n",
            "Epoch: 19/20... Step: 348672...\n",
            "Epoch: 19/20... Step: 349184...\n",
            "Epoch: 19/20... Step: 349696...\n",
            "Epoch: 19/20... Step: 350208...\n",
            "Epoch: 19/20... Step: 350720...\n",
            "Epoch: 19/20... Step: 351232...\n",
            "Epoch: 19/20... Step: 351744...\n",
            "Epoch: 19/20... Step: 352256...\n",
            "Epoch: 19/20... Step: 352768...\n",
            "Epoch: 19/20... Step: 353280...\n",
            "Epoch: 19/20... Step: 353792...\n",
            "Epoch: 19/20... Step: 354304...\n",
            "Epoch: 19/20... Step: 354816...\n",
            "Epoch: 19/20... Step: 355328...\n",
            "Epoch: 19/20... Step: 355840...\n",
            "Epoch: 19/20... Step: 356352...\n",
            "Epoch: 19/20... Step: 356864...\n",
            "Epoch: 19/20... Step: 357376...\n",
            "Epoch: 19/20... Step: 357888...\n",
            "Epoch: 19/20... Step: 358400...\n",
            "Epoch: 19/20... Step: 358912...\n",
            "Epoch: 19/20... Step: 359424...\n",
            "Epoch: 19/20... Step: 359936...\n",
            "Epoch: 19/20... Step: 360448...\n",
            "Epoch: 20/20... Step: 360960...\n",
            "Epoch: 20/20... Step: 361472...\n",
            "Epoch: 20/20... Step: 361984...\n",
            "Epoch: 20/20... Step: 362496...\n",
            "Epoch: 20/20... Step: 363008...\n",
            "Epoch: 20/20... Step: 363520...\n",
            "Epoch: 20/20... Step: 364032...\n",
            "Epoch: 20/20... Step: 364544...\n",
            "Epoch: 20/20... Step: 365056...\n",
            "Epoch: 20/20... Step: 365568...\n",
            "Epoch: 20/20... Step: 366080...\n",
            "Epoch: 20/20... Step: 366592...\n",
            "Epoch: 20/20... Step: 367104...\n",
            "Epoch: 20/20... Step: 367616...\n",
            "Epoch: 20/20... Step: 368128...\n",
            "Epoch: 20/20... Step: 368640...\n",
            "Epoch: 20/20... Step: 369152...\n",
            "Epoch: 20/20... Step: 369664...\n",
            "Epoch: 20/20... Step: 370176...\n",
            "Epoch: 20/20... Step: 370688...\n",
            "Epoch: 20/20... Step: 371200...\n",
            "Epoch: 20/20... Step: 371712...\n",
            "Epoch: 20/20... Step: 372224...\n",
            "Epoch: 20/20... Step: 372736...\n",
            "Epoch: 20/20... Step: 373248...\n",
            "Epoch: 20/20... Step: 373760...\n",
            "Epoch: 20/20... Step: 374272...\n",
            "Epoch: 20/20... Step: 374784...\n",
            "Epoch: 20/20... Step: 375296...\n",
            "Epoch: 20/20... Step: 375808...\n",
            "Epoch: 20/20... Step: 376320...\n",
            "Epoch: 20/20... Step: 376832...\n",
            "Epoch: 20/20... Step: 377344...\n",
            "Epoch: 20/20... Step: 377856...\n",
            "Epoch: 20/20... Step: 378368...\n",
            "Epoch: 20/20... Step: 378880...\n",
            "Epoch: 20/20... Step: 379392...\n",
            "Epoch: 20/20... Step: 379904...\n"
          ],
          "name": "stdout"
        }
      ]
    },
    {
      "cell_type": "code",
      "metadata": {
        "colab": {
          "base_uri": "https://localhost:8080/",
          "height": 312
        },
        "id": "oKcxZBcG491T",
        "outputId": "a8caffe3-c394-4a2c-d867-98e939f06789"
      },
      "source": [
        "# Generating a plot for the calculated loss values \r\n",
        "epochs = list(range(1,21))\r\n",
        "plt.plot(epochs, loss_vals)\r\n",
        "plt.xlabel(\"Epoch\")\r\n",
        "plt.ylabel(\"Loss values\")\r\n",
        "plt.title(\"Loss function of the model\")\r\n",
        "# plt.savefig('Lossfunction.png')"
      ],
      "execution_count": null,
      "outputs": [
        {
          "output_type": "execute_result",
          "data": {
            "text/plain": [
              "Text(0.5, 1.0, 'Loss function of the model')"
            ]
          },
          "metadata": {
            "tags": []
          },
          "execution_count": 26
        },
        {
          "output_type": "display_data",
          "data": {
            "image/png": "[encoded data removed]",
            "text/plain": [
              "<Figure size 432x288 with 1 Axes>"
            ]
          },
          "metadata": {
            "tags": [],
            "needs_background": "light"
          }
        }
      ]
    },
    {
      "cell_type": "markdown",
      "metadata": {
        "id": "auFNQ7LJboUL"
      },
      "source": [
        "# **Natural Language Generation using LSTM model**"
      ]
    },
    {
      "cell_type": "code",
      "metadata": {
        "id": "cvSXYojM_gla"
      },
      "source": [
        "def predict(net, token, hidden=None):\n",
        "         \n",
        "  # tensor inputs\n",
        "  x = np.array([[token_to_int[token]]])\n",
        "  inputs = torch.from_numpy(x)\n",
        "  \n",
        "  # push to GPU\n",
        "  inputs = inputs.cuda()\n",
        "\n",
        "  # detach hidden state from history\n",
        "  hidden = tuple([each.data for each in hidden])\n",
        "\n",
        "  # get the output of the model\n",
        "  out, hidden = net(inputs, hidden)\n",
        "\n",
        "  # get the token probabilities\n",
        "  probability = F.softmax(out, dim=1).data\n",
        "\n",
        "  probability = probability.cpu()\n",
        "\n",
        "  probability = probability.numpy()\n",
        "  probability = probability.reshape(probability.shape[1],)\n",
        "\n",
        "  # get indices of top 3 values\n",
        "  top_n_idx = probability.argsort()[-3:][::-1]\n",
        "\n",
        "  # randomly select one of the three indices\n",
        "  sampled_token_index = top_n_idx[random.sample([0,1,2],1)[0]]\n",
        "\n",
        "  # return the encoded value of the predicted char and the hidden state\n",
        "  return int_to_token[sampled_token_index], hidden"
      ],
      "execution_count": null,
      "outputs": []
    },
    {
      "cell_type": "code",
      "metadata": {
        "id": "ftgiySeOASBJ"
      },
      "source": [
        "# function to generate text\n",
        "def generateText(net, size, prime='today'):\n",
        "        \n",
        "    # push to GPU\n",
        "    net.cuda()\n",
        "    \n",
        "    net.eval()\n",
        "\n",
        "    # batch size is 1\n",
        "    h = net.init_hidden(1)\n",
        "\n",
        "    tokens = prime.split()\n",
        "\n",
        "    # predict next token\n",
        "    for t in prime.split():\n",
        "      token, h = predict(net, t, h)\n",
        "    \n",
        "    tokens.append(token)\n",
        "\n",
        "    # predict subsequent tokens\n",
        "    for i in range(size-1):\n",
        "        token, h = predict(net, tokens[-1], h)\n",
        "        tokens.append(token)\n",
        "\n",
        "    return ' '.join(tokens)"
      ],
      "execution_count": null,
      "outputs": []
    },
    {
      "cell_type": "code",
      "metadata": {
        "id": "LB-JJrb4AXdw",
        "colab": {
          "base_uri": "https://localhost:8080/"
        },
        "outputId": "d6344952-ae69-4c0e-833e-63b021f0b1f4"
      },
      "source": [
        "# Generating a random sentence of length 20 words\r\n",
        "randomSentence = generateText(net, 20)\r\n",
        "\r\n",
        "print(randomSentence)"
      ],
      "execution_count": null,
      "outputs": [
        {
          "output_type": "stream",
          "text": [
            "today the first half the first down and he has a chance for a touchdown pass but the falcons are in\n"
          ],
          "name": "stdout"
        }
      ]
    },
    {
      "cell_type": "code",
      "metadata": {
        "id": "XH-mM3miAXg3",
        "colab": {
          "base_uri": "https://localhost:8080/"
        },
        "outputId": "36cdabeb-d6bf-4d7a-aa26-9e97850de5f6"
      },
      "source": [
        "# Generating a sentence of length 20 using a prefixed keyword \r\n",
        "prefixSentence = generateText(net, 20, prime = \"they\")\r\n",
        "\r\n",
        "print(prefixSentence)"
      ],
      "execution_count": null,
      "outputs": [
        {
          "output_type": "stream",
          "text": [
            "they have a chance for that first and goal at their yard line and he was a little slow not going\n"
          ],
          "name": "stdout"
        }
      ]
    },
    {
      "cell_type": "markdown",
      "metadata": {
        "id": "DKLBYN4oCeiF"
      },
      "source": [
        "# **LSTM Model Metrics**"
      ]
    },
    {
      "cell_type": "markdown",
      "metadata": {
        "id": "UHNvRwdFJ-0A"
      },
      "source": [
        "We are using BLEU and ROUGE as model evaluation metrics.\n",
        "\n",
        "BLEU, Bilingual Evaluation Understudy, is a score used to compare a candidate translation of text to one or more reference translations. The more the matches, the better the candidate translation is. It can be used to evaluate text generated for a suite of natural language processing tasks. This score is used for evaluating the predictions made by automatic machine translation systems. The BLEU score provides an overall assessment of model quality. We have chosen this metric for the following reasons:\n",
        "It is quick and inexpensive to calculate.\n",
        "It is easy to understand.\n",
        "It is language independent.\n",
        "It correlates highly with human evaluation.\n",
        "It has been widely adopted\n",
        "\n",
        "ROUGE (Recall-Oriented Understudy Gisting Evaluation) is a recall-based evaluation metric. Recall measures how much of the reference summary is captured within the generated summary. \n",
        "We have used ROUGE-1 and ROUGE-L while evaluating results. ROUGE-1 focuses on unigram ROUGE evaluation, ROUGE-L measures the “longest common subsequence” (LCS) of words due to the assumption that the longer the matching sequence, the closer the summaries.\n",
        "Precision captures the extent to which the content of the generated text is actually needed. The precision and recall scores are combined by the F1-score which is the harmonic mean of both results."
      ]
    },
    {
      "cell_type": "code",
      "metadata": {
        "id": "vWC20G0la1NW"
      },
      "source": [
        "# Generating a Bleu Score for a random transcript using first 60 words of the transcript\n",
        "# Comparing the last 30 words(l30) and generated 30(g30) words using the first 30 words of the transcript(f30)\n",
        "tran4 = random.choice(trainTranscripts)\n",
        "tran4words = tran4.split()\n",
        "f30 = tran4words[0:30]\n",
        "l30 = tran4words[30:60]\n",
        "gensent = generateText(net, 30, prime =  \" \".join(f30))\n",
        "g30 = gensent.split()"
      ],
      "execution_count": null,
      "outputs": []
    },
    {
      "cell_type": "code",
      "metadata": {
        "id": "xo9j7nbqdrv7",
        "colab": {
          "base_uri": "https://localhost:8080/"
        },
        "outputId": "655bf829-11b4-4250-f898-5655bf5b9394"
      },
      "source": [
        "# Calculated the Bleu score using sentence bleu package\n",
        "from nltk.translate.bleu_score import sentence_bleu\n",
        "reference = [l30]\n",
        "candidate = g30\n",
        "score = sentence_bleu(reference, candidate)\n",
        "print(score)"
      ],
      "execution_count": null,
      "outputs": [
        {
          "output_type": "stream",
          "text": [
            "0.2245483208776255\n"
          ],
          "name": "stdout"
        }
      ]
    },
    {
      "cell_type": "code",
      "metadata": {
        "colab": {
          "base_uri": "https://localhost:8080/"
        },
        "id": "QblK-qKOKqwy",
        "outputId": "490a40ae-f52f-4883-d5a9-0d87067cf567"
      },
      "source": [
        "pip install rouge"
      ],
      "execution_count": null,
      "outputs": [
        {
          "output_type": "stream",
          "text": [
            "Collecting rouge\n",
            "  Downloading https://files.pythonhosted.org/packages/43/cc/e18e33be20971ff73a056ebdb023476b5a545e744e3fc22acd8c758f1e0d/rouge-1.0.0-py3-none-any.whl\n",
            "Requirement already satisfied: six in /usr/local/lib/python3.6/dist-packages (from rouge) (1.15.0)\n",
            "Installing collected packages: rouge\n",
            "Successfully installed rouge-1.0.0\n"
          ],
          "name": "stdout"
        }
      ]
    },
    {
      "cell_type": "code",
      "metadata": {
        "id": "ibSDFa1AjPJ5",
        "colab": {
          "base_uri": "https://localhost:8080/"
        },
        "outputId": "cf81c489-21e4-405f-d2d7-2d71f88e305f"
      },
      "source": [
        "pip install rouge_score"
      ],
      "execution_count": null,
      "outputs": [
        {
          "output_type": "stream",
          "text": [
            "Collecting rouge_score\n",
            "  Downloading https://files.pythonhosted.org/packages/1f/56/a81022436c08b9405a5247b71635394d44fe7e1dbedc4b28c740e09c2840/rouge_score-0.0.4-py2.py3-none-any.whl\n",
            "Requirement already satisfied: numpy in /usr/local/lib/python3.6/dist-packages (from rouge_score) (1.18.5)\n",
            "Requirement already satisfied: six>=1.14.0 in /usr/local/lib/python3.6/dist-packages (from rouge_score) (1.15.0)\n",
            "Requirement already satisfied: absl-py in /usr/local/lib/python3.6/dist-packages (from rouge_score) (0.10.0)\n",
            "Requirement already satisfied: nltk in /usr/local/lib/python3.6/dist-packages (from rouge_score) (3.2.5)\n",
            "Installing collected packages: rouge-score\n",
            "Successfully installed rouge-score-0.0.4\n"
          ],
          "name": "stdout"
        }
      ]
    },
    {
      "cell_type": "code",
      "metadata": {
        "id": "wmyVfcMaj5MJ",
        "colab": {
          "base_uri": "https://localhost:8080/"
        },
        "outputId": "cc33cf85-df48-486f-defa-390426a77539"
      },
      "source": [
        "# Generating Rogue score by comparing the last 30 words(l30) and generated 30(g30) words using the first 30 words of the transcript(f30)\n",
        "from rouge_score import rouge_scorer\n",
        "\n",
        "scorer = rouge_scorer.RougeScorer(['rouge1', 'rougeL'], use_stemmer=True)\n",
        "scores = scorer.score(\" \".join(l30),\" \".join(g30))\n",
        "print(scores)"
      ],
      "execution_count": null,
      "outputs": [
        {
          "output_type": "stream",
          "text": [
            "{'rouge1': Score(precision=0.15, recall=0.3, fmeasure=0.2), 'rougeL': Score(precision=0.11666666666666667, recall=0.23333333333333334, fmeasure=0.15555555555555559)}\n"
          ],
          "name": "stdout"
        }
      ]
    },
    {
      "cell_type": "code",
      "metadata": {
        "id": "QhSWeZOPmy9T",
        "colab": {
          "base_uri": "https://localhost:8080/"
        },
        "outputId": "672dbb76-1f83-4ceb-a0fc-94b92eab2f8a"
      },
      "source": [
        "pip install rouge"
      ],
      "execution_count": null,
      "outputs": [
        {
          "output_type": "stream",
          "text": [
            "Requirement already satisfied: rouge in /usr/local/lib/python3.6/dist-packages (1.0.0)\n",
            "Requirement already satisfied: six in /usr/local/lib/python3.6/dist-packages (from rouge) (1.15.0)\n"
          ],
          "name": "stdout"
        }
      ]
    },
    {
      "cell_type": "code",
      "metadata": {
        "id": "-pQGOpWNmjx7",
        "colab": {
          "base_uri": "https://localhost:8080/"
        },
        "outputId": "41b3d423-7325-4ceb-e08e-f371d42425bf"
      },
      "source": [
        "# Generating Rogue score by comparing the last 30 words(l30) and generated 30(g30) words using the first 30 words of the transcript(f30)\n",
        "from rouge import Rouge \n",
        "\n",
        "hypothesis = \" \".join(l30)\n",
        "reference = \" \".join(g30)\n",
        "\n",
        "rouge = Rouge()\n",
        "scores = rouge.get_scores(hypothesis, reference)\n",
        "print(scores)"
      ],
      "execution_count": null,
      "outputs": [
        {
          "output_type": "stream",
          "text": [
            "[{'rouge-1': {'f': 0.19999999555555567, 'p': 0.3, 'r': 0.15}, 'rouge-2': {'f': 0.022727268308368628, 'p': 0.034482758620689655, 'r': 0.01694915254237288}, 'rouge-l': {'f': 0.1643835568549448, 'p': 0.20689655172413793, 'r': 0.13636363636363635}}]\n"
          ],
          "name": "stdout"
        }
      ]
    },
    {
      "cell_type": "code",
      "metadata": {
        "id": "8Nq69HRSKUdG"
      },
      "source": [
        "# Defining a function to calculate the Bleu and Rouge scores for a list of test transcripts\r\n",
        "from rouge import Rouge\r\n",
        "def generateBleuScores(data):\r\n",
        "  bleu_data=[]\r\n",
        "  rouge_data=[]\r\n",
        "  for transcript in data:\r\n",
        "    # print(transcript)\r\n",
        "    tran4words = tran4.split()\r\n",
        "    f30 = tran4words[0:30]\r\n",
        "    l30 = tran4words[30:60]\r\n",
        "    gensent = generateText(net, 30, prime =  \" \".join(f30))\r\n",
        "    g30 = gensent.split()\r\n",
        "    reference = [l30]\r\n",
        "    candidate = g30\r\n",
        "    score = sentence_bleu(reference, candidate)\r\n",
        "    # print(score)\r\n",
        "    bleu_data.append(score)\r\n",
        "\r\n",
        "    hypothesis = \" \".join(l30)\r\n",
        "    reference = \" \".join(g30)\r\n",
        "    rouge = Rouge()\r\n",
        "    rouge_scores = rouge.get_scores(hypothesis, reference)\r\n",
        "    rouge_data.append(rouge_scores[0])\r\n",
        "\r\n",
        "  return bleu_data, rouge_data"
      ],
      "execution_count": null,
      "outputs": []
    },
    {
      "cell_type": "code",
      "metadata": {
        "id": "CIfwW-EbKaOf",
        "colab": {
          "base_uri": "https://localhost:8080/",
          "height": 332
        },
        "outputId": "e8ca3df3-c6b0-42a0-b792-c06e4d63f16b"
      },
      "source": [
        "# Generating a plot for the Bleu scores for the test transcripts\r\n",
        "bleuScores, rougeScores = generateBleuScores(testTranscripts)\r\n",
        "print(\"The bleu scores for test transcripts are: \", bleuScores)\r\n",
        "\r\n",
        "testTranscriptsRange = list(range(1,len(testTranscripts)+1))\r\n",
        "plt.xticks(range(len(bleuScores)), testTranscriptsRange)\r\n",
        "plt.xlabel('Test Transcripts')\r\n",
        "plt.ylabel('Bleu Scores')\r\n",
        "plt.title('Bleu Scores for the test Transcripts')\r\n",
        "plt.bar(range(len(bleuScores)), bleuScores) \r\n",
        "# plt.savefig('BleuScores.png')\r\n",
        "plt.show()"
      ],
      "execution_count": null,
      "outputs": [
        {
          "output_type": "stream",
          "text": [
            "The bleu scores for test transcripts are:  [0.6223329772884784, 0.5623413251903491, 0.5844356470407898, 0.5623413251903491, 0.5844356470407898, 0.21803272427356596, 0.2245483208776255, 0.5623413251903491, 0.6042750794713536, 0.6223329772884784, 0.21803272427356596, 0.5844356470407898, 0.6223329772884784, 0.2245483208776255, 0.5623413251903491]\n"
          ],
          "name": "stdout"
        },
        {
          "output_type": "display_data",
          "data": {
            "image/png": "[encoded data removed]",
            "text/plain": [
              "<Figure size 432x288 with 1 Axes>"
            ]
          },
          "metadata": {
            "tags": [],
            "needs_background": "light"
          }
        }
      ]
    },
    {
      "cell_type": "code",
      "metadata": {
        "colab": {
          "base_uri": "https://localhost:8080/"
        },
        "id": "QhDw9vgobFxC",
        "outputId": "81ebd370-5abd-441f-9a83-5104a7c6e06f"
      },
      "source": [
        "print(\"The Rouge score are as follows: \", rougeScores)"
      ],
      "execution_count": null,
      "outputs": [
        {
          "output_type": "stream",
          "text": [
            "The Rouge score are as follows:  [{'rouge-1': {'f': 0.19999999555555567, 'p': 0.3, 'r': 0.15}, 'rouge-2': {'f': 0.0, 'p': 0.0, 'r': 0.0}, 'rouge-l': {'f': 0.13888888407793226, 'p': 0.1724137931034483, 'r': 0.11627906976744186}}, {'rouge-1': {'f': 0.13333332888888905, 'p': 0.2, 'r': 0.1}, 'rouge-2': {'f': 0.0, 'p': 0.0, 'r': 0.0}, 'rouge-l': {'f': 0.13888888407793226, 'p': 0.1724137931034483, 'r': 0.11627906976744186}}, {'rouge-1': {'f': 0.15555555111111127, 'p': 0.23333333333333334, 'r': 0.11666666666666667}, 'rouge-2': {'f': 0.0, 'p': 0.0, 'r': 0.0}, 'rouge-l': {'f': 0.13698629658097222, 'p': 0.1724137931034483, 'r': 0.11363636363636363}}, {'rouge-1': {'f': 0.13333332888888905, 'p': 0.2, 'r': 0.1}, 'rouge-2': {'f': 0.0, 'p': 0.0, 'r': 0.0}, 'rouge-l': {'f': 0.14285713800408179, 'p': 0.1724137931034483, 'r': 0.12195121951219512}}, {'rouge-1': {'f': 0.15555555111111127, 'p': 0.23333333333333334, 'r': 0.11666666666666667}, 'rouge-2': {'f': 0.0, 'p': 0.0, 'r': 0.0}, 'rouge-l': {'f': 0.17910447270216096, 'p': 0.20689655172413793, 'r': 0.15789473684210525}}, {'rouge-1': {'f': 0.17777777333333344, 'p': 0.26666666666666666, 'r': 0.13333333333333333}, 'rouge-2': {'f': 0.022727268308368628, 'p': 0.034482758620689655, 'r': 0.01694915254237288}, 'rouge-l': {'f': 0.16901407967466786, 'p': 0.20689655172413793, 'r': 0.14285714285714285}}, {'rouge-1': {'f': 0.19999999555555567, 'p': 0.3, 'r': 0.15}, 'rouge-2': {'f': 0.022727268308368628, 'p': 0.034482758620689655, 'r': 0.01694915254237288}, 'rouge-l': {'f': 0.1643835568549448, 'p': 0.20689655172413793, 'r': 0.13636363636363635}}, {'rouge-1': {'f': 0.13333332888888905, 'p': 0.2, 'r': 0.1}, 'rouge-2': {'f': 0.0, 'p': 0.0, 'r': 0.0}, 'rouge-l': {'f': 0.14492753135895836, 'p': 0.1724137931034483, 'r': 0.125}}, {'rouge-1': {'f': 0.17777777333333344, 'p': 0.26666666666666666, 'r': 0.13333333333333333}, 'rouge-2': {'f': 0.0, 'p': 0.0, 'r': 0.0}, 'rouge-l': {'f': 0.17391303860533516, 'p': 0.20689655172413793, 'r': 0.15}}, {'rouge-1': {'f': 0.19999999555555567, 'p': 0.3, 'r': 0.15}, 'rouge-2': {'f': 0.0, 'p': 0.0, 'r': 0.0}, 'rouge-l': {'f': 0.13513513036888256, 'p': 0.1724137931034483, 'r': 0.1111111111111111}}, {'rouge-1': {'f': 0.17777777333333344, 'p': 0.26666666666666666, 'r': 0.13333333333333333}, 'rouge-2': {'f': 0.022727268308368628, 'p': 0.034482758620689655, 'r': 0.01694915254237288}, 'rouge-l': {'f': 0.16901407967466786, 'p': 0.20689655172413793, 'r': 0.14285714285714285}}, {'rouge-1': {'f': 0.15555555111111127, 'p': 0.23333333333333334, 'r': 0.11666666666666667}, 'rouge-2': {'f': 0.0, 'p': 0.0, 'r': 0.0}, 'rouge-l': {'f': 0.13698629658097222, 'p': 0.1724137931034483, 'r': 0.11363636363636363}}, {'rouge-1': {'f': 0.19999999555555567, 'p': 0.3, 'r': 0.15}, 'rouge-2': {'f': 0.0, 'p': 0.0, 'r': 0.0}, 'rouge-l': {'f': 0.17910447270216096, 'p': 0.20689655172413793, 'r': 0.15789473684210525}}, {'rouge-1': {'f': 0.19999999555555567, 'p': 0.3, 'r': 0.15}, 'rouge-2': {'f': 0.022727268308368628, 'p': 0.034482758620689655, 'r': 0.01694915254237288}, 'rouge-l': {'f': 0.16901407967466786, 'p': 0.20689655172413793, 'r': 0.14285714285714285}}, {'rouge-1': {'f': 0.13333332888888905, 'p': 0.2, 'r': 0.1}, 'rouge-2': {'f': 0.0, 'p': 0.0, 'r': 0.0}, 'rouge-l': {'f': 0.1492537264335043, 'p': 0.1724137931034483, 'r': 0.13157894736842105}}]\n"
          ],
          "name": "stdout"
        }
      ]
    },
    {
      "cell_type": "code",
      "metadata": {
        "id": "zQFjbw0J6wFe"
      },
      "source": [
        "# Generating a tabular view to display Rouge scores for the test transcripts\r\n",
        "import csv\r\n",
        "\r\n",
        "with open('RougeScoreReport.csv', 'a') as file:\r\n",
        "     writer = csv.writer(file)\r\n",
        "     writer.writerow([\"Transcript\", \" \", \"Rouge-1\", \"  \", \"   \", \"Rouge-2\", \"    \", \"       \", \"Rouge-l\", \"          \"])\r\n",
        "     writer.writerow([\" \", \"f value\", \"p value\", \"r value\", \"f value\", \"p value\", \"r value\", \"f value\", \"p value\", \"r value\"])\r\n",
        "     no = 0;\r\n",
        "     for temp in rougeScores:\r\n",
        "       no +=1\r\n",
        "       writer.writerow([no, temp[\"rouge-1\"][\"f\"], temp[\"rouge-1\"][\"p\"], temp[\"rouge-1\"][\"r\"], temp[\"rouge-2\"][\"f\"], temp[\"rouge-2\"][\"p\"], temp[\"rouge-2\"][\"r\"], temp[\"rouge-l\"][\"f\"], temp[\"rouge-l\"][\"p\"], temp[\"rouge-l\"][\"r\"]])"
      ],
      "execution_count": null,
      "outputs": []
    },
    {
      "cell_type": "code",
      "metadata": {
        "colab": {
          "base_uri": "https://localhost:8080/",
          "height": 547
        },
        "id": "dS8ffajW61Sf",
        "outputId": "d86426eb-c15a-4fdb-f2bb-2c998f78049f"
      },
      "source": [
        "df = pd.read_csv(\"RougeScoreReport.csv\")\r\n",
        "blankIndex=[''] * len(df)\r\n",
        "df.index=blankIndex\r\n",
        "df"
      ],
      "execution_count": null,
      "outputs": [
        {
          "output_type": "execute_result",
          "data": {
            "text/html": [
              "<div>\n",
              "<style scoped>\n",
              "    .dataframe tbody tr th:only-of-type {\n",
              "        vertical-align: middle;\n",
              "    }\n",
              "\n",
              "    .dataframe tbody tr th {\n",
              "        vertical-align: top;\n",
              "    }\n",
              "\n",
              "    .dataframe thead th {\n",
              "        text-align: right;\n",
              "    }\n",
              "</style>\n",
              "<table border=\"1\" class=\"dataframe\">\n",
              "  <thead>\n",
              "    <tr style=\"text-align: right;\">\n",
              "      <th></th>\n",
              "      <th>Transcript</th>\n",
              "      <th></th>\n",
              "      <th>Rouge-1</th>\n",
              "      <th></th>\n",
              "      <th></th>\n",
              "      <th>Rouge-2</th>\n",
              "      <th></th>\n",
              "      <th></th>\n",
              "      <th>Rouge-l</th>\n",
              "      <th></th>\n",
              "    </tr>\n",
              "  </thead>\n",
              "  <tbody>\n",
              "    <tr>\n",
              "      <th></th>\n",
              "      <td></td>\n",
              "      <td>f value</td>\n",
              "      <td>p value</td>\n",
              "      <td>r value</td>\n",
              "      <td>f value</td>\n",
              "      <td>p value</td>\n",
              "      <td>r value</td>\n",
              "      <td>f value</td>\n",
              "      <td>p value</td>\n",
              "      <td>r value</td>\n",
              "    </tr>\n",
              "    <tr>\n",
              "      <th></th>\n",
              "      <td>1</td>\n",
              "      <td>0.19999999555555567</td>\n",
              "      <td>0.3</td>\n",
              "      <td>0.15</td>\n",
              "      <td>0.0</td>\n",
              "      <td>0.0</td>\n",
              "      <td>0.0</td>\n",
              "      <td>0.13888888407793226</td>\n",
              "      <td>0.1724137931034483</td>\n",
              "      <td>0.11627906976744186</td>\n",
              "    </tr>\n",
              "    <tr>\n",
              "      <th></th>\n",
              "      <td>2</td>\n",
              "      <td>0.13333332888888905</td>\n",
              "      <td>0.2</td>\n",
              "      <td>0.1</td>\n",
              "      <td>0.0</td>\n",
              "      <td>0.0</td>\n",
              "      <td>0.0</td>\n",
              "      <td>0.13888888407793226</td>\n",
              "      <td>0.1724137931034483</td>\n",
              "      <td>0.11627906976744186</td>\n",
              "    </tr>\n",
              "    <tr>\n",
              "      <th></th>\n",
              "      <td>3</td>\n",
              "      <td>0.15555555111111127</td>\n",
              "      <td>0.23333333333333334</td>\n",
              "      <td>0.11666666666666667</td>\n",
              "      <td>0.0</td>\n",
              "      <td>0.0</td>\n",
              "      <td>0.0</td>\n",
              "      <td>0.13698629658097222</td>\n",
              "      <td>0.1724137931034483</td>\n",
              "      <td>0.11363636363636363</td>\n",
              "    </tr>\n",
              "    <tr>\n",
              "      <th></th>\n",
              "      <td>4</td>\n",
              "      <td>0.13333332888888905</td>\n",
              "      <td>0.2</td>\n",
              "      <td>0.1</td>\n",
              "      <td>0.0</td>\n",
              "      <td>0.0</td>\n",
              "      <td>0.0</td>\n",
              "      <td>0.14285713800408179</td>\n",
              "      <td>0.1724137931034483</td>\n",
              "      <td>0.12195121951219512</td>\n",
              "    </tr>\n",
              "    <tr>\n",
              "      <th></th>\n",
              "      <td>5</td>\n",
              "      <td>0.15555555111111127</td>\n",
              "      <td>0.23333333333333334</td>\n",
              "      <td>0.11666666666666667</td>\n",
              "      <td>0.0</td>\n",
              "      <td>0.0</td>\n",
              "      <td>0.0</td>\n",
              "      <td>0.17910447270216096</td>\n",
              "      <td>0.20689655172413793</td>\n",
              "      <td>0.15789473684210525</td>\n",
              "    </tr>\n",
              "    <tr>\n",
              "      <th></th>\n",
              "      <td>6</td>\n",
              "      <td>0.17777777333333344</td>\n",
              "      <td>0.26666666666666666</td>\n",
              "      <td>0.13333333333333333</td>\n",
              "      <td>0.022727268308368628</td>\n",
              "      <td>0.034482758620689655</td>\n",
              "      <td>0.01694915254237288</td>\n",
              "      <td>0.16901407967466786</td>\n",
              "      <td>0.20689655172413793</td>\n",
              "      <td>0.14285714285714285</td>\n",
              "    </tr>\n",
              "    <tr>\n",
              "      <th></th>\n",
              "      <td>7</td>\n",
              "      <td>0.19999999555555567</td>\n",
              "      <td>0.3</td>\n",
              "      <td>0.15</td>\n",
              "      <td>0.022727268308368628</td>\n",
              "      <td>0.034482758620689655</td>\n",
              "      <td>0.01694915254237288</td>\n",
              "      <td>0.1643835568549448</td>\n",
              "      <td>0.20689655172413793</td>\n",
              "      <td>0.13636363636363635</td>\n",
              "    </tr>\n",
              "    <tr>\n",
              "      <th></th>\n",
              "      <td>8</td>\n",
              "      <td>0.13333332888888905</td>\n",
              "      <td>0.2</td>\n",
              "      <td>0.1</td>\n",
              "      <td>0.0</td>\n",
              "      <td>0.0</td>\n",
              "      <td>0.0</td>\n",
              "      <td>0.14492753135895836</td>\n",
              "      <td>0.1724137931034483</td>\n",
              "      <td>0.125</td>\n",
              "    </tr>\n",
              "    <tr>\n",
              "      <th></th>\n",
              "      <td>9</td>\n",
              "      <td>0.17777777333333344</td>\n",
              "      <td>0.26666666666666666</td>\n",
              "      <td>0.13333333333333333</td>\n",
              "      <td>0.0</td>\n",
              "      <td>0.0</td>\n",
              "      <td>0.0</td>\n",
              "      <td>0.17391303860533516</td>\n",
              "      <td>0.20689655172413793</td>\n",
              "      <td>0.15</td>\n",
              "    </tr>\n",
              "    <tr>\n",
              "      <th></th>\n",
              "      <td>10</td>\n",
              "      <td>0.19999999555555567</td>\n",
              "      <td>0.3</td>\n",
              "      <td>0.15</td>\n",
              "      <td>0.0</td>\n",
              "      <td>0.0</td>\n",
              "      <td>0.0</td>\n",
              "      <td>0.13513513036888256</td>\n",
              "      <td>0.1724137931034483</td>\n",
              "      <td>0.1111111111111111</td>\n",
              "    </tr>\n",
              "    <tr>\n",
              "      <th></th>\n",
              "      <td>11</td>\n",
              "      <td>0.17777777333333344</td>\n",
              "      <td>0.26666666666666666</td>\n",
              "      <td>0.13333333333333333</td>\n",
              "      <td>0.022727268308368628</td>\n",
              "      <td>0.034482758620689655</td>\n",
              "      <td>0.01694915254237288</td>\n",
              "      <td>0.16901407967466786</td>\n",
              "      <td>0.20689655172413793</td>\n",
              "      <td>0.14285714285714285</td>\n",
              "    </tr>\n",
              "    <tr>\n",
              "      <th></th>\n",
              "      <td>12</td>\n",
              "      <td>0.15555555111111127</td>\n",
              "      <td>0.23333333333333334</td>\n",
              "      <td>0.11666666666666667</td>\n",
              "      <td>0.0</td>\n",
              "      <td>0.0</td>\n",
              "      <td>0.0</td>\n",
              "      <td>0.13698629658097222</td>\n",
              "      <td>0.1724137931034483</td>\n",
              "      <td>0.11363636363636363</td>\n",
              "    </tr>\n",
              "    <tr>\n",
              "      <th></th>\n",
              "      <td>13</td>\n",
              "      <td>0.19999999555555567</td>\n",
              "      <td>0.3</td>\n",
              "      <td>0.15</td>\n",
              "      <td>0.0</td>\n",
              "      <td>0.0</td>\n",
              "      <td>0.0</td>\n",
              "      <td>0.17910447270216096</td>\n",
              "      <td>0.20689655172413793</td>\n",
              "      <td>0.15789473684210525</td>\n",
              "    </tr>\n",
              "    <tr>\n",
              "      <th></th>\n",
              "      <td>14</td>\n",
              "      <td>0.19999999555555567</td>\n",
              "      <td>0.3</td>\n",
              "      <td>0.15</td>\n",
              "      <td>0.022727268308368628</td>\n",
              "      <td>0.034482758620689655</td>\n",
              "      <td>0.01694915254237288</td>\n",
              "      <td>0.16901407967466786</td>\n",
              "      <td>0.20689655172413793</td>\n",
              "      <td>0.14285714285714285</td>\n",
              "    </tr>\n",
              "    <tr>\n",
              "      <th></th>\n",
              "      <td>15</td>\n",
              "      <td>0.13333332888888905</td>\n",
              "      <td>0.2</td>\n",
              "      <td>0.1</td>\n",
              "      <td>0.0</td>\n",
              "      <td>0.0</td>\n",
              "      <td>0.0</td>\n",
              "      <td>0.1492537264335043</td>\n",
              "      <td>0.1724137931034483</td>\n",
              "      <td>0.13157894736842105</td>\n",
              "    </tr>\n",
              "  </tbody>\n",
              "</table>\n",
              "</div>"
            ],
            "text/plain": [
              " Transcript                       ...              Rouge-l                     \n",
              "                         f value  ...              p value              r value\n",
              "          1  0.19999999555555567  ...   0.1724137931034483  0.11627906976744186\n",
              "          2  0.13333332888888905  ...   0.1724137931034483  0.11627906976744186\n",
              "          3  0.15555555111111127  ...   0.1724137931034483  0.11363636363636363\n",
              "          4  0.13333332888888905  ...   0.1724137931034483  0.12195121951219512\n",
              "          5  0.15555555111111127  ...  0.20689655172413793  0.15789473684210525\n",
              "          6  0.17777777333333344  ...  0.20689655172413793  0.14285714285714285\n",
              "          7  0.19999999555555567  ...  0.20689655172413793  0.13636363636363635\n",
              "          8  0.13333332888888905  ...   0.1724137931034483                0.125\n",
              "          9  0.17777777333333344  ...  0.20689655172413793                 0.15\n",
              "         10  0.19999999555555567  ...   0.1724137931034483   0.1111111111111111\n",
              "         11  0.17777777333333344  ...  0.20689655172413793  0.14285714285714285\n",
              "         12  0.15555555111111127  ...   0.1724137931034483  0.11363636363636363\n",
              "         13  0.19999999555555567  ...  0.20689655172413793  0.15789473684210525\n",
              "         14  0.19999999555555567  ...  0.20689655172413793  0.14285714285714285\n",
              "         15  0.13333332888888905  ...   0.1724137931034483  0.13157894736842105\n",
              "\n",
              "[16 rows x 10 columns]"
            ]
          },
          "metadata": {
            "tags": []
          },
          "execution_count": 54
        }
      ]
    },
    {
      "cell_type": "markdown",
      "metadata": {
        "id": "52SNlecctwwG"
      },
      "source": [
        "# **Testing the Model**"
      ]
    },
    {
      "cell_type": "markdown",
      "metadata": {
        "id": "jv1ILHWqt3g4"
      },
      "source": [
        "#### Testing the Model with different number of transcripts and generated report as below"
      ]
    },
    {
      "cell_type": "code",
      "metadata": {
        "colab": {
          "base_uri": "https://localhost:8080/",
          "height": 137
        },
        "id": "I3KRjR4cUVmt",
        "outputId": "536c12a9-2540-4534-f835-1e8d758f14d4"
      },
      "source": [
        "import pandas as pd;\r\n",
        "\r\n",
        "df = pd.read_csv(\"/content/drive/MyDrive/NLP/ModeltestReport_tSizes.csv\")\r\n",
        "blankIndex=[''] * len(df)\r\n",
        "df.index=blankIndex\r\n",
        "df"
      ],
      "execution_count": null,
      "outputs": [
        {
          "output_type": "execute_result",
          "data": {
            "text/html": [
              "<div>\n",
              "<style scoped>\n",
              "    .dataframe tbody tr th:only-of-type {\n",
              "        vertical-align: middle;\n",
              "    }\n",
              "\n",
              "    .dataframe tbody tr th {\n",
              "        vertical-align: top;\n",
              "    }\n",
              "\n",
              "    .dataframe thead th {\n",
              "        text-align: right;\n",
              "    }\n",
              "</style>\n",
              "<table border=\"1\" class=\"dataframe\">\n",
              "  <thead>\n",
              "    <tr style=\"text-align: right;\">\n",
              "      <th></th>\n",
              "      <th>TranscriptsSize</th>\n",
              "      <th>RandomSentence</th>\n",
              "      <th>PrefixSentence(they)</th>\n",
              "      <th>BLEU Score</th>\n",
              "    </tr>\n",
              "  </thead>\n",
              "  <tbody>\n",
              "    <tr>\n",
              "      <th></th>\n",
              "      <td>30</td>\n",
              "      <td>today the first half the first half the georgi...</td>\n",
              "      <td>they can do that and the tigers are a good job...</td>\n",
              "      <td>0.218033</td>\n",
              "    </tr>\n",
              "    <tr>\n",
              "      <th></th>\n",
              "      <td>50</td>\n",
              "      <td>today but i mean you know i don't want a lot a...</td>\n",
              "      <td>they were in the middle and i think you have t...</td>\n",
              "      <td>0.562341</td>\n",
              "    </tr>\n",
              "    <tr>\n",
              "      <th></th>\n",
              "      <td>70</td>\n",
              "      <td>today and he was a freshman and you know you c...</td>\n",
              "      <td>they had a great play and he has to be the bes...</td>\n",
              "      <td>0.594548</td>\n",
              "    </tr>\n",
              "  </tbody>\n",
              "</table>\n",
              "</div>"
            ],
            "text/plain": [
              "  TranscriptsSize  ... BLEU Score\n",
              "               30  ...   0.218033\n",
              "               50  ...   0.562341\n",
              "               70  ...   0.594548\n",
              "\n",
              "[3 rows x 4 columns]"
            ]
          },
          "metadata": {
            "tags": []
          },
          "execution_count": 57
        }
      ]
    },
    {
      "cell_type": "markdown",
      "metadata": {
        "id": "9e3OjcaiQIgO"
      },
      "source": [
        "# **Tuning the Model**"
      ]
    },
    {
      "cell_type": "markdown",
      "metadata": {
        "id": "bVFrBMQVv7Yk"
      },
      "source": [
        "####  1)Tuning the Model with different number of HiddenUnits and generated report as below"
      ]
    },
    {
      "cell_type": "code",
      "metadata": {
        "colab": {
          "base_uri": "https://localhost:8080/",
          "height": 137
        },
        "id": "z4vgAlyBUVpP",
        "outputId": "e26a094e-dac5-4127-fc78-e7b36b8676e7"
      },
      "source": [
        "df = pd.read_csv(\"/content/drive/MyDrive/NLP/HyperParameterReport_HiddenUnits.csv\")\r\n",
        "blankIndex=[''] * len(df)\r\n",
        "df.index=blankIndex\r\n",
        "df"
      ],
      "execution_count": null,
      "outputs": [
        {
          "output_type": "execute_result",
          "data": {
            "text/html": [
              "<div>\n",
              "<style scoped>\n",
              "    .dataframe tbody tr th:only-of-type {\n",
              "        vertical-align: middle;\n",
              "    }\n",
              "\n",
              "    .dataframe tbody tr th {\n",
              "        vertical-align: top;\n",
              "    }\n",
              "\n",
              "    .dataframe thead th {\n",
              "        text-align: right;\n",
              "    }\n",
              "</style>\n",
              "<table border=\"1\" class=\"dataframe\">\n",
              "  <thead>\n",
              "    <tr style=\"text-align: right;\">\n",
              "      <th></th>\n",
              "      <th>hiddenUnits</th>\n",
              "      <th>LearningRate</th>\n",
              "      <th>RandomSentence</th>\n",
              "      <th>PrefixSentence(they)</th>\n",
              "      <th>BleuScore</th>\n",
              "    </tr>\n",
              "  </thead>\n",
              "  <tbody>\n",
              "    <tr>\n",
              "      <th></th>\n",
              "      <td>156</td>\n",
              "      <td>0.001</td>\n",
              "      <td>today for usc i don't think that is the first ...</td>\n",
              "      <td>they got a little high but you have the ball d...</td>\n",
              "      <td>0.432341</td>\n",
              "    </tr>\n",
              "    <tr>\n",
              "      <th></th>\n",
              "      <td>256</td>\n",
              "      <td>0.001</td>\n",
              "      <td>today for this team that will have the ball an...</td>\n",
              "      <td>they were the best quarterback and the first d...</td>\n",
              "      <td>0.584435</td>\n",
              "    </tr>\n",
              "    <tr>\n",
              "      <th></th>\n",
              "      <td>356</td>\n",
              "      <td>0.001</td>\n",
              "      <td>today in a game in this series and they were g...</td>\n",
              "      <td>they have a big win in the acc game of this se...</td>\n",
              "      <td>0.622333</td>\n",
              "    </tr>\n",
              "  </tbody>\n",
              "</table>\n",
              "</div>"
            ],
            "text/plain": [
              "  hiddenUnits  ...  BleuScore\n",
              "          156  ...   0.432341\n",
              "          256  ...   0.584435\n",
              "          356  ...   0.622333\n",
              "\n",
              "[3 rows x 5 columns]"
            ]
          },
          "metadata": {
            "tags": []
          },
          "execution_count": 59
        }
      ]
    },
    {
      "cell_type": "markdown",
      "metadata": {
        "id": "UNZSg5tMzo4W"
      },
      "source": [
        "####  2)Tuning the Model with different LearningRate and generated report as below"
      ]
    },
    {
      "cell_type": "code",
      "metadata": {
        "colab": {
          "base_uri": "https://localhost:8080/",
          "height": 137
        },
        "id": "5hv7tB1FUVsC",
        "outputId": "607cab05-328b-4be9-b2b3-53b1fe755b9e"
      },
      "source": [
        "df = pd.read_csv(\"/content/drive/MyDrive/NLP/HyperParameterReport_LearningRate.csv\")\r\n",
        "blankIndex=[''] * len(df)\r\n",
        "df.index=blankIndex\r\n",
        "df"
      ],
      "execution_count": null,
      "outputs": [
        {
          "output_type": "execute_result",
          "data": {
            "text/html": [
              "<div>\n",
              "<style scoped>\n",
              "    .dataframe tbody tr th:only-of-type {\n",
              "        vertical-align: middle;\n",
              "    }\n",
              "\n",
              "    .dataframe tbody tr th {\n",
              "        vertical-align: top;\n",
              "    }\n",
              "\n",
              "    .dataframe thead th {\n",
              "        text-align: right;\n",
              "    }\n",
              "</style>\n",
              "<table border=\"1\" class=\"dataframe\">\n",
              "  <thead>\n",
              "    <tr style=\"text-align: right;\">\n",
              "      <th></th>\n",
              "      <th>hiddenUnits</th>\n",
              "      <th>LearningRate</th>\n",
              "      <th>RandomSentence</th>\n",
              "      <th>PrefixSentence(they)</th>\n",
              "      <th>BleuScore</th>\n",
              "    </tr>\n",
              "  </thead>\n",
              "  <tbody>\n",
              "    <tr>\n",
              "      <th></th>\n",
              "      <td>256</td>\n",
              "      <td>0.010</td>\n",
              "      <td>today his the the the the a and the the and a ...</td>\n",
              "      <td>they the the and the the a and a the the a the...</td>\n",
              "      <td>0.562341</td>\n",
              "    </tr>\n",
              "    <tr>\n",
              "      <th></th>\n",
              "      <td>256</td>\n",
              "      <td>0.050</td>\n",
              "      <td>today a the the to to to the the to the to a a...</td>\n",
              "      <td>they to to a a a to the to the the a a the a a...</td>\n",
              "      <td>0.584436</td>\n",
              "    </tr>\n",
              "    <tr>\n",
              "      <th></th>\n",
              "      <td>256</td>\n",
              "      <td>0.001</td>\n",
              "      <td>today the ers were leading to the vikings and ...</td>\n",
              "      <td>they have to get it in the fourth half the ers...</td>\n",
              "      <td>0.654350</td>\n",
              "    </tr>\n",
              "  </tbody>\n",
              "</table>\n",
              "</div>"
            ],
            "text/plain": [
              "  hiddenUnits  ...  BleuScore\n",
              "          256  ...   0.562341\n",
              "          256  ...   0.584436\n",
              "          256  ...   0.654350\n",
              "\n",
              "[3 rows x 5 columns]"
            ]
          },
          "metadata": {
            "tags": []
          },
          "execution_count": 61
        }
      ]
    }
  ]
}